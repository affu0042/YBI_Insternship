{
  "nbformat": 4,
  "nbformat_minor": 0,
  "metadata": {
    "colab": {
      "provenance": [],
      "gpuType": "T4"
    },
    "kernelspec": {
      "name": "python3",
      "display_name": "Python 3"
    },
    "language_info": {
      "name": "python"
    },
    "accelerator": "GPU"
  },
  "cells": [
    {
      "cell_type": "markdown",
      "source": [
        "**Movie Recommendation System**\n",
        "\n",
        "> **Recommender System** is a system that seeks to predict or filter preferences according to the user’s choices. Recommender systems are utilized in a variety of areas including movies, music, news, books, research articles, search queries, social tags, and products in general. Recommender systems produce a list of recommendations in any of the two ways –\n",
        "\n",
        "> **Collaborative filtering**: Collaborative filtering approaches build a model from the user’s past behavior (i.e., items purchased or searched by the user) as well as similar decisions made by other users. This model is then used to predict items (or ratings for items) that users may have an interest in.\n",
        "\n",
        "> **Content-based filtering**: Content-based filtering approaches use a series of discrete characteristics of an item in order to recommend additional items with similar properties. Content-based filtering methods are totally based on a description of the item and a profile of the user’s preferences. It recommends items based on the user’s past preferences.\n",
        "\n",
        "> Let’s develop a basic recommendation system by suggesting items that are most similar to a particular item, in this case, movies. It just tells what movies/items are most similar to the user’s movie choice."
      ],
      "metadata": {
        "id": "X1khHsMPGglW"
      }
    },
    {
      "cell_type": "markdown",
      "source": [
        "**Import Library**"
      ],
      "metadata": {
        "id": "PosAmhSFHLkH"
      }
    },
    {
      "cell_type": "code",
      "execution_count": 1,
      "metadata": {
        "id": "P5jblss6FM5w"
      },
      "outputs": [],
      "source": [
        "import pandas as pd\n",
        "import numpy as np\n",
        "import difflib\n",
        "from sklearn.feature_extraction.text import TfidfVectorizer\n",
        "from sklearn.metrics.pairwise import cosine_similarity"
      ]
    },
    {
      "cell_type": "markdown",
      "source": [
        "**Import Dataset**"
      ],
      "metadata": {
        "id": "zA4zgcwAHi3i"
      }
    },
    {
      "cell_type": "code",
      "source": [
        "df = pd.read_csv('https://raw.githubusercontent.com/YBI-Foundation/Dataset/refs/heads/main/Movies%20Recommendation.csv')"
      ],
      "metadata": {
        "id": "BPSmO_dNFdKX"
      },
      "execution_count": 2,
      "outputs": []
    },
    {
      "cell_type": "code",
      "source": [
        "df.head()"
      ],
      "metadata": {
        "colab": {
          "base_uri": "https://localhost:8080/",
          "height": 672
        },
        "id": "gebAlkWJFx-T",
        "outputId": "0c71140d-a2a7-4a60-d856-5410a20c39ac"
      },
      "execution_count": 3,
      "outputs": [
        {
          "output_type": "execute_result",
          "data": {
            "text/plain": [
              "   Movie_ID      Movie_Title                       Movie_Genre Movie_Language  \\\n",
              "0         1       Four Rooms                      Crime Comedy             en   \n",
              "1         2        Star Wars  Adventure Action Science Fiction             en   \n",
              "2         3     Finding Nemo                  Animation Family             en   \n",
              "3         4     Forrest Gump              Comedy Drama Romance             en   \n",
              "4         5  American Beauty                             Drama             en   \n",
              "\n",
              "   Movie_Budget  Movie_Popularity Movie_Release_Date  Movie_Revenue  \\\n",
              "0       4000000         22.876230         09-12-1995        4300000   \n",
              "1      11000000        126.393695         25-05-1977      775398007   \n",
              "2      94000000         85.688789         30-05-2003      940335536   \n",
              "3      55000000        138.133331         06-07-1994      677945399   \n",
              "4      15000000         80.878605         15-09-1999      356296601   \n",
              "\n",
              "   Movie_Runtime  Movie_Vote  ...  \\\n",
              "0           98.0         6.5  ...   \n",
              "1          121.0         8.1  ...   \n",
              "2          100.0         7.6  ...   \n",
              "3          142.0         8.2  ...   \n",
              "4          122.0         7.9  ...   \n",
              "\n",
              "                                      Movie_Homepage  \\\n",
              "0                                                NaN   \n",
              "1  http://www.starwars.com/films/star-wars-episod...   \n",
              "2              http://movies.disney.com/finding-nemo   \n",
              "3                                                NaN   \n",
              "4                      http://www.dreamworks.com/ab/   \n",
              "\n",
              "                                      Movie_Keywords  \\\n",
              "0          hotel new year's eve witch bet hotel room   \n",
              "1        android galaxy hermit death star lightsaber   \n",
              "2  father son relationship harbor underwater fish...   \n",
              "3  vietnam veteran hippie mentally disabled runni...   \n",
              "4  male nudity female nudity adultery midlife cri...   \n",
              "\n",
              "                                      Movie_Overview  \\\n",
              "0  It's Ted the Bellhop's first night on the job....   \n",
              "1  Princess Leia is captured and held hostage by ...   \n",
              "2  Nemo, an adventurous young clownfish, is unexp...   \n",
              "3  A man with a low IQ has accomplished great thi...   \n",
              "4  Lester Burnham, a depressed suburban father in...   \n",
              "\n",
              "                              Movie_Production_House  \\\n",
              "0  [{\"name\": \"Miramax Films\", \"id\": 14}, {\"name\":...   \n",
              "1  [{\"name\": \"Lucasfilm\", \"id\": 1}, {\"name\": \"Twe...   \n",
              "2     [{\"name\": \"Pixar Animation Studios\", \"id\": 3}]   \n",
              "3          [{\"name\": \"Paramount Pictures\", \"id\": 4}]   \n",
              "4  [{\"name\": \"DreamWorks SKG\", \"id\": 27}, {\"name\"...   \n",
              "\n",
              "                            Movie_Production_Country  \\\n",
              "0  [{\"iso_3166_1\": \"US\", \"name\": \"United States o...   \n",
              "1  [{\"iso_3166_1\": \"US\", \"name\": \"United States o...   \n",
              "2  [{\"iso_3166_1\": \"US\", \"name\": \"United States o...   \n",
              "3  [{\"iso_3166_1\": \"US\", \"name\": \"United States o...   \n",
              "4  [{\"iso_3166_1\": \"US\", \"name\": \"United States o...   \n",
              "\n",
              "                      Movie_Spoken_Language  \\\n",
              "0  [{\"iso_639_1\": \"en\", \"name\": \"English\"}]   \n",
              "1  [{\"iso_639_1\": \"en\", \"name\": \"English\"}]   \n",
              "2  [{\"iso_639_1\": \"en\", \"name\": \"English\"}]   \n",
              "3  [{\"iso_639_1\": \"en\", \"name\": \"English\"}]   \n",
              "4  [{\"iso_639_1\": \"en\", \"name\": \"English\"}]   \n",
              "\n",
              "                                       Movie_Tagline  \\\n",
              "0  Twelve outrageous guests. Four scandalous requ...   \n",
              "1       A long time ago in a galaxy far, far away...   \n",
              "2  There are 3.7 trillion fish in the ocean, they...   \n",
              "3  The world will never be the same, once you've ...   \n",
              "4                                       Look closer.   \n",
              "\n",
              "                                          Movie_Cast  \\\n",
              "0  Tim Roth Antonio Banderas Jennifer Beals Madon...   \n",
              "1  Mark Hamill Harrison Ford Carrie Fisher Peter ...   \n",
              "2  Albert Brooks Ellen DeGeneres Alexander Gould ...   \n",
              "3  Tom Hanks Robin Wright Gary Sinise Mykelti Wil...   \n",
              "4  Kevin Spacey Annette Bening Thora Birch Wes Be...   \n",
              "\n",
              "                                          Movie_Crew   Movie_Director  \n",
              "0  [{'name': 'Allison Anders', 'gender': 1, 'depa...   Allison Anders  \n",
              "1  [{'name': 'George Lucas', 'gender': 2, 'depart...     George Lucas  \n",
              "2  [{'name': 'Andrew Stanton', 'gender': 2, 'depa...   Andrew Stanton  \n",
              "3  [{'name': 'Alan Silvestri', 'gender': 2, 'depa...  Robert Zemeckis  \n",
              "4  [{'name': 'Thomas Newman', 'gender': 2, 'depar...       Sam Mendes  \n",
              "\n",
              "[5 rows x 21 columns]"
            ],
            "text/html": [
              "\n",
              "  <div id=\"df-1cc08482-5174-47b8-beaa-8454142d6372\" class=\"colab-df-container\">\n",
              "    <div>\n",
              "<style scoped>\n",
              "    .dataframe tbody tr th:only-of-type {\n",
              "        vertical-align: middle;\n",
              "    }\n",
              "\n",
              "    .dataframe tbody tr th {\n",
              "        vertical-align: top;\n",
              "    }\n",
              "\n",
              "    .dataframe thead th {\n",
              "        text-align: right;\n",
              "    }\n",
              "</style>\n",
              "<table border=\"1\" class=\"dataframe\">\n",
              "  <thead>\n",
              "    <tr style=\"text-align: right;\">\n",
              "      <th></th>\n",
              "      <th>Movie_ID</th>\n",
              "      <th>Movie_Title</th>\n",
              "      <th>Movie_Genre</th>\n",
              "      <th>Movie_Language</th>\n",
              "      <th>Movie_Budget</th>\n",
              "      <th>Movie_Popularity</th>\n",
              "      <th>Movie_Release_Date</th>\n",
              "      <th>Movie_Revenue</th>\n",
              "      <th>Movie_Runtime</th>\n",
              "      <th>Movie_Vote</th>\n",
              "      <th>...</th>\n",
              "      <th>Movie_Homepage</th>\n",
              "      <th>Movie_Keywords</th>\n",
              "      <th>Movie_Overview</th>\n",
              "      <th>Movie_Production_House</th>\n",
              "      <th>Movie_Production_Country</th>\n",
              "      <th>Movie_Spoken_Language</th>\n",
              "      <th>Movie_Tagline</th>\n",
              "      <th>Movie_Cast</th>\n",
              "      <th>Movie_Crew</th>\n",
              "      <th>Movie_Director</th>\n",
              "    </tr>\n",
              "  </thead>\n",
              "  <tbody>\n",
              "    <tr>\n",
              "      <th>0</th>\n",
              "      <td>1</td>\n",
              "      <td>Four Rooms</td>\n",
              "      <td>Crime Comedy</td>\n",
              "      <td>en</td>\n",
              "      <td>4000000</td>\n",
              "      <td>22.876230</td>\n",
              "      <td>09-12-1995</td>\n",
              "      <td>4300000</td>\n",
              "      <td>98.0</td>\n",
              "      <td>6.5</td>\n",
              "      <td>...</td>\n",
              "      <td>NaN</td>\n",
              "      <td>hotel new year's eve witch bet hotel room</td>\n",
              "      <td>It's Ted the Bellhop's first night on the job....</td>\n",
              "      <td>[{\"name\": \"Miramax Films\", \"id\": 14}, {\"name\":...</td>\n",
              "      <td>[{\"iso_3166_1\": \"US\", \"name\": \"United States o...</td>\n",
              "      <td>[{\"iso_639_1\": \"en\", \"name\": \"English\"}]</td>\n",
              "      <td>Twelve outrageous guests. Four scandalous requ...</td>\n",
              "      <td>Tim Roth Antonio Banderas Jennifer Beals Madon...</td>\n",
              "      <td>[{'name': 'Allison Anders', 'gender': 1, 'depa...</td>\n",
              "      <td>Allison Anders</td>\n",
              "    </tr>\n",
              "    <tr>\n",
              "      <th>1</th>\n",
              "      <td>2</td>\n",
              "      <td>Star Wars</td>\n",
              "      <td>Adventure Action Science Fiction</td>\n",
              "      <td>en</td>\n",
              "      <td>11000000</td>\n",
              "      <td>126.393695</td>\n",
              "      <td>25-05-1977</td>\n",
              "      <td>775398007</td>\n",
              "      <td>121.0</td>\n",
              "      <td>8.1</td>\n",
              "      <td>...</td>\n",
              "      <td>http://www.starwars.com/films/star-wars-episod...</td>\n",
              "      <td>android galaxy hermit death star lightsaber</td>\n",
              "      <td>Princess Leia is captured and held hostage by ...</td>\n",
              "      <td>[{\"name\": \"Lucasfilm\", \"id\": 1}, {\"name\": \"Twe...</td>\n",
              "      <td>[{\"iso_3166_1\": \"US\", \"name\": \"United States o...</td>\n",
              "      <td>[{\"iso_639_1\": \"en\", \"name\": \"English\"}]</td>\n",
              "      <td>A long time ago in a galaxy far, far away...</td>\n",
              "      <td>Mark Hamill Harrison Ford Carrie Fisher Peter ...</td>\n",
              "      <td>[{'name': 'George Lucas', 'gender': 2, 'depart...</td>\n",
              "      <td>George Lucas</td>\n",
              "    </tr>\n",
              "    <tr>\n",
              "      <th>2</th>\n",
              "      <td>3</td>\n",
              "      <td>Finding Nemo</td>\n",
              "      <td>Animation Family</td>\n",
              "      <td>en</td>\n",
              "      <td>94000000</td>\n",
              "      <td>85.688789</td>\n",
              "      <td>30-05-2003</td>\n",
              "      <td>940335536</td>\n",
              "      <td>100.0</td>\n",
              "      <td>7.6</td>\n",
              "      <td>...</td>\n",
              "      <td>http://movies.disney.com/finding-nemo</td>\n",
              "      <td>father son relationship harbor underwater fish...</td>\n",
              "      <td>Nemo, an adventurous young clownfish, is unexp...</td>\n",
              "      <td>[{\"name\": \"Pixar Animation Studios\", \"id\": 3}]</td>\n",
              "      <td>[{\"iso_3166_1\": \"US\", \"name\": \"United States o...</td>\n",
              "      <td>[{\"iso_639_1\": \"en\", \"name\": \"English\"}]</td>\n",
              "      <td>There are 3.7 trillion fish in the ocean, they...</td>\n",
              "      <td>Albert Brooks Ellen DeGeneres Alexander Gould ...</td>\n",
              "      <td>[{'name': 'Andrew Stanton', 'gender': 2, 'depa...</td>\n",
              "      <td>Andrew Stanton</td>\n",
              "    </tr>\n",
              "    <tr>\n",
              "      <th>3</th>\n",
              "      <td>4</td>\n",
              "      <td>Forrest Gump</td>\n",
              "      <td>Comedy Drama Romance</td>\n",
              "      <td>en</td>\n",
              "      <td>55000000</td>\n",
              "      <td>138.133331</td>\n",
              "      <td>06-07-1994</td>\n",
              "      <td>677945399</td>\n",
              "      <td>142.0</td>\n",
              "      <td>8.2</td>\n",
              "      <td>...</td>\n",
              "      <td>NaN</td>\n",
              "      <td>vietnam veteran hippie mentally disabled runni...</td>\n",
              "      <td>A man with a low IQ has accomplished great thi...</td>\n",
              "      <td>[{\"name\": \"Paramount Pictures\", \"id\": 4}]</td>\n",
              "      <td>[{\"iso_3166_1\": \"US\", \"name\": \"United States o...</td>\n",
              "      <td>[{\"iso_639_1\": \"en\", \"name\": \"English\"}]</td>\n",
              "      <td>The world will never be the same, once you've ...</td>\n",
              "      <td>Tom Hanks Robin Wright Gary Sinise Mykelti Wil...</td>\n",
              "      <td>[{'name': 'Alan Silvestri', 'gender': 2, 'depa...</td>\n",
              "      <td>Robert Zemeckis</td>\n",
              "    </tr>\n",
              "    <tr>\n",
              "      <th>4</th>\n",
              "      <td>5</td>\n",
              "      <td>American Beauty</td>\n",
              "      <td>Drama</td>\n",
              "      <td>en</td>\n",
              "      <td>15000000</td>\n",
              "      <td>80.878605</td>\n",
              "      <td>15-09-1999</td>\n",
              "      <td>356296601</td>\n",
              "      <td>122.0</td>\n",
              "      <td>7.9</td>\n",
              "      <td>...</td>\n",
              "      <td>http://www.dreamworks.com/ab/</td>\n",
              "      <td>male nudity female nudity adultery midlife cri...</td>\n",
              "      <td>Lester Burnham, a depressed suburban father in...</td>\n",
              "      <td>[{\"name\": \"DreamWorks SKG\", \"id\": 27}, {\"name\"...</td>\n",
              "      <td>[{\"iso_3166_1\": \"US\", \"name\": \"United States o...</td>\n",
              "      <td>[{\"iso_639_1\": \"en\", \"name\": \"English\"}]</td>\n",
              "      <td>Look closer.</td>\n",
              "      <td>Kevin Spacey Annette Bening Thora Birch Wes Be...</td>\n",
              "      <td>[{'name': 'Thomas Newman', 'gender': 2, 'depar...</td>\n",
              "      <td>Sam Mendes</td>\n",
              "    </tr>\n",
              "  </tbody>\n",
              "</table>\n",
              "<p>5 rows × 21 columns</p>\n",
              "</div>\n",
              "    <div class=\"colab-df-buttons\">\n",
              "\n",
              "  <div class=\"colab-df-container\">\n",
              "    <button class=\"colab-df-convert\" onclick=\"convertToInteractive('df-1cc08482-5174-47b8-beaa-8454142d6372')\"\n",
              "            title=\"Convert this dataframe to an interactive table.\"\n",
              "            style=\"display:none;\">\n",
              "\n",
              "  <svg xmlns=\"http://www.w3.org/2000/svg\" height=\"24px\" viewBox=\"0 -960 960 960\">\n",
              "    <path d=\"M120-120v-720h720v720H120Zm60-500h600v-160H180v160Zm220 220h160v-160H400v160Zm0 220h160v-160H400v160ZM180-400h160v-160H180v160Zm440 0h160v-160H620v160ZM180-180h160v-160H180v160Zm440 0h160v-160H620v160Z\"/>\n",
              "  </svg>\n",
              "    </button>\n",
              "\n",
              "  <style>\n",
              "    .colab-df-container {\n",
              "      display:flex;\n",
              "      gap: 12px;\n",
              "    }\n",
              "\n",
              "    .colab-df-convert {\n",
              "      background-color: #E8F0FE;\n",
              "      border: none;\n",
              "      border-radius: 50%;\n",
              "      cursor: pointer;\n",
              "      display: none;\n",
              "      fill: #1967D2;\n",
              "      height: 32px;\n",
              "      padding: 0 0 0 0;\n",
              "      width: 32px;\n",
              "    }\n",
              "\n",
              "    .colab-df-convert:hover {\n",
              "      background-color: #E2EBFA;\n",
              "      box-shadow: 0px 1px 2px rgba(60, 64, 67, 0.3), 0px 1px 3px 1px rgba(60, 64, 67, 0.15);\n",
              "      fill: #174EA6;\n",
              "    }\n",
              "\n",
              "    .colab-df-buttons div {\n",
              "      margin-bottom: 4px;\n",
              "    }\n",
              "\n",
              "    [theme=dark] .colab-df-convert {\n",
              "      background-color: #3B4455;\n",
              "      fill: #D2E3FC;\n",
              "    }\n",
              "\n",
              "    [theme=dark] .colab-df-convert:hover {\n",
              "      background-color: #434B5C;\n",
              "      box-shadow: 0px 1px 3px 1px rgba(0, 0, 0, 0.15);\n",
              "      filter: drop-shadow(0px 1px 2px rgba(0, 0, 0, 0.3));\n",
              "      fill: #FFFFFF;\n",
              "    }\n",
              "  </style>\n",
              "\n",
              "    <script>\n",
              "      const buttonEl =\n",
              "        document.querySelector('#df-1cc08482-5174-47b8-beaa-8454142d6372 button.colab-df-convert');\n",
              "      buttonEl.style.display =\n",
              "        google.colab.kernel.accessAllowed ? 'block' : 'none';\n",
              "\n",
              "      async function convertToInteractive(key) {\n",
              "        const element = document.querySelector('#df-1cc08482-5174-47b8-beaa-8454142d6372');\n",
              "        const dataTable =\n",
              "          await google.colab.kernel.invokeFunction('convertToInteractive',\n",
              "                                                    [key], {});\n",
              "        if (!dataTable) return;\n",
              "\n",
              "        const docLinkHtml = 'Like what you see? Visit the ' +\n",
              "          '<a target=\"_blank\" href=https://colab.research.google.com/notebooks/data_table.ipynb>data table notebook</a>'\n",
              "          + ' to learn more about interactive tables.';\n",
              "        element.innerHTML = '';\n",
              "        dataTable['output_type'] = 'display_data';\n",
              "        await google.colab.output.renderOutput(dataTable, element);\n",
              "        const docLink = document.createElement('div');\n",
              "        docLink.innerHTML = docLinkHtml;\n",
              "        element.appendChild(docLink);\n",
              "      }\n",
              "    </script>\n",
              "  </div>\n",
              "\n",
              "\n",
              "<div id=\"df-0fbb3f90-ce21-4744-a425-3c259d00cf6a\">\n",
              "  <button class=\"colab-df-quickchart\" onclick=\"quickchart('df-0fbb3f90-ce21-4744-a425-3c259d00cf6a')\"\n",
              "            title=\"Suggest charts\"\n",
              "            style=\"display:none;\">\n",
              "\n",
              "<svg xmlns=\"http://www.w3.org/2000/svg\" height=\"24px\"viewBox=\"0 0 24 24\"\n",
              "     width=\"24px\">\n",
              "    <g>\n",
              "        <path d=\"M19 3H5c-1.1 0-2 .9-2 2v14c0 1.1.9 2 2 2h14c1.1 0 2-.9 2-2V5c0-1.1-.9-2-2-2zM9 17H7v-7h2v7zm4 0h-2V7h2v10zm4 0h-2v-4h2v4z\"/>\n",
              "    </g>\n",
              "</svg>\n",
              "  </button>\n",
              "\n",
              "<style>\n",
              "  .colab-df-quickchart {\n",
              "      --bg-color: #E8F0FE;\n",
              "      --fill-color: #1967D2;\n",
              "      --hover-bg-color: #E2EBFA;\n",
              "      --hover-fill-color: #174EA6;\n",
              "      --disabled-fill-color: #AAA;\n",
              "      --disabled-bg-color: #DDD;\n",
              "  }\n",
              "\n",
              "  [theme=dark] .colab-df-quickchart {\n",
              "      --bg-color: #3B4455;\n",
              "      --fill-color: #D2E3FC;\n",
              "      --hover-bg-color: #434B5C;\n",
              "      --hover-fill-color: #FFFFFF;\n",
              "      --disabled-bg-color: #3B4455;\n",
              "      --disabled-fill-color: #666;\n",
              "  }\n",
              "\n",
              "  .colab-df-quickchart {\n",
              "    background-color: var(--bg-color);\n",
              "    border: none;\n",
              "    border-radius: 50%;\n",
              "    cursor: pointer;\n",
              "    display: none;\n",
              "    fill: var(--fill-color);\n",
              "    height: 32px;\n",
              "    padding: 0;\n",
              "    width: 32px;\n",
              "  }\n",
              "\n",
              "  .colab-df-quickchart:hover {\n",
              "    background-color: var(--hover-bg-color);\n",
              "    box-shadow: 0 1px 2px rgba(60, 64, 67, 0.3), 0 1px 3px 1px rgba(60, 64, 67, 0.15);\n",
              "    fill: var(--button-hover-fill-color);\n",
              "  }\n",
              "\n",
              "  .colab-df-quickchart-complete:disabled,\n",
              "  .colab-df-quickchart-complete:disabled:hover {\n",
              "    background-color: var(--disabled-bg-color);\n",
              "    fill: var(--disabled-fill-color);\n",
              "    box-shadow: none;\n",
              "  }\n",
              "\n",
              "  .colab-df-spinner {\n",
              "    border: 2px solid var(--fill-color);\n",
              "    border-color: transparent;\n",
              "    border-bottom-color: var(--fill-color);\n",
              "    animation:\n",
              "      spin 1s steps(1) infinite;\n",
              "  }\n",
              "\n",
              "  @keyframes spin {\n",
              "    0% {\n",
              "      border-color: transparent;\n",
              "      border-bottom-color: var(--fill-color);\n",
              "      border-left-color: var(--fill-color);\n",
              "    }\n",
              "    20% {\n",
              "      border-color: transparent;\n",
              "      border-left-color: var(--fill-color);\n",
              "      border-top-color: var(--fill-color);\n",
              "    }\n",
              "    30% {\n",
              "      border-color: transparent;\n",
              "      border-left-color: var(--fill-color);\n",
              "      border-top-color: var(--fill-color);\n",
              "      border-right-color: var(--fill-color);\n",
              "    }\n",
              "    40% {\n",
              "      border-color: transparent;\n",
              "      border-right-color: var(--fill-color);\n",
              "      border-top-color: var(--fill-color);\n",
              "    }\n",
              "    60% {\n",
              "      border-color: transparent;\n",
              "      border-right-color: var(--fill-color);\n",
              "    }\n",
              "    80% {\n",
              "      border-color: transparent;\n",
              "      border-right-color: var(--fill-color);\n",
              "      border-bottom-color: var(--fill-color);\n",
              "    }\n",
              "    90% {\n",
              "      border-color: transparent;\n",
              "      border-bottom-color: var(--fill-color);\n",
              "    }\n",
              "  }\n",
              "</style>\n",
              "\n",
              "  <script>\n",
              "    async function quickchart(key) {\n",
              "      const quickchartButtonEl =\n",
              "        document.querySelector('#' + key + ' button');\n",
              "      quickchartButtonEl.disabled = true;  // To prevent multiple clicks.\n",
              "      quickchartButtonEl.classList.add('colab-df-spinner');\n",
              "      try {\n",
              "        const charts = await google.colab.kernel.invokeFunction(\n",
              "            'suggestCharts', [key], {});\n",
              "      } catch (error) {\n",
              "        console.error('Error during call to suggestCharts:', error);\n",
              "      }\n",
              "      quickchartButtonEl.classList.remove('colab-df-spinner');\n",
              "      quickchartButtonEl.classList.add('colab-df-quickchart-complete');\n",
              "    }\n",
              "    (() => {\n",
              "      let quickchartButtonEl =\n",
              "        document.querySelector('#df-0fbb3f90-ce21-4744-a425-3c259d00cf6a button');\n",
              "      quickchartButtonEl.style.display =\n",
              "        google.colab.kernel.accessAllowed ? 'block' : 'none';\n",
              "    })();\n",
              "  </script>\n",
              "</div>\n",
              "\n",
              "    </div>\n",
              "  </div>\n"
            ],
            "application/vnd.google.colaboratory.intrinsic+json": {
              "type": "dataframe",
              "variable_name": "df"
            }
          },
          "metadata": {},
          "execution_count": 3
        }
      ]
    },
    {
      "cell_type": "code",
      "source": [
        "df.info()"
      ],
      "metadata": {
        "colab": {
          "base_uri": "https://localhost:8080/"
        },
        "id": "6ufvvSrsH4zp",
        "outputId": "1f6af75f-93bc-4dd1-f649-b07569d4c905"
      },
      "execution_count": 4,
      "outputs": [
        {
          "output_type": "stream",
          "name": "stdout",
          "text": [
            "<class 'pandas.core.frame.DataFrame'>\n",
            "RangeIndex: 4760 entries, 0 to 4759\n",
            "Data columns (total 21 columns):\n",
            " #   Column                    Non-Null Count  Dtype  \n",
            "---  ------                    --------------  -----  \n",
            " 0   Movie_ID                  4760 non-null   int64  \n",
            " 1   Movie_Title               4760 non-null   object \n",
            " 2   Movie_Genre               4760 non-null   object \n",
            " 3   Movie_Language            4760 non-null   object \n",
            " 4   Movie_Budget              4760 non-null   int64  \n",
            " 5   Movie_Popularity          4760 non-null   float64\n",
            " 6   Movie_Release_Date        4760 non-null   object \n",
            " 7   Movie_Revenue             4760 non-null   int64  \n",
            " 8   Movie_Runtime             4758 non-null   float64\n",
            " 9   Movie_Vote                4760 non-null   float64\n",
            " 10  Movie_Vote_Count          4760 non-null   int64  \n",
            " 11  Movie_Homepage            1699 non-null   object \n",
            " 12  Movie_Keywords            4373 non-null   object \n",
            " 13  Movie_Overview            4757 non-null   object \n",
            " 14  Movie_Production_House    4760 non-null   object \n",
            " 15  Movie_Production_Country  4760 non-null   object \n",
            " 16  Movie_Spoken_Language     4760 non-null   object \n",
            " 17  Movie_Tagline             3942 non-null   object \n",
            " 18  Movie_Cast                4733 non-null   object \n",
            " 19  Movie_Crew                4760 non-null   object \n",
            " 20  Movie_Director            4738 non-null   object \n",
            "dtypes: float64(3), int64(4), object(14)\n",
            "memory usage: 781.1+ KB\n"
          ]
        }
      ]
    },
    {
      "cell_type": "code",
      "source": [
        "df.shape"
      ],
      "metadata": {
        "colab": {
          "base_uri": "https://localhost:8080/"
        },
        "id": "HOpwm6LrIjRw",
        "outputId": "860f217b-c2cc-4a69-a6cd-5b5d0a8989fc"
      },
      "execution_count": 5,
      "outputs": [
        {
          "output_type": "execute_result",
          "data": {
            "text/plain": [
              "(4760, 21)"
            ]
          },
          "metadata": {},
          "execution_count": 5
        }
      ]
    },
    {
      "cell_type": "code",
      "source": [
        "df.columns"
      ],
      "metadata": {
        "colab": {
          "base_uri": "https://localhost:8080/"
        },
        "id": "xsM2CPazInwA",
        "outputId": "65b00270-28a1-43d4-b765-9dfa8fc11ecc"
      },
      "execution_count": 6,
      "outputs": [
        {
          "output_type": "execute_result",
          "data": {
            "text/plain": [
              "Index(['Movie_ID', 'Movie_Title', 'Movie_Genre', 'Movie_Language',\n",
              "       'Movie_Budget', 'Movie_Popularity', 'Movie_Release_Date',\n",
              "       'Movie_Revenue', 'Movie_Runtime', 'Movie_Vote', 'Movie_Vote_Count',\n",
              "       'Movie_Homepage', 'Movie_Keywords', 'Movie_Overview',\n",
              "       'Movie_Production_House', 'Movie_Production_Country',\n",
              "       'Movie_Spoken_Language', 'Movie_Tagline', 'Movie_Cast', 'Movie_Crew',\n",
              "       'Movie_Director'],\n",
              "      dtype='object')"
            ]
          },
          "metadata": {},
          "execution_count": 6
        }
      ]
    },
    {
      "cell_type": "markdown",
      "source": [
        "**Get Feature Selection**"
      ],
      "metadata": {
        "id": "ym7Uuuf2IuGi"
      }
    },
    {
      "cell_type": "code",
      "source": [
        "df_features = df[['Movie_Genre','Movie_Keywords','Movie_Tagline','Movie_Cast','Movie_Director']].fillna('')"
      ],
      "metadata": {
        "id": "_wj098gcJAiP"
      },
      "execution_count": 7,
      "outputs": []
    },
    {
      "cell_type": "code",
      "source": [
        "df_features.shape"
      ],
      "metadata": {
        "colab": {
          "base_uri": "https://localhost:8080/"
        },
        "id": "tUPqmXsMKWnj",
        "outputId": "b30585b6-ee95-470a-d047-01db718f6f20"
      },
      "execution_count": 8,
      "outputs": [
        {
          "output_type": "execute_result",
          "data": {
            "text/plain": [
              "(4760, 5)"
            ]
          },
          "metadata": {},
          "execution_count": 8
        }
      ]
    },
    {
      "cell_type": "code",
      "source": [
        "df_features"
      ],
      "metadata": {
        "colab": {
          "base_uri": "https://localhost:8080/",
          "height": 579
        },
        "id": "MfLJz1dFKaZp",
        "outputId": "07dcc779-c485-4a4b-9353-7247506867c9"
      },
      "execution_count": 9,
      "outputs": [
        {
          "output_type": "execute_result",
          "data": {
            "text/plain": [
              "                           Movie_Genre  \\\n",
              "0                         Crime Comedy   \n",
              "1     Adventure Action Science Fiction   \n",
              "2                     Animation Family   \n",
              "3                 Comedy Drama Romance   \n",
              "4                                Drama   \n",
              "...                                ...   \n",
              "4755                            Horror   \n",
              "4756               Comedy Family Drama   \n",
              "4757                    Thriller Drama   \n",
              "4758                            Family   \n",
              "4759                       Documentary   \n",
              "\n",
              "                                         Movie_Keywords  \\\n",
              "0             hotel new year's eve witch bet hotel room   \n",
              "1           android galaxy hermit death star lightsaber   \n",
              "2     father son relationship harbor underwater fish...   \n",
              "3     vietnam veteran hippie mentally disabled runni...   \n",
              "4     male nudity female nudity adultery midlife cri...   \n",
              "...                                                 ...   \n",
              "4755                                                      \n",
              "4756                                                      \n",
              "4757                     christian film sex trafficking   \n",
              "4758                                                      \n",
              "4759  music actors legendary perfomer classic hollyw...   \n",
              "\n",
              "                                          Movie_Tagline  \\\n",
              "0     Twelve outrageous guests. Four scandalous requ...   \n",
              "1          A long time ago in a galaxy far, far away...   \n",
              "2     There are 3.7 trillion fish in the ocean, they...   \n",
              "3     The world will never be the same, once you've ...   \n",
              "4                                          Look closer.   \n",
              "...                                                 ...   \n",
              "4755                The hot spot where Satan's waitin'.   \n",
              "4756           It’s better to stand out than to fit in.   \n",
              "4757           She never knew it could happen to her...   \n",
              "4758                                                      \n",
              "4759                                                      \n",
              "\n",
              "                                             Movie_Cast     Movie_Director  \n",
              "0     Tim Roth Antonio Banderas Jennifer Beals Madon...     Allison Anders  \n",
              "1     Mark Hamill Harrison Ford Carrie Fisher Peter ...       George Lucas  \n",
              "2     Albert Brooks Ellen DeGeneres Alexander Gould ...     Andrew Stanton  \n",
              "3     Tom Hanks Robin Wright Gary Sinise Mykelti Wil...    Robert Zemeckis  \n",
              "4     Kevin Spacey Annette Bening Thora Birch Wes Be...         Sam Mendes  \n",
              "...                                                 ...                ...  \n",
              "4755  Lisa Hart Carroll Michael Des Barres Paul Drak...         Pece Dingo  \n",
              "4756  Roni Akurati Brighton Sharbino Jason Lee Anjul...       Frank Lotito  \n",
              "4757  Nicole Smolen Kim Baldwin Ariana Stephens Brys...       Jaco Booyens  \n",
              "4758                                                                        \n",
              "4759                                    Tony Oppedisano  Simon Napier-Bell  \n",
              "\n",
              "[4760 rows x 5 columns]"
            ],
            "text/html": [
              "\n",
              "  <div id=\"df-0b7282db-88d1-4df1-802a-9926ec5a3d56\" class=\"colab-df-container\">\n",
              "    <div>\n",
              "<style scoped>\n",
              "    .dataframe tbody tr th:only-of-type {\n",
              "        vertical-align: middle;\n",
              "    }\n",
              "\n",
              "    .dataframe tbody tr th {\n",
              "        vertical-align: top;\n",
              "    }\n",
              "\n",
              "    .dataframe thead th {\n",
              "        text-align: right;\n",
              "    }\n",
              "</style>\n",
              "<table border=\"1\" class=\"dataframe\">\n",
              "  <thead>\n",
              "    <tr style=\"text-align: right;\">\n",
              "      <th></th>\n",
              "      <th>Movie_Genre</th>\n",
              "      <th>Movie_Keywords</th>\n",
              "      <th>Movie_Tagline</th>\n",
              "      <th>Movie_Cast</th>\n",
              "      <th>Movie_Director</th>\n",
              "    </tr>\n",
              "  </thead>\n",
              "  <tbody>\n",
              "    <tr>\n",
              "      <th>0</th>\n",
              "      <td>Crime Comedy</td>\n",
              "      <td>hotel new year's eve witch bet hotel room</td>\n",
              "      <td>Twelve outrageous guests. Four scandalous requ...</td>\n",
              "      <td>Tim Roth Antonio Banderas Jennifer Beals Madon...</td>\n",
              "      <td>Allison Anders</td>\n",
              "    </tr>\n",
              "    <tr>\n",
              "      <th>1</th>\n",
              "      <td>Adventure Action Science Fiction</td>\n",
              "      <td>android galaxy hermit death star lightsaber</td>\n",
              "      <td>A long time ago in a galaxy far, far away...</td>\n",
              "      <td>Mark Hamill Harrison Ford Carrie Fisher Peter ...</td>\n",
              "      <td>George Lucas</td>\n",
              "    </tr>\n",
              "    <tr>\n",
              "      <th>2</th>\n",
              "      <td>Animation Family</td>\n",
              "      <td>father son relationship harbor underwater fish...</td>\n",
              "      <td>There are 3.7 trillion fish in the ocean, they...</td>\n",
              "      <td>Albert Brooks Ellen DeGeneres Alexander Gould ...</td>\n",
              "      <td>Andrew Stanton</td>\n",
              "    </tr>\n",
              "    <tr>\n",
              "      <th>3</th>\n",
              "      <td>Comedy Drama Romance</td>\n",
              "      <td>vietnam veteran hippie mentally disabled runni...</td>\n",
              "      <td>The world will never be the same, once you've ...</td>\n",
              "      <td>Tom Hanks Robin Wright Gary Sinise Mykelti Wil...</td>\n",
              "      <td>Robert Zemeckis</td>\n",
              "    </tr>\n",
              "    <tr>\n",
              "      <th>4</th>\n",
              "      <td>Drama</td>\n",
              "      <td>male nudity female nudity adultery midlife cri...</td>\n",
              "      <td>Look closer.</td>\n",
              "      <td>Kevin Spacey Annette Bening Thora Birch Wes Be...</td>\n",
              "      <td>Sam Mendes</td>\n",
              "    </tr>\n",
              "    <tr>\n",
              "      <th>...</th>\n",
              "      <td>...</td>\n",
              "      <td>...</td>\n",
              "      <td>...</td>\n",
              "      <td>...</td>\n",
              "      <td>...</td>\n",
              "    </tr>\n",
              "    <tr>\n",
              "      <th>4755</th>\n",
              "      <td>Horror</td>\n",
              "      <td></td>\n",
              "      <td>The hot spot where Satan's waitin'.</td>\n",
              "      <td>Lisa Hart Carroll Michael Des Barres Paul Drak...</td>\n",
              "      <td>Pece Dingo</td>\n",
              "    </tr>\n",
              "    <tr>\n",
              "      <th>4756</th>\n",
              "      <td>Comedy Family Drama</td>\n",
              "      <td></td>\n",
              "      <td>It’s better to stand out than to fit in.</td>\n",
              "      <td>Roni Akurati Brighton Sharbino Jason Lee Anjul...</td>\n",
              "      <td>Frank Lotito</td>\n",
              "    </tr>\n",
              "    <tr>\n",
              "      <th>4757</th>\n",
              "      <td>Thriller Drama</td>\n",
              "      <td>christian film sex trafficking</td>\n",
              "      <td>She never knew it could happen to her...</td>\n",
              "      <td>Nicole Smolen Kim Baldwin Ariana Stephens Brys...</td>\n",
              "      <td>Jaco Booyens</td>\n",
              "    </tr>\n",
              "    <tr>\n",
              "      <th>4758</th>\n",
              "      <td>Family</td>\n",
              "      <td></td>\n",
              "      <td></td>\n",
              "      <td></td>\n",
              "      <td></td>\n",
              "    </tr>\n",
              "    <tr>\n",
              "      <th>4759</th>\n",
              "      <td>Documentary</td>\n",
              "      <td>music actors legendary perfomer classic hollyw...</td>\n",
              "      <td></td>\n",
              "      <td>Tony Oppedisano</td>\n",
              "      <td>Simon Napier-Bell</td>\n",
              "    </tr>\n",
              "  </tbody>\n",
              "</table>\n",
              "<p>4760 rows × 5 columns</p>\n",
              "</div>\n",
              "    <div class=\"colab-df-buttons\">\n",
              "\n",
              "  <div class=\"colab-df-container\">\n",
              "    <button class=\"colab-df-convert\" onclick=\"convertToInteractive('df-0b7282db-88d1-4df1-802a-9926ec5a3d56')\"\n",
              "            title=\"Convert this dataframe to an interactive table.\"\n",
              "            style=\"display:none;\">\n",
              "\n",
              "  <svg xmlns=\"http://www.w3.org/2000/svg\" height=\"24px\" viewBox=\"0 -960 960 960\">\n",
              "    <path d=\"M120-120v-720h720v720H120Zm60-500h600v-160H180v160Zm220 220h160v-160H400v160Zm0 220h160v-160H400v160ZM180-400h160v-160H180v160Zm440 0h160v-160H620v160ZM180-180h160v-160H180v160Zm440 0h160v-160H620v160Z\"/>\n",
              "  </svg>\n",
              "    </button>\n",
              "\n",
              "  <style>\n",
              "    .colab-df-container {\n",
              "      display:flex;\n",
              "      gap: 12px;\n",
              "    }\n",
              "\n",
              "    .colab-df-convert {\n",
              "      background-color: #E8F0FE;\n",
              "      border: none;\n",
              "      border-radius: 50%;\n",
              "      cursor: pointer;\n",
              "      display: none;\n",
              "      fill: #1967D2;\n",
              "      height: 32px;\n",
              "      padding: 0 0 0 0;\n",
              "      width: 32px;\n",
              "    }\n",
              "\n",
              "    .colab-df-convert:hover {\n",
              "      background-color: #E2EBFA;\n",
              "      box-shadow: 0px 1px 2px rgba(60, 64, 67, 0.3), 0px 1px 3px 1px rgba(60, 64, 67, 0.15);\n",
              "      fill: #174EA6;\n",
              "    }\n",
              "\n",
              "    .colab-df-buttons div {\n",
              "      margin-bottom: 4px;\n",
              "    }\n",
              "\n",
              "    [theme=dark] .colab-df-convert {\n",
              "      background-color: #3B4455;\n",
              "      fill: #D2E3FC;\n",
              "    }\n",
              "\n",
              "    [theme=dark] .colab-df-convert:hover {\n",
              "      background-color: #434B5C;\n",
              "      box-shadow: 0px 1px 3px 1px rgba(0, 0, 0, 0.15);\n",
              "      filter: drop-shadow(0px 1px 2px rgba(0, 0, 0, 0.3));\n",
              "      fill: #FFFFFF;\n",
              "    }\n",
              "  </style>\n",
              "\n",
              "    <script>\n",
              "      const buttonEl =\n",
              "        document.querySelector('#df-0b7282db-88d1-4df1-802a-9926ec5a3d56 button.colab-df-convert');\n",
              "      buttonEl.style.display =\n",
              "        google.colab.kernel.accessAllowed ? 'block' : 'none';\n",
              "\n",
              "      async function convertToInteractive(key) {\n",
              "        const element = document.querySelector('#df-0b7282db-88d1-4df1-802a-9926ec5a3d56');\n",
              "        const dataTable =\n",
              "          await google.colab.kernel.invokeFunction('convertToInteractive',\n",
              "                                                    [key], {});\n",
              "        if (!dataTable) return;\n",
              "\n",
              "        const docLinkHtml = 'Like what you see? Visit the ' +\n",
              "          '<a target=\"_blank\" href=https://colab.research.google.com/notebooks/data_table.ipynb>data table notebook</a>'\n",
              "          + ' to learn more about interactive tables.';\n",
              "        element.innerHTML = '';\n",
              "        dataTable['output_type'] = 'display_data';\n",
              "        await google.colab.output.renderOutput(dataTable, element);\n",
              "        const docLink = document.createElement('div');\n",
              "        docLink.innerHTML = docLinkHtml;\n",
              "        element.appendChild(docLink);\n",
              "      }\n",
              "    </script>\n",
              "  </div>\n",
              "\n",
              "\n",
              "<div id=\"df-25b817fe-7254-4664-9c6a-56f0bf36fb9f\">\n",
              "  <button class=\"colab-df-quickchart\" onclick=\"quickchart('df-25b817fe-7254-4664-9c6a-56f0bf36fb9f')\"\n",
              "            title=\"Suggest charts\"\n",
              "            style=\"display:none;\">\n",
              "\n",
              "<svg xmlns=\"http://www.w3.org/2000/svg\" height=\"24px\"viewBox=\"0 0 24 24\"\n",
              "     width=\"24px\">\n",
              "    <g>\n",
              "        <path d=\"M19 3H5c-1.1 0-2 .9-2 2v14c0 1.1.9 2 2 2h14c1.1 0 2-.9 2-2V5c0-1.1-.9-2-2-2zM9 17H7v-7h2v7zm4 0h-2V7h2v10zm4 0h-2v-4h2v4z\"/>\n",
              "    </g>\n",
              "</svg>\n",
              "  </button>\n",
              "\n",
              "<style>\n",
              "  .colab-df-quickchart {\n",
              "      --bg-color: #E8F0FE;\n",
              "      --fill-color: #1967D2;\n",
              "      --hover-bg-color: #E2EBFA;\n",
              "      --hover-fill-color: #174EA6;\n",
              "      --disabled-fill-color: #AAA;\n",
              "      --disabled-bg-color: #DDD;\n",
              "  }\n",
              "\n",
              "  [theme=dark] .colab-df-quickchart {\n",
              "      --bg-color: #3B4455;\n",
              "      --fill-color: #D2E3FC;\n",
              "      --hover-bg-color: #434B5C;\n",
              "      --hover-fill-color: #FFFFFF;\n",
              "      --disabled-bg-color: #3B4455;\n",
              "      --disabled-fill-color: #666;\n",
              "  }\n",
              "\n",
              "  .colab-df-quickchart {\n",
              "    background-color: var(--bg-color);\n",
              "    border: none;\n",
              "    border-radius: 50%;\n",
              "    cursor: pointer;\n",
              "    display: none;\n",
              "    fill: var(--fill-color);\n",
              "    height: 32px;\n",
              "    padding: 0;\n",
              "    width: 32px;\n",
              "  }\n",
              "\n",
              "  .colab-df-quickchart:hover {\n",
              "    background-color: var(--hover-bg-color);\n",
              "    box-shadow: 0 1px 2px rgba(60, 64, 67, 0.3), 0 1px 3px 1px rgba(60, 64, 67, 0.15);\n",
              "    fill: var(--button-hover-fill-color);\n",
              "  }\n",
              "\n",
              "  .colab-df-quickchart-complete:disabled,\n",
              "  .colab-df-quickchart-complete:disabled:hover {\n",
              "    background-color: var(--disabled-bg-color);\n",
              "    fill: var(--disabled-fill-color);\n",
              "    box-shadow: none;\n",
              "  }\n",
              "\n",
              "  .colab-df-spinner {\n",
              "    border: 2px solid var(--fill-color);\n",
              "    border-color: transparent;\n",
              "    border-bottom-color: var(--fill-color);\n",
              "    animation:\n",
              "      spin 1s steps(1) infinite;\n",
              "  }\n",
              "\n",
              "  @keyframes spin {\n",
              "    0% {\n",
              "      border-color: transparent;\n",
              "      border-bottom-color: var(--fill-color);\n",
              "      border-left-color: var(--fill-color);\n",
              "    }\n",
              "    20% {\n",
              "      border-color: transparent;\n",
              "      border-left-color: var(--fill-color);\n",
              "      border-top-color: var(--fill-color);\n",
              "    }\n",
              "    30% {\n",
              "      border-color: transparent;\n",
              "      border-left-color: var(--fill-color);\n",
              "      border-top-color: var(--fill-color);\n",
              "      border-right-color: var(--fill-color);\n",
              "    }\n",
              "    40% {\n",
              "      border-color: transparent;\n",
              "      border-right-color: var(--fill-color);\n",
              "      border-top-color: var(--fill-color);\n",
              "    }\n",
              "    60% {\n",
              "      border-color: transparent;\n",
              "      border-right-color: var(--fill-color);\n",
              "    }\n",
              "    80% {\n",
              "      border-color: transparent;\n",
              "      border-right-color: var(--fill-color);\n",
              "      border-bottom-color: var(--fill-color);\n",
              "    }\n",
              "    90% {\n",
              "      border-color: transparent;\n",
              "      border-bottom-color: var(--fill-color);\n",
              "    }\n",
              "  }\n",
              "</style>\n",
              "\n",
              "  <script>\n",
              "    async function quickchart(key) {\n",
              "      const quickchartButtonEl =\n",
              "        document.querySelector('#' + key + ' button');\n",
              "      quickchartButtonEl.disabled = true;  // To prevent multiple clicks.\n",
              "      quickchartButtonEl.classList.add('colab-df-spinner');\n",
              "      try {\n",
              "        const charts = await google.colab.kernel.invokeFunction(\n",
              "            'suggestCharts', [key], {});\n",
              "      } catch (error) {\n",
              "        console.error('Error during call to suggestCharts:', error);\n",
              "      }\n",
              "      quickchartButtonEl.classList.remove('colab-df-spinner');\n",
              "      quickchartButtonEl.classList.add('colab-df-quickchart-complete');\n",
              "    }\n",
              "    (() => {\n",
              "      let quickchartButtonEl =\n",
              "        document.querySelector('#df-25b817fe-7254-4664-9c6a-56f0bf36fb9f button');\n",
              "      quickchartButtonEl.style.display =\n",
              "        google.colab.kernel.accessAllowed ? 'block' : 'none';\n",
              "    })();\n",
              "  </script>\n",
              "</div>\n",
              "\n",
              "  <div id=\"id_5cac15cc-dbdd-4a9d-beda-6143fc382f52\">\n",
              "    <style>\n",
              "      .colab-df-generate {\n",
              "        background-color: #E8F0FE;\n",
              "        border: none;\n",
              "        border-radius: 50%;\n",
              "        cursor: pointer;\n",
              "        display: none;\n",
              "        fill: #1967D2;\n",
              "        height: 32px;\n",
              "        padding: 0 0 0 0;\n",
              "        width: 32px;\n",
              "      }\n",
              "\n",
              "      .colab-df-generate:hover {\n",
              "        background-color: #E2EBFA;\n",
              "        box-shadow: 0px 1px 2px rgba(60, 64, 67, 0.3), 0px 1px 3px 1px rgba(60, 64, 67, 0.15);\n",
              "        fill: #174EA6;\n",
              "      }\n",
              "\n",
              "      [theme=dark] .colab-df-generate {\n",
              "        background-color: #3B4455;\n",
              "        fill: #D2E3FC;\n",
              "      }\n",
              "\n",
              "      [theme=dark] .colab-df-generate:hover {\n",
              "        background-color: #434B5C;\n",
              "        box-shadow: 0px 1px 3px 1px rgba(0, 0, 0, 0.15);\n",
              "        filter: drop-shadow(0px 1px 2px rgba(0, 0, 0, 0.3));\n",
              "        fill: #FFFFFF;\n",
              "      }\n",
              "    </style>\n",
              "    <button class=\"colab-df-generate\" onclick=\"generateWithVariable('df_features')\"\n",
              "            title=\"Generate code using this dataframe.\"\n",
              "            style=\"display:none;\">\n",
              "\n",
              "  <svg xmlns=\"http://www.w3.org/2000/svg\" height=\"24px\"viewBox=\"0 0 24 24\"\n",
              "       width=\"24px\">\n",
              "    <path d=\"M7,19H8.4L18.45,9,17,7.55,7,17.6ZM5,21V16.75L18.45,3.32a2,2,0,0,1,2.83,0l1.4,1.43a1.91,1.91,0,0,1,.58,1.4,1.91,1.91,0,0,1-.58,1.4L9.25,21ZM18.45,9,17,7.55Zm-12,3A5.31,5.31,0,0,0,4.9,8.1,5.31,5.31,0,0,0,1,6.5,5.31,5.31,0,0,0,4.9,4.9,5.31,5.31,0,0,0,6.5,1,5.31,5.31,0,0,0,8.1,4.9,5.31,5.31,0,0,0,12,6.5,5.46,5.46,0,0,0,6.5,12Z\"/>\n",
              "  </svg>\n",
              "    </button>\n",
              "    <script>\n",
              "      (() => {\n",
              "      const buttonEl =\n",
              "        document.querySelector('#id_5cac15cc-dbdd-4a9d-beda-6143fc382f52 button.colab-df-generate');\n",
              "      buttonEl.style.display =\n",
              "        google.colab.kernel.accessAllowed ? 'block' : 'none';\n",
              "\n",
              "      buttonEl.onclick = () => {\n",
              "        google.colab.notebook.generateWithVariable('df_features');\n",
              "      }\n",
              "      })();\n",
              "    </script>\n",
              "  </div>\n",
              "\n",
              "    </div>\n",
              "  </div>\n"
            ],
            "application/vnd.google.colaboratory.intrinsic+json": {
              "type": "dataframe",
              "variable_name": "df_features",
              "summary": "{\n  \"name\": \"df_features\",\n  \"rows\": 4760,\n  \"fields\": [\n    {\n      \"column\": \"Movie_Genre\",\n      \"properties\": {\n        \"dtype\": \"category\",\n        \"num_unique_values\": 1164,\n        \"samples\": [\n          \"Family Animation Adventure\",\n          \"Adventure Science Fiction Action\",\n          \"Action Crime Drama Romance Thriller\"\n        ],\n        \"semantic_type\": \"\",\n        \"description\": \"\"\n      }\n    },\n    {\n      \"column\": \"Movie_Keywords\",\n      \"properties\": {\n        \"dtype\": \"string\",\n        \"num_unique_values\": 4203,\n        \"samples\": [\n          \"canada nazis sequel spin off ancient evil\",\n          \"sex professor wedding woman director columbia university\",\n          \"prophecy sea beach gold small town\"\n        ],\n        \"semantic_type\": \"\",\n        \"description\": \"\"\n      }\n    },\n    {\n      \"column\": \"Movie_Tagline\",\n      \"properties\": {\n        \"dtype\": \"string\",\n        \"num_unique_values\": 3928,\n        \"samples\": [\n          \"The messenger must be silenced.\",\n          \"It's not the house that's haunted.\",\n          \"The final hunt begins.\"\n        ],\n        \"semantic_type\": \"\",\n        \"description\": \"\"\n      }\n    },\n    {\n      \"column\": \"Movie_Cast\",\n      \"properties\": {\n        \"dtype\": \"string\",\n        \"num_unique_values\": 4715,\n        \"samples\": [\n          \"Robin Tunney Fairuza Balk Neve Campbell Rachel True Skeet Ulrich\",\n          \"Peter Sellers Christopher Plummer Herbert Lom Catherine Schell Peter Arne\",\n          \"John Wayne Laraine Day Cedric Hardwicke Judith Anderson Anthony Quinn\"\n        ],\n        \"semantic_type\": \"\",\n        \"description\": \"\"\n      }\n    },\n    {\n      \"column\": \"Movie_Director\",\n      \"properties\": {\n        \"dtype\": \"category\",\n        \"num_unique_values\": 2332,\n        \"samples\": [\n          \"Rob McKittrick\",\n          \"Terron R. Parsons\",\n          \"Cyrus Nowrasteh\"\n        ],\n        \"semantic_type\": \"\",\n        \"description\": \"\"\n      }\n    }\n  ]\n}"
            }
          },
          "metadata": {},
          "execution_count": 9
        }
      ]
    },
    {
      "cell_type": "code",
      "source": [
        "x = df_features['Movie_Genre'] + ' ' + df_features['Movie_Keywords'] + ' ' + df_features['Movie_Tagline'] + ' ' + df_features['Movie_Cast'] + ' ' + df_features['Movie_Director']"
      ],
      "metadata": {
        "id": "IKlmkVAsKjxk"
      },
      "execution_count": 10,
      "outputs": []
    },
    {
      "cell_type": "code",
      "source": [
        "x"
      ],
      "metadata": {
        "colab": {
          "base_uri": "https://localhost:8080/",
          "height": 458
        },
        "id": "A42rFzmYLNX_",
        "outputId": "8445d5c2-87ed-458b-b5a2-2c78a77fb86a"
      },
      "execution_count": 11,
      "outputs": [
        {
          "output_type": "execute_result",
          "data": {
            "text/plain": [
              "0       Crime Comedy hotel new year's eve witch bet ho...\n",
              "1       Adventure Action Science Fiction android galax...\n",
              "2       Animation Family father son relationship harbo...\n",
              "3       Comedy Drama Romance vietnam veteran hippie me...\n",
              "4       Drama male nudity female nudity adultery midli...\n",
              "                              ...                        \n",
              "4755    Horror  The hot spot where Satan's waitin'. Li...\n",
              "4756    Comedy Family Drama  It’s better to stand out ...\n",
              "4757    Thriller Drama christian film sex trafficking ...\n",
              "4758                                           Family    \n",
              "4759    Documentary music actors legendary perfomer cl...\n",
              "Length: 4760, dtype: object"
            ],
            "text/html": [
              "<div>\n",
              "<style scoped>\n",
              "    .dataframe tbody tr th:only-of-type {\n",
              "        vertical-align: middle;\n",
              "    }\n",
              "\n",
              "    .dataframe tbody tr th {\n",
              "        vertical-align: top;\n",
              "    }\n",
              "\n",
              "    .dataframe thead th {\n",
              "        text-align: right;\n",
              "    }\n",
              "</style>\n",
              "<table border=\"1\" class=\"dataframe\">\n",
              "  <thead>\n",
              "    <tr style=\"text-align: right;\">\n",
              "      <th></th>\n",
              "      <th>0</th>\n",
              "    </tr>\n",
              "  </thead>\n",
              "  <tbody>\n",
              "    <tr>\n",
              "      <th>0</th>\n",
              "      <td>Crime Comedy hotel new year's eve witch bet ho...</td>\n",
              "    </tr>\n",
              "    <tr>\n",
              "      <th>1</th>\n",
              "      <td>Adventure Action Science Fiction android galax...</td>\n",
              "    </tr>\n",
              "    <tr>\n",
              "      <th>2</th>\n",
              "      <td>Animation Family father son relationship harbo...</td>\n",
              "    </tr>\n",
              "    <tr>\n",
              "      <th>3</th>\n",
              "      <td>Comedy Drama Romance vietnam veteran hippie me...</td>\n",
              "    </tr>\n",
              "    <tr>\n",
              "      <th>4</th>\n",
              "      <td>Drama male nudity female nudity adultery midli...</td>\n",
              "    </tr>\n",
              "    <tr>\n",
              "      <th>...</th>\n",
              "      <td>...</td>\n",
              "    </tr>\n",
              "    <tr>\n",
              "      <th>4755</th>\n",
              "      <td>Horror  The hot spot where Satan's waitin'. Li...</td>\n",
              "    </tr>\n",
              "    <tr>\n",
              "      <th>4756</th>\n",
              "      <td>Comedy Family Drama  It’s better to stand out ...</td>\n",
              "    </tr>\n",
              "    <tr>\n",
              "      <th>4757</th>\n",
              "      <td>Thriller Drama christian film sex trafficking ...</td>\n",
              "    </tr>\n",
              "    <tr>\n",
              "      <th>4758</th>\n",
              "      <td>Family</td>\n",
              "    </tr>\n",
              "    <tr>\n",
              "      <th>4759</th>\n",
              "      <td>Documentary music actors legendary perfomer cl...</td>\n",
              "    </tr>\n",
              "  </tbody>\n",
              "</table>\n",
              "<p>4760 rows × 1 columns</p>\n",
              "</div><br><label><b>dtype:</b> object</label>"
            ]
          },
          "metadata": {},
          "execution_count": 11
        }
      ]
    },
    {
      "cell_type": "code",
      "source": [
        "x.shape"
      ],
      "metadata": {
        "colab": {
          "base_uri": "https://localhost:8080/"
        },
        "id": "KUvvp7PFMMrK",
        "outputId": "b787b539-ee5a-43ec-8dcf-8cb61edee5fa"
      },
      "execution_count": 12,
      "outputs": [
        {
          "output_type": "execute_result",
          "data": {
            "text/plain": [
              "(4760,)"
            ]
          },
          "metadata": {},
          "execution_count": 12
        }
      ]
    },
    {
      "cell_type": "markdown",
      "source": [
        "**Get Feature Text Conversion to Tokens**"
      ],
      "metadata": {
        "id": "yh0f9h7SL6BE"
      }
    },
    {
      "cell_type": "code",
      "source": [
        "tfidf = TfidfVectorizer()"
      ],
      "metadata": {
        "id": "MpnWLdrDMY6f"
      },
      "execution_count": 13,
      "outputs": []
    },
    {
      "cell_type": "code",
      "source": [
        "x = tfidf.fit_transform(x)"
      ],
      "metadata": {
        "id": "dmIVE7JeMfxf"
      },
      "execution_count": 14,
      "outputs": []
    },
    {
      "cell_type": "code",
      "source": [
        "x.shape"
      ],
      "metadata": {
        "colab": {
          "base_uri": "https://localhost:8080/"
        },
        "id": "7q6m930_NeYb",
        "outputId": "a00fce9a-a83a-4b92-f512-44f54ec42671"
      },
      "execution_count": 15,
      "outputs": [
        {
          "output_type": "execute_result",
          "data": {
            "text/plain": [
              "(4760, 17258)"
            ]
          },
          "metadata": {},
          "execution_count": 15
        }
      ]
    },
    {
      "cell_type": "code",
      "source": [
        "print(x)"
      ],
      "metadata": {
        "colab": {
          "base_uri": "https://localhost:8080/"
        },
        "id": "DY_gzdg2NntK",
        "outputId": "ad8fcf88-9f06-456f-b207-4f54026d10ca"
      },
      "execution_count": 16,
      "outputs": [
        {
          "output_type": "stream",
          "name": "stdout",
          "text": [
            "  (0, 3583)\t0.06486754376295062\n",
            "  (0, 3240)\t0.04527089872278055\n",
            "  (0, 7213)\t0.25146675849405775\n",
            "  (0, 10898)\t0.17625708810661284\n",
            "  (0, 17052)\t0.26079573581490934\n",
            "  (0, 5059)\t0.29553419178998613\n",
            "  (0, 16862)\t0.12768803549311025\n",
            "  (0, 1595)\t0.15687561633854538\n",
            "  (0, 13052)\t0.1465525095337543\n",
            "  (0, 15708)\t0.17654247479915475\n",
            "  (0, 11362)\t0.18801785343006192\n",
            "  (0, 6463)\t0.18801785343006192\n",
            "  (0, 5662)\t0.1465525095337543\n",
            "  (0, 13467)\t0.19712637387361423\n",
            "  (0, 12731)\t0.19712637387361423\n",
            "  (0, 614)\t0.07642616241686973\n",
            "  (0, 11244)\t0.08262965296941757\n",
            "  (0, 9206)\t0.15186283580984414\n",
            "  (0, 1495)\t0.19712637387361423\n",
            "  (0, 7454)\t0.14745635785412262\n",
            "  (0, 7071)\t0.19822417598406614\n",
            "  (0, 5499)\t0.11454057510303811\n",
            "  (0, 3878)\t0.11998399582562203\n",
            "  (0, 11242)\t0.07277788238484746\n",
            "  (0, 15219)\t0.09800472886453934\n",
            "  :\t:\n",
            "  (4757, 3485)\t0.199161573117024\n",
            "  (4757, 1184)\t0.18890726729447022\n",
            "  (4757, 14568)\t0.24255077606762876\n",
            "  (4757, 15508)\t0.24255077606762876\n",
            "  (4757, 5802)\t0.24255077606762876\n",
            "  (4757, 819)\t0.27474840155297187\n",
            "  (4757, 14195)\t0.28805858134028367\n",
            "  (4757, 2227)\t0.28805858134028367\n",
            "  (4757, 7691)\t0.28805858134028367\n",
            "  (4757, 1932)\t0.28805858134028367\n",
            "  (4758, 5238)\t1.0\n",
            "  (4759, 10666)\t0.15888268987343043\n",
            "  (4759, 1490)\t0.21197258705292082\n",
            "  (4759, 15431)\t0.19628653185946862\n",
            "  (4759, 5690)\t0.19534291014627303\n",
            "  (4759, 14051)\t0.20084315377640435\n",
            "  (4759, 4358)\t0.18306542312175342\n",
            "  (4759, 10761)\t0.3126617295732147\n",
            "  (4759, 7130)\t0.26419662449963793\n",
            "  (4759, 3058)\t0.2812896191863103\n",
            "  (4759, 14062)\t0.3237911628497312\n",
            "  (4759, 8902)\t0.3040290704566037\n",
            "  (4759, 205)\t0.3237911628497312\n",
            "  (4759, 11708)\t0.33947721804318337\n",
            "  (4759, 11264)\t0.33947721804318337\n"
          ]
        }
      ]
    },
    {
      "cell_type": "code",
      "source": [
        "similarity_score = cosine_similarity(x)"
      ],
      "metadata": {
        "id": "cEuCoXmzPvFe"
      },
      "execution_count": 17,
      "outputs": []
    },
    {
      "cell_type": "code",
      "source": [
        "similarity_score"
      ],
      "metadata": {
        "colab": {
          "base_uri": "https://localhost:8080/"
        },
        "id": "z8cJEAuNP1RX",
        "outputId": "6c34c61d-651f-4590-d6c6-667d02ef73a6"
      },
      "execution_count": 18,
      "outputs": [
        {
          "output_type": "execute_result",
          "data": {
            "text/plain": [
              "array([[1.        , 0.01351235, 0.03570468, ..., 0.        , 0.        ,\n",
              "        0.        ],\n",
              "       [0.01351235, 1.        , 0.00806674, ..., 0.        , 0.        ,\n",
              "        0.        ],\n",
              "       [0.03570468, 0.00806674, 1.        , ..., 0.        , 0.08014876,\n",
              "        0.        ],\n",
              "       ...,\n",
              "       [0.        , 0.        , 0.        , ..., 1.        , 0.        ,\n",
              "        0.        ],\n",
              "       [0.        , 0.        , 0.08014876, ..., 0.        , 1.        ,\n",
              "        0.        ],\n",
              "       [0.        , 0.        , 0.        , ..., 0.        , 0.        ,\n",
              "        1.        ]])"
            ]
          },
          "metadata": {},
          "execution_count": 18
        }
      ]
    },
    {
      "cell_type": "code",
      "source": [
        "similarity_score.shape"
      ],
      "metadata": {
        "colab": {
          "base_uri": "https://localhost:8080/"
        },
        "id": "7L1NjGLxP5Xz",
        "outputId": "d16001d8-6525-41bf-e7ff-bf9090a43c40"
      },
      "execution_count": 19,
      "outputs": [
        {
          "output_type": "execute_result",
          "data": {
            "text/plain": [
              "(4760, 4760)"
            ]
          },
          "metadata": {},
          "execution_count": 19
        }
      ]
    },
    {
      "cell_type": "markdown",
      "source": [
        "**Get Movie name as a Input fromm User and validate for closet Spelling**"
      ],
      "metadata": {
        "id": "1Pi4eF5fQK6_"
      }
    },
    {
      "cell_type": "code",
      "source": [
        "Favourite_Movie_Name = input('Enter your favourite movie name: ')"
      ],
      "metadata": {
        "colab": {
          "base_uri": "https://localhost:8080/"
        },
        "collapsed": true,
        "id": "A8WG_A3OQJKq",
        "outputId": "bfaadaea-940c-4a1a-f503-e6a6be9d5724"
      },
      "execution_count": 20,
      "outputs": [
        {
          "name": "stdout",
          "output_type": "stream",
          "text": [
            "Enter your favourite movie name: Family\n"
          ]
        }
      ]
    },
    {
      "cell_type": "code",
      "source": [
        "All_Movie_Title_List = df['Movie_Title'].tolist()"
      ],
      "metadata": {
        "id": "MbEAWC2ORlWK"
      },
      "execution_count": 21,
      "outputs": []
    },
    {
      "cell_type": "code",
      "source": [
        "Movie_Recommendation = difflib.get_close_matches(Favourite_Movie_Name, All_Movie_Title_List)\n",
        "print(Movie_Recommendation)"
      ],
      "metadata": {
        "colab": {
          "base_uri": "https://localhost:8080/"
        },
        "id": "MotQ-ighSvSM",
        "outputId": "26d0c7bf-ac6e-495a-ce08-49c0c1ba7026"
      },
      "execution_count": 22,
      "outputs": [
        {
          "output_type": "stream",
          "name": "stdout",
          "text": [
            "['Frailty', 'Family Plot', 'The Family Man']\n"
          ]
        }
      ]
    },
    {
      "cell_type": "code",
      "source": [
        "close_match = Movie_Recommendation[0]\n",
        "print(close_match)"
      ],
      "metadata": {
        "colab": {
          "base_uri": "https://localhost:8080/"
        },
        "id": "0SR1GQ3yUHdH",
        "outputId": "2dae6e87-8ff3-4738-aa78-4e138999b06b"
      },
      "execution_count": 23,
      "outputs": [
        {
          "output_type": "stream",
          "name": "stdout",
          "text": [
            "Frailty\n"
          ]
        }
      ]
    },
    {
      "cell_type": "code",
      "source": [
        "index_of_close_match_movie = df[df.Movie_Title == close_match]['Movie_ID'].values[0]\n",
        "print(index_of_close_match_movie)"
      ],
      "metadata": {
        "colab": {
          "base_uri": "https://localhost:8080/"
        },
        "id": "qKjxXGeOUej3",
        "outputId": "106f887c-b446-493e-ca14-22f12b2f35dc"
      },
      "execution_count": 24,
      "outputs": [
        {
          "output_type": "stream",
          "name": "stdout",
          "text": [
            "2097\n"
          ]
        }
      ]
    },
    {
      "cell_type": "code",
      "source": [
        "Recommendation_Score = list(enumerate(similarity_score[index_of_close_match_movie]))"
      ],
      "metadata": {
        "id": "1DYms9zmVNeK"
      },
      "execution_count": 27,
      "outputs": []
    },
    {
      "cell_type": "code",
      "source": [
        "print(Recommendation_Score)"
      ],
      "metadata": {
        "colab": {
          "base_uri": "https://localhost:8080/"
        },
        "id": "O4aRpOODVTxg",
        "outputId": "54992e27-d644-40c5-81c6-7acaf05bca1e"
      },
      "execution_count": 28,
      "outputs": [
        {
          "output_type": "stream",
          "name": "stdout",
          "text": [
            "[(0, 0.029892727213866675), (1, 0.0), (2, 0.031302204708425416), (3, 0.0027940145067739475), (4, 0.003353409758805672), (5, 0.012080240120488465), (6, 0.021965056287314814), (7, 0.002283125213724728), (8, 0.003451615958290116), (9, 0.0), (10, 0.009448468547008693), (11, 0.003291190974087277), (12, 0.025194804654685748), (13, 0.0), (14, 0.0), (15, 0.02176163083591936), (16, 0.0026490206812606666), (17, 0.02168613448669678), (18, 0.03193124318874002), (19, 0.03673888722351705), (20, 0.035980210288131635), (21, 0.012880112209127357), (22, 0.0), (23, 0.024586194619973804), (24, 0.0554102103604163), (25, 0.03640361612348495), (26, 0.003109737332384813), (27, 0.016999466627475694), (28, 0.0), (29, 0.0030265930319477705), (30, 0.013749006430693567), (31, 0.002989039742391375), (32, 0.002787123144268193), (33, 0.0028087506013468296), (34, 0.014551343437118171), (35, 0.024710407742360926), (36, 0.0), (37, 0.02814409962630985), (38, 0.045364925698499314), (39, 0.010850142608833017), (40, 0.05927638497480942), (41, 0.0035364894934551677), (42, 0.04571602854718109), (43, 0.011055264610712507), (44, 0.002645653741639705), (45, 0.01025548371392756), (46, 0.009680037818158047), (47, 0.007869680143228325), (48, 0.12562751557836116), (49, 0.0), (50, 0.05727707244228991), (51, 0.012672126297080904), (52, 0.048147663659724824), (53, 0.019345081235731053), (54, 0.0), (55, 0.038431150676036814), (56, 0.02078538352878116), (57, 0.0), (58, 0.0), (59, 0.06135150714549766), (60, 0.036965917074344906), (61, 0.01660845876635727), (62, 0.026048265296042983), (63, 0.0025294526287538473), (64, 0.01709840393757739), (65, 0.05485369091715061), (66, 0.0031720370790018475), (67, 0.019274672131359524), (68, 0.03363682778231522), (69, 0.02333901836628138), (70, 0.009697418722439404), (71, 0.014326167712171347), (72, 0.04426901623139351), (73, 0.00935514914696281), (74, 0.003380170490350714), (75, 0.017853093291118415), (76, 0.0), (77, 0.0), (78, 0.0357347593134356), (79, 0.00316832638289219), (80, 0.019476122676668994), (81, 0.03300951340677452), (82, 0.010611824840380032), (83, 0.04917587130922847), (84, 0.03334808274056023), (85, 0.04435221497005319), (86, 0.016918034893348716), (87, 0.02479840701511995), (88, 0.007312744416009722), (89, 0.07085648863054778), (90, 0.010566663953723044), (91, 0.00956632960570656), (92, 0.0027969718937585226), (93, 0.029902971867636158), (94, 0.009923213206821586), (95, 0.011115481606384085), (96, 0.01114739273615696), (97, 0.0027891193999730365), (98, 0.0031121050906640817), (99, 0.007667882695890591), (100, 0.0), (101, 0.0), (102, 0.03410915264723567), (103, 0.0027528089941879523), (104, 0.016928612563502702), (105, 0.033831009745222726), (106, 0.009271600121262859), (107, 0.02675862922711397), (108, 0.008569237185670542), (109, 0.10215574445006907), (110, 0.0), (111, 0.09662404578525327), (112, 0.12829561060079597), (113, 0.011177977276312149), (114, 0.0031812594422237902), (115, 0.09963256048578492), (116, 0.015877058257208632), (117, 0.0), (118, 0.061642586219690765), (119, 0.0031181382384096994), (120, 0.012421720870084004), (121, 0.05458792119027425), (122, 0.028075499302522747), (123, 0.0347001327520608), (124, 0.010997900125593813), (125, 0.012370590631166791), (126, 0.011363977180405778), (127, 0.022972567098018263), (128, 0.011987619524929846), (129, 0.04134272363028223), (130, 0.0), (131, 0.0), (132, 0.012397825425628705), (133, 0.0), (134, 0.0), (135, 0.0), (136, 0.015534769053583995), (137, 0.09309413890399382), (138, 0.02811503593009583), (139, 0.05928825699880865), (140, 0.0029771462068190198), (141, 0.0), (142, 0.01730055000759414), (143, 0.03245000432014292), (144, 0.018694556436042384), (145, 0.14934000368453973), (146, 0.02380352327834265), (147, 0.02222478154680519), (148, 0.008045728944291569), (149, 0.009946102647774593), (150, 0.0), (151, 0.0), (152, 0.02064204532734388), (153, 0.0), (154, 0.03271129917939656), (155, 0.0), (156, 0.04205765905080988), (157, 0.003026928051499369), (158, 0.01508978985078744), (159, 0.0024874473214037645), (160, 0.009546192576787146), (161, 0.0028567669093480627), (162, 0.03347484656113313), (163, 0.00845375174456314), (164, 0.003024220017239376), (165, 0.002747462918588997), (166, 0.018467276663376633), (167, 0.052575947166192245), (168, 0.048682530983191585), (169, 0.023180249380151948), (170, 0.03632116039445739), (171, 0.0), (172, 0.012082594531276537), (173, 0.03490041868815071), (174, 0.01930375718557436), (175, 0.002683716909950041), (176, 0.0032657697989354304), (177, 0.0), (178, 0.0033433825583511273), (179, 0.02043119076776239), (180, 0.009474408227425254), (181, 0.017614297211157766), (182, 0.003203579921172499), (183, 0.002914809034664101), (184, 0.00279870296856997), (185, 0.009846189295754915), (186, 0.0), (187, 0.011967956672230527), (188, 0.0), (189, 0.0), (190, 0.053011599728815265), (191, 0.027507151048590785), (192, 0.04218789704919068), (193, 0.02494494096627626), (194, 0.04302723672191369), (195, 0.0026714105430663566), (196, 0.002669530188375936), (197, 0.013203859302840496), (198, 0.024791309603379743), (199, 0.01098227157548829), (200, 0.014864387712311772), (201, 0.02011647697521912), (202, 0.0020854714257959378), (203, 0.003007233069417163), (204, 0.025081707351684), (205, 0.0), (206, 0.024239091688616154), (207, 0.02221978815941499), (208, 0.02074825745771219), (209, 0.012153509960200606), (210, 0.012980841872604482), (211, 0.0033220520207979036), (212, 0.018289401935465334), (213, 0.022741377607600387), (214, 0.05906298976412028), (215, 0.0031223823916886463), (216, 0.012486869794227275), (217, 0.02894410580532973), (218, 0.01240985070709643), (219, 0.020771378038338173), (220, 0.0), (221, 0.013295793217738137), (222, 0.011964086558130199), (223, 0.019658646609349975), (224, 0.00921516001068405), (225, 0.023478735184389393), (226, 0.06324626957311841), (227, 0.04578364316417277), (228, 0.10705121690923244), (229, 0.0029630488185830237), (230, 0.0), (231, 0.0), (232, 0.0), (233, 0.010279083219776117), (234, 0.01757017323714287), (235, 0.0035872956817332526), (236, 0.08514677179302858), (237, 0.017244441643693785), (238, 0.01993265082430009), (239, 0.0), (240, 0.0), (241, 0.010779243616085326), (242, 0.020427139607903065), (243, 0.002237575494708301), (244, 0.018861999208610484), (245, 0.05039748921187198), (246, 0.0033799729190562887), (247, 0.003142481564648858), (248, 0.012622382598675368), (249, 0.05649892757998259), (250, 0.015267719261890151), (251, 0.048442069410729836), (252, 0.014901019912248351), (253, 0.06915799678170709), (254, 0.013275402981414374), (255, 0.003328141062921468), (256, 0.00899820634449637), (257, 0.05347251983542861), (258, 0.0), (259, 0.0), (260, 0.0), (261, 0.0), (262, 0.014690646785971356), (263, 0.0), (264, 0.01638745484373004), (265, 0.0), (266, 0.01815342035155751), (267, 0.002693372542288392), (268, 0.0028346747438999873), (269, 0.02096612790029935), (270, 0.037758355943856146), (271, 0.0024357350826407077), (272, 0.04123237920694653), (273, 0.05172847580552954), (274, 0.08030505166850022), (275, 0.0), (276, 0.01135653290790881), (277, 0.0), (278, 0.05260052373204614), (279, 0.04010495908788497), (280, 0.01201291191278362), (281, 0.05477997403208574), (282, 0.03197762161236336), (283, 0.06208489500964197), (284, 0.0), (285, 0.020340822749818244), (286, 0.002727305011945786), (287, 0.011301487188699354), (288, 0.0), (289, 0.0), (290, 0.0), (291, 0.026690045222699882), (292, 0.003083574280075777), (293, 0.002259811889559225), (294, 0.016254895238104142), (295, 0.016648727317499595), (296, 0.012608038326197873), (297, 0.0), (298, 0.02132573223380861), (299, 0.0), (300, 0.010294702953694118), (301, 0.02586343645072204), (302, 0.009821247877016994), (303, 0.011725779227148824), (304, 0.017776056877522574), (305, 0.01040473250431517), (306, 0.01880952127458028), (307, 0.04089862274596202), (308, 0.0035540063625288205), (309, 0.002527881575688075), (310, 0.0), (311, 0.01809734756214239), (312, 0.0), (313, 0.0), (314, 0.009058197094839196), (315, 0.010446871843399104), (316, 0.009652425100889012), (317, 0.0027829376371717443), (318, 0.0034732803738733342), (319, 0.008533587082083878), (320, 0.01091844422186939), (321, 0.020217445581258403), (322, 0.0712514003045028), (323, 0.0), (324, 0.0029293282797197293), (325, 0.012845006419422062), (326, 0.003892232969346721), (327, 0.054940353863777144), (328, 0.0), (329, 0.036123208968892914), (330, 0.00939226597187367), (331, 0.0), (332, 0.032928129538268715), (333, 0.026413879416882044), (334, 0.026347905576747103), (335, 0.0), (336, 0.0221107840938869), (337, 0.03311063317066304), (338, 0.0), (339, 0.0), (340, 0.011610134588575686), (341, 0.014691149234675382), (342, 0.013120696601884118), (343, 0.0032023386713611515), (344, 0.01095376060761248), (345, 0.09556636023343222), (346, 0.003158102669663326), (347, 0.03417452928884848), (348, 0.013455996169556457), (349, 0.0030824875963460486), (350, 0.003460020393894528), (351, 0.0024247984241216425), (352, 0.018931689892023196), (353, 0.034539522660361886), (354, 0.031168588302977845), (355, 0.0029306365893685244), (356, 0.04355378563513333), (357, 0.0027426197901781442), (358, 0.0030910592486077903), (359, 0.024995782258629105), (360, 0.1091972920142074), (361, 0.011055524291814018), (362, 0.0), (363, 0.0), (364, 0.002734253528285726), (365, 0.0), (366, 0.02921790712853162), (367, 0.04116301985267045), (368, 0.0515770251630549), (369, 0.07007532601462049), (370, 0.012024893530875073), (371, 0.09188736286373618), (372, 0.0029613040752147447), (373, 0.012882452480103175), (374, 0.040253415499345635), (375, 0.0), (376, 0.011852238575918887), (377, 0.003274670869106232), (378, 0.003191848392239486), (379, 0.0), (380, 0.05205796142192816), (381, 0.019650318147292754), (382, 0.0), (383, 0.0), (384, 0.0), (385, 0.009814904660349847), (386, 0.022133352017186313), (387, 0.022251229848068037), (388, 0.012832128732240957), (389, 0.06138577827948574), (390, 0.01040027986035156), (391, 0.01333869179604317), (392, 0.011063044523667952), (393, 0.009223004297946154), (394, 0.009234650906411613), (395, 0.0034099254685735717), (396, 0.01157426204947839), (397, 0.009879985148245672), (398, 0.0), (399, 0.002944969016842779), (400, 0.003149055820251314), (401, 0.0), (402, 0.0038744624857145315), (403, 0.020710131102930057), (404, 0.047680986886511297), (405, 0.0), (406, 0.003242647761009432), (407, 0.0025501106557555657), (408, 0.021234168785001686), (409, 0.02465512299350163), (410, 0.0029568454165166034), (411, 0.0), (412, 0.0025965366927318398), (413, 0.0), (414, 0.0), (415, 0.05289244911241745), (416, 0.0029124505887155932), (417, 0.02719843597415806), (418, 0.009378217893990338), (419, 0.003579530997187583), (420, 0.011199104664384686), (421, 0.04028249811164491), (422, 0.008377075308995875), (423, 0.0), (424, 0.0), (425, 0.011815100397819116), (426, 0.0), (427, 0.009989733544734834), (428, 0.0028694219022681123), (429, 0.05004964172924764), (430, 0.003420823403635961), (431, 0.0649022226900785), (432, 0.0331832392971868), (433, 0.0137606301996053), (434, 0.03227156623392606), (435, 0.02442513090553549), (436, 0.04166230449972288), (437, 0.0030157099197650515), (438, 0.011154219814602207), (439, 0.04421230845639321), (440, 0.09018806993929578), (441, 0.0026263827073852598), (442, 0.002635307862039274), (443, 0.031955742381020016), (444, 0.003541248391333581), (445, 0.0027207917128404344), (446, 0.013641524479154734), (447, 0.05369008095710205), (448, 0.06352210792492972), (449, 0.0028744333001821352), (450, 0.01321618364935042), (451, 0.02050321164751737), (452, 0.002393747552415391), (453, 0.0024302934265807105), (454, 0.025216911019816445), (455, 0.061374051596292986), (456, 0.04578399893767297), (457, 0.0029170177055570833), (458, 0.01343921462101634), (459, 0.0), (460, 0.0), (461, 0.057467428677215736), (462, 0.0), (463, 0.03008246152451835), (464, 0.0031415313094047548), (465, 0.0029015813767070252), (466, 0.013438738376577964), (467, 0.0), (468, 0.0), (469, 0.0), (470, 0.003352035436058294), (471, 0.0497322511310564), (472, 0.06184639032426047), (473, 0.032262402582053276), (474, 0.009316121104192584), (475, 0.016540207860282135), (476, 0.0034887713605281545), (477, 0.016284541624372324), (478, 0.02857170687190908), (479, 0.05164502497202422), (480, 0.002788896019672516), (481, 0.013098378835527866), (482, 0.02883750954658016), (483, 0.012716888804056846), (484, 0.0), (485, 0.012907393271721173), (486, 0.020754062528364994), (487, 0.003042457322156931), (488, 0.003074153924129574), (489, 0.003801966567025238), (490, 0.013847412100288347), (491, 0.0), (492, 0.009723705380426384), (493, 0.025049934588455218), (494, 0.041115716246509615), (495, 0.0028110299966306713), (496, 0.0027134187056900676), (497, 0.0320688422998104), (498, 0.0), (499, 0.0034587707954114436), (500, 0.00864503799824115), (501, 0.043576755899383084), (502, 0.023921608713906764), (503, 0.008624700928559614), (504, 0.003197443959993879), (505, 0.003019263380375392), (506, 0.0), (507, 0.0029842752734590403), (508, 0.029028270718396657), (509, 0.025057673924072536), (510, 0.03117914925864171), (511, 0.03646154205830272), (512, 0.024264395071193608), (513, 0.04780504438120286), (514, 0.02305109775374586), (515, 0.010856673120117509), (516, 0.050652745999443624), (517, 0.0), (518, 0.0037259407022351312), (519, 0.0028062146904932663), (520, 0.0), (521, 0.0), (522, 0.003085114340997245), (523, 0.11969350039134714), (524, 0.002915633819640641), (525, 0.0), (526, 0.0039965799356319045), (527, 0.0025160982283134996), (528, 0.0), (529, 0.0), (530, 0.028823763106250226), (531, 0.0667905853461651), (532, 0.008232970519328007), (533, 0.013546925981887947), (534, 0.011895815454421216), (535, 0.010276372367933094), (536, 0.0), (537, 0.012300091534679279), (538, 0.033024770499336734), (539, 0.008675991450320256), (540, 0.0), (541, 0.013526076267431787), (542, 0.029489863470027508), (543, 0.012544406405867532), (544, 0.012222551528302135), (545, 0.017933869495095504), (546, 0.020508573777201042), (547, 0.010154749216573543), (548, 0.019144077616083752), (549, 0.0), (550, 0.011503696319171957), (551, 0.0033007364992323133), (552, 0.0), (553, 0.05242681420603024), (554, 0.0), (555, 0.013460336207267743), (556, 0.021331584705239603), (557, 0.0), (558, 0.030706792461225534), (559, 0.0), (560, 0.07852676789912012), (561, 0.0), (562, 0.03402480568810322), (563, 0.0028658827817376405), (564, 0.02515187079902944), (565, 0.05689742585429278), (566, 0.010104784362198612), (567, 0.0), (568, 0.028956383984855543), (569, 0.02824842803857784), (570, 0.03657738416000438), (571, 0.002450469878270815), (572, 0.040659219756788205), (573, 0.020039519715493302), (574, 0.025129649100174945), (575, 0.03213997598382272), (576, 0.015323271579197073), (577, 0.03804814424980192), (578, 0.0029996041376127327), (579, 0.003221779061171327), (580, 0.10280108030463891), (581, 0.0028641001168634387), (582, 0.012730098730805115), (583, 0.0), (584, 0.012462609576266758), (585, 0.010018955956205831), (586, 0.0), (587, 0.027764789019998626), (588, 0.05569965791020473), (589, 0.0858212728790857), (590, 0.01288856811944107), (591, 0.011866848822823885), (592, 0.0), (593, 0.003241700206203125), (594, 0.08733540053642383), (595, 0.011454151495173391), (596, 0.0909263562944533), (597, 0.03132649442348941), (598, 0.0029612344016750262), (599, 0.0), (600, 0.0), (601, 0.0), (602, 0.0), (603, 0.021713874941112522), (604, 0.021015116769724736), (605, 0.0027965876428444982), (606, 0.017371217202776356), (607, 0.03391120892163787), (608, 0.0028809823340118896), (609, 0.020030837526919077), (610, 0.010354996577378957), (611, 0.005106295798622762), (612, 0.0033744176136009116), (613, 0.008739160071469196), (614, 0.0036465627473805124), (615, 0.0), (616, 0.0026485643273815216), (617, 0.01420299856503294), (618, 0.03009763585664372), (619, 0.0), (620, 0.0030525846255253634), (621, 0.00750154772470369), (622, 0.08239680154094386), (623, 0.0033755394224765246), (624, 0.0029070498347165876), (625, 0.01829193032322581), (626, 0.02034562270500865), (627, 0.022778941594444168), (628, 0.014099008942422147), (629, 0.019438001245539304), (630, 0.0), (631, 0.0032678274626311175), (632, 0.008013144750582846), (633, 0.03419030514039042), (634, 0.0), (635, 0.011797521535889092), (636, 0.016989297091640123), (637, 0.03142767611803676), (638, 0.0029292582621582067), (639, 0.0), (640, 0.0), (641, 0.0022759293394330835), (642, 0.021105309305098467), (643, 0.0501045765912488), (644, 0.003019188788165287), (645, 0.002595798436561168), (646, 0.0030563592492000085), (647, 0.0027885881281718696), (648, 0.019079005129840915), (649, 0.02538001718321526), (650, 0.0), (651, 0.0030684327234680635), (652, 0.02627547231961263), (653, 0.06437273511190186), (654, 0.0566309116725313), (655, 0.015709243914490186), (656, 0.0), (657, 0.021698002103941474), (658, 0.021945614985775682), (659, 0.037220723463913016), (660, 0.0732362481756716), (661, 0.01279946808959184), (662, 0.0), (663, 0.0), (664, 0.017633759719890025), (665, 0.022116745754561087), (666, 0.0), (667, 0.009321490209172523), (668, 0.007014365220865968), (669, 0.03138677925243704), (670, 0.0039168159415689215), (671, 0.0), (672, 0.002834036949500354), (673, 0.05642486218517916), (674, 0.016222179246272804), (675, 0.046755938962822055), (676, 0.11681739309779389), (677, 0.0), (678, 0.03192141120163069), (679, 0.0), (680, 0.05877230731644603), (681, 0.0), (682, 0.009971527199249524), (683, 0.06731806188308513), (684, 0.00883801624919269), (685, 0.052641707914658366), (686, 0.023492210187608664), (687, 0.02264973553018769), (688, 0.003520755929872311), (689, 0.02346386174961919), (690, 0.0), (691, 0.002568717726196968), (692, 0.04194236701934225), (693, 0.0030933542432772234), (694, 0.0029887252131032345), (695, 0.020733473851820776), (696, 0.003199072649833106), (697, 0.019624864181845322), (698, 0.018490281401619325), (699, 0.0), (700, 0.017954652653469155), (701, 0.07776548591112925), (702, 0.0), (703, 0.012074412423586808), (704, 0.0), (705, 0.0028136949848263423), (706, 0.0025243643239944366), (707, 0.002673219722106101), (708, 0.0), (709, 0.01847867638200794), (710, 0.018965604762027743), (711, 0.0), (712, 0.012354794570390116), (713, 0.019436232918999003), (714, 0.010538035620281999), (715, 0.03305841856354523), (716, 0.014254201377080685), (717, 0.0033143701473857534), (718, 0.021350516794938403), (719, 0.04537811092405314), (720, 0.0), (721, 0.01602272535783012), (722, 0.002855775046640886), (723, 0.0), (724, 0.03736139376995437), (725, 0.0), (726, 0.0), (727, 0.016527699090647698), (728, 0.0034279367631220355), (729, 0.01875888508814317), (730, 0.0), (731, 0.01300276675057096), (732, 0.030359030823033987), (733, 0.03743424333906773), (734, 0.002976511493588331), (735, 0.004339887256190068), (736, 0.049462272287818264), (737, 0.0035847127724949477), (738, 0.0), (739, 0.01919589321389784), (740, 0.04243399461723887), (741, 0.03766020056599215), (742, 0.025970441131148457), (743, 0.04075324742745341), (744, 0.015557125486122023), (745, 0.008197469755460892), (746, 0.0), (747, 0.03891007287387807), (748, 0.04760729354779901), (749, 0.0031801472094882643), (750, 0.01713825874967175), (751, 0.025607187353728134), (752, 0.0736219476003075), (753, 0.056253601796999224), (754, 0.03521873977300102), (755, 0.0030886990493612784), (756, 0.009488717296318349), (757, 0.02625932864004737), (758, 0.04365943592861386), (759, 0.021480968771643467), (760, 0.025823418706879726), (761, 0.003178708651093546), (762, 0.0), (763, 0.0), (764, 0.015770429512574673), (765, 0.03643409124410342), (766, 0.002940742236298488), (767, 0.003014886961335188), (768, 0.0), (769, 0.0031366302912668176), (770, 0.0188560865849558), (771, 0.0), (772, 0.02569090903154833), (773, 0.010075088165255916), (774, 0.041402546898839654), (775, 0.0), (776, 0.00986254059978143), (777, 0.003819885337105031), (778, 0.0), (779, 0.017450940168042953), (780, 0.08375950746340599), (781, 0.0), (782, 0.003049777851279112), (783, 0.014319185090167243), (784, 0.0), (785, 0.0), (786, 0.0), (787, 0.0019440348716964482), (788, 0.005836283246748678), (789, 0.04191815013884455), (790, 0.05367958256575308), (791, 0.04772233594580625), (792, 0.01281196464717921), (793, 0.0), (794, 0.0034347150199601135), (795, 0.04608167302120822), (796, 0.0026386403663082947), (797, 0.0), (798, 0.0030329929227053258), (799, 0.011741456721727153), (800, 0.012217901663252841), (801, 0.11479747119699674), (802, 0.059060540286501866), (803, 0.0), (804, 0.002858575858390627), (805, 0.021817306199267972), (806, 0.0372578659019796), (807, 0.0), (808, 0.014830337617145667), (809, 0.020958719597561827), (810, 0.012747616965237097), (811, 0.034530108298829756), (812, 0.0), (813, 0.01889396104126057), (814, 0.016810728645462514), (815, 0.08349855159946723), (816, 0.05318926273626551), (817, 0.003075634836088389), (818, 0.05141388775059992), (819, 0.0), (820, 0.01803338325189238), (821, 0.0), (822, 0.010851510219804699), (823, 0.003663398907709338), (824, 0.016429578060409834), (825, 0.02918017905596333), (826, 0.003389561565563795), (827, 0.008411085834432501), (828, 0.011377714847417498), (829, 0.020990843977234823), (830, 0.014699920891194831), (831, 0.0178224069760487), (832, 0.02809189964053488), (833, 0.021066878931745928), (834, 0.013533087840456016), (835, 0.012900551773543446), (836, 0.0), (837, 0.01696342154384005), (838, 0.0029553144946259783), (839, 0.0), (840, 0.0), (841, 0.022416368573513486), (842, 0.023575850593045296), (843, 0.016071697918331105), (844, 0.0068513483868917835), (845, 0.0033273198829999384), (846, 0.03196875283715415), (847, 0.0036445873191299394), (848, 0.02379385999676517), (849, 0.0), (850, 0.0032355591850327598), (851, 0.045296400304805265), (852, 0.0030402236375724045), (853, 0.03997795241377139), (854, 0.003033160706044992), (855, 0.0), (856, 0.012482358755346387), (857, 0.0035096678046199594), (858, 0.0021459380091354103), (859, 0.01929753068779225), (860, 0.013955117505072844), (861, 0.0027368596263158845), (862, 0.0345823836170739), (863, 0.02230259287928904), (864, 0.03687636021948175), (865, 0.0032634088198576247), (866, 0.011196989528147683), (867, 0.052484965521483504), (868, 0.021905428622841384), (869, 0.009090431523446749), (870, 0.048644117114206874), (871, 0.024241641187456895), (872, 0.02615813167917278), (873, 0.0), (874, 0.010386801319513177), (875, 0.021590895838495713), (876, 0.013747645107633943), (877, 0.0), (878, 0.04086455884220264), (879, 0.012565734575108282), (880, 0.016580845468897563), (881, 0.0), (882, 0.0), (883, 0.03248626842391793), (884, 0.035382253785878996), (885, 0.05182274780285307), (886, 0.002979616726308488), (887, 0.0034558032306694496), (888, 0.035974843052005476), (889, 0.055133562909852135), (890, 0.040680899070807276), (891, 0.02150456690806166), (892, 0.0), (893, 0.027800079136657538), (894, 0.011931259384946899), (895, 0.03322348488440049), (896, 0.052170012685024206), (897, 0.023772695995910156), (898, 0.01839067209537265), (899, 0.002929745847123951), (900, 0.0029716028118293106), (901, 0.011258813872839016), (902, 0.013996236007767608), (903, 0.01310817899581916), (904, 0.03446838303788369), (905, 0.010256247762420284), (906, 0.0), (907, 0.0029227418681027147), (908, 0.09376526125929403), (909, 0.010921480166912294), (910, 0.015399191864433618), (911, 0.003011009384192532), (912, 0.009501906792933576), (913, 0.011047349641683737), (914, 0.013379320008682433), (915, 0.05395558020179665), (916, 0.008215364740241201), (917, 0.00284481595661159), (918, 0.030731406248505906), (919, 0.0), (920, 0.0), (921, 0.022740438365000053), (922, 0.021926174298298223), (923, 0.04315677942758821), (924, 0.011840206101443176), (925, 0.003654439429888728), (926, 0.01817038695549387), (927, 0.013383491885070143), (928, 0.02052871184410302), (929, 0.009805565632801556), (930, 0.003373419075348675), (931, 0.0301012549042089), (932, 0.012196889524228817), (933, 0.003245858483575464), (934, 0.01274475069155472), (935, 0.02272681952706199), (936, 0.012230626887202304), (937, 0.03001262529134234), (938, 0.030902954708855193), (939, 0.011360440668295967), (940, 0.00222431002154612), (941, 0.002976734485602579), (942, 0.009791696716177137), (943, 0.010831693238280487), (944, 0.018207978908482216), (945, 0.0), (946, 0.0), (947, 0.016247063091497982), (948, 0.0111635855344158), (949, 0.02902149089689214), (950, 0.0), (951, 0.002683029246845221), (952, 0.018184830552040745), (953, 0.010944544402244733), (954, 0.0), (955, 0.057931194472094834), (956, 0.0), (957, 0.021543450222385296), (958, 0.0), (959, 0.02452127072138701), (960, 0.0), (961, 0.0), (962, 0.049602198177192545), (963, 0.02205395143564509), (964, 0.0), (965, 0.021209401823877594), (966, 0.003000817297192832), (967, 0.0035089509175079115), (968, 0.0028790110111204903), (969, 0.039812932871472154), (970, 0.0), (971, 0.07021949155292803), (972, 0.007977391910910429), (973, 0.0031312453207749153), (974, 0.0), (975, 0.03895395149912062), (976, 0.02372588619183087), (977, 0.02226835726522979), (978, 0.0), (979, 0.012064977889150987), (980, 0.06045436567701591), (981, 0.06498866948858419), (982, 0.0), (983, 0.0), (984, 0.0704470008226494), (985, 0.0036356671841637224), (986, 0.012035209418572007), (987, 0.0032965121261283657), (988, 0.0791281086252726), (989, 0.011846576686919779), (990, 0.026429276136939787), (991, 0.0034116036117817984), (992, 0.01156026140730577), (993, 0.003201611318120373), (994, 0.06431720630256024), (995, 0.0), (996, 0.0), (997, 0.018360585706374666), (998, 0.003602951194128762), (999, 0.0036000024296882023), (1000, 0.010833213630889661), (1001, 0.012955246877852874), (1002, 0.0480826305785914), (1003, 0.0), (1004, 0.0028487116740022874), (1005, 0.009206108168108133), (1006, 0.003320445844411554), (1007, 0.0573151751127883), (1008, 0.0), (1009, 0.0028194971643212417), (1010, 0.0), (1011, 0.01176196118829761), (1012, 0.016211657736600216), (1013, 0.01100467910435243), (1014, 0.0), (1015, 0.03599668330541369), (1016, 0.0), (1017, 0.05531480666404445), (1018, 0.016813552083176433), (1019, 0.006031879362541802), (1020, 0.013041047517263824), (1021, 0.0031657884958140683), (1022, 0.02032165623872591), (1023, 0.04815500414147401), (1024, 0.009234397512450875), (1025, 0.018941790688026056), (1026, 0.003118721830620926), (1027, 0.03409978358449988), (1028, 0.0), (1029, 0.0), (1030, 0.02283806791243642), (1031, 0.021705716905184674), (1032, 0.0030018657169041283), (1033, 0.016124713578064262), (1034, 0.0030436565397851567), (1035, 0.011700839518879184), (1036, 0.012820288606485987), (1037, 0.015897654338181914), (1038, 0.014946052919912911), (1039, 0.03605712874161504), (1040, 0.04518708660198967), (1041, 0.02214640330393673), (1042, 0.019704715720765743), (1043, 0.0034731561199791696), (1044, 0.03294437350991368), (1045, 0.04066916611681445), (1046, 0.0336871389214814), (1047, 0.04135870288733428), (1048, 0.044517711347966324), (1049, 0.003768658815702836), (1050, 0.03927680600481011), (1051, 0.016686720774501985), (1052, 0.01557382300668673), (1053, 0.04012221400301902), (1054, 0.008372016651113588), (1055, 0.009509837423858396), (1056, 0.022211801938829982), (1057, 0.011594680580942224), (1058, 0.010867196455031362), (1059, 0.0031460566226524907), (1060, 0.0030664596798837197), (1061, 0.05306419961651042), (1062, 0.0), (1063, 0.01862932037290098), (1064, 0.0437405197132648), (1065, 0.012781336317490458), (1066, 0.0), (1067, 0.019471088694646244), (1068, 0.020817555384872573), (1069, 0.09440354260655007), (1070, 0.0), (1071, 0.01795210364336266), (1072, 0.003147894955465486), (1073, 0.02020832596886649), (1074, 0.008893400384435552), (1075, 0.014319350674421766), (1076, 0.018585769433076167), (1077, 0.0032469283880201386), (1078, 0.010030371989079256), (1079, 0.0029226859316705167), (1080, 0.0028611522411438987), (1081, 0.012552985650893295), (1082, 0.010228668522509605), (1083, 0.01750301921167605), (1084, 0.06391584057785299), (1085, 0.01061746106339213), (1086, 0.04486585341392977), (1087, 0.0032311609094173885), (1088, 0.0027168827896347776), (1089, 0.011880221975159859), (1090, 0.0), (1091, 0.034179796275231156), (1092, 0.007389979012752694), (1093, 0.0), (1094, 0.0), (1095, 0.0), (1096, 0.003091988185906793), (1097, 0.013380954603592274), (1098, 0.020586404806187626), (1099, 0.0), (1100, 0.013752590182377605), (1101, 0.07599594157515556), (1102, 0.0031543364134365296), (1103, 0.0), (1104, 0.032079251663514614), (1105, 0.02071815482695382), (1106, 0.05036409000598491), (1107, 0.011206206115097334), (1108, 0.01669776418814557), (1109, 0.0035241990039151655), (1110, 0.013745400815155762), (1111, 0.0), (1112, 0.013928111771467605), (1113, 0.0), (1114, 0.021730882211555107), (1115, 0.07977985220504), (1116, 0.009392763243927038), (1117, 0.003053188467552226), (1118, 0.0), (1119, 0.012859405563600587), (1120, 0.008879345597936577), (1121, 0.11522741033561375), (1122, 0.0032357308621628507), (1123, 0.012918731446654952), (1124, 0.04142655039603335), (1125, 0.040109448241818405), (1126, 0.0), (1127, 0.0), (1128, 0.0322622498493682), (1129, 0.0), (1130, 0.0), (1131, 0.003188843286182083), (1132, 0.040073516042776425), (1133, 0.010782552902539759), (1134, 0.028142220197975982), (1135, 0.0), (1136, 0.0027863116745656283), (1137, 0.024040791661286996), (1138, 0.05713760121077131), (1139, 0.0), (1140, 0.018012167608836595), (1141, 0.10758719460961029), (1142, 0.0), (1143, 0.0), (1144, 0.002533902685899356), (1145, 0.004394894505165292), (1146, 0.0), (1147, 0.0), (1148, 0.01359892827484751), (1149, 0.036563121562861296), (1150, 0.05401192460328044), (1151, 0.0), (1152, 0.019706340282506632), (1153, 0.0), (1154, 0.0), (1155, 0.016973032094571735), (1156, 0.0), (1157, 0.015015349966558029), (1158, 0.0), (1159, 0.010693927220657883), (1160, 0.011432132055657915), (1161, 0.002868967898027564), (1162, 0.009672876576460187), (1163, 0.03433842614488597), (1164, 0.00878645550131275), (1165, 0.0), (1166, 0.0), (1167, 0.0), (1168, 0.04083792077226732), (1169, 0.0037196852269386774), (1170, 0.0031818075298985183), (1171, 0.0), (1172, 0.03587149256286119), (1173, 0.01780241220749753), (1174, 0.003249112620975229), (1175, 0.0032074758594294018), (1176, 0.0032442433557843785), (1177, 0.015846760329645455), (1178, 0.04253981086187831), (1179, 0.04441678485009315), (1180, 0.03694298205406222), (1181, 0.0), (1182, 0.003242662853196081), (1183, 0.01117960647383379), (1184, 0.09009917393691885), (1185, 0.04182166491095331), (1186, 0.020716320759969126), (1187, 0.003734124388347003), (1188, 0.003335883239968773), (1189, 0.0), (1190, 0.0), (1191, 0.14797610492953372), (1192, 0.028537181822706703), (1193, 0.0), (1194, 0.05149834188462675), (1195, 0.011200996543747795), (1196, 0.01073525463729663), (1197, 0.0600211599703807), (1198, 0.0), (1199, 0.0352489192724728), (1200, 0.044754449201368965), (1201, 0.0), (1202, 0.002695852155159585), (1203, 0.002984096085445301), (1204, 0.003224635200623888), (1205, 0.01741256703825189), (1206, 0.0029710603958000665), (1207, 0.0), (1208, 0.004051965247649756), (1209, 0.002648504490576321), (1210, 0.0), (1211, 0.02014110522776033), (1212, 0.0), (1213, 0.016937177843401978), (1214, 0.007434446316325273), (1215, 0.0027204541991654413), (1216, 0.03731908482581274), (1217, 0.0027592266494718145), (1218, 0.02978403351563029), (1219, 0.03234196681561727), (1220, 0.022021583772174034), (1221, 0.00865864997971007), (1222, 0.0), (1223, 0.003190529577585458), (1224, 0.07822955865504685), (1225, 0.025326978556538957), (1226, 0.008776901781980245), (1227, 0.03202914032143685), (1228, 0.011176212727007959), (1229, 0.01756251100551668), (1230, 0.04461989244201666), (1231, 0.03985948124274225), (1232, 0.012137314271430956), (1233, 0.014295942261985129), (1234, 0.03437233754046541), (1235, 0.0), (1236, 0.08570490022023083), (1237, 0.04139928649751193), (1238, 0.043028040630269895), (1239, 0.013520229996279358), (1240, 0.0), (1241, 0.019395492503635942), (1242, 0.0), (1243, 0.015252711561446997), (1244, 0.03220369421947307), (1245, 0.01317625263520063), (1246, 0.02205439110607261), (1247, 0.022787870634712985), (1248, 0.021578569808916127), (1249, 0.04407719503836048), (1250, 0.010615100253794375), (1251, 0.0028124065048178142), (1252, 0.02545129479720651), (1253, 0.0), (1254, 0.013931335778580927), (1255, 0.026251014346725852), (1256, 0.01927554013929587), (1257, 0.0031318621067611178), (1258, 0.013072130536113873), (1259, 0.026763060973311603), (1260, 0.009890144877797458), (1261, 0.0030771668644045966), (1262, 0.0), (1263, 0.0), (1264, 0.014508386802207203), (1265, 0.033932356190365984), (1266, 0.07587977913932045), (1267, 0.05596749219953864), (1268, 0.0), (1269, 0.0), (1270, 0.00990634367152825), (1271, 0.04707239861212241), (1272, 0.0), (1273, 0.013308850776364857), (1274, 0.025803596883550307), (1275, 0.12046897077771979), (1276, 0.006613095117369647), (1277, 0.0023767014340421205), (1278, 0.0), (1279, 0.0), (1280, 0.0), (1281, 0.0), (1282, 0.009478634878001454), (1283, 0.009158958389502262), (1284, 0.022966897096742954), (1285, 0.0), (1286, 0.0031157831688973093), (1287, 0.0), (1288, 0.07361367754149675), (1289, 0.0), (1290, 0.018525307682903325), (1291, 0.0), (1292, 0.008718755503190805), (1293, 0.0), (1294, 0.035774904401847246), (1295, 0.035361595755893434), (1296, 0.0), (1297, 0.021273684893656795), (1298, 0.00316062888557824), (1299, 0.022276249088237162), (1300, 0.042732819868341265), (1301, 0.055588921683162255), (1302, 0.010563144272446284), (1303, 0.02071162636771488), (1304, 0.013597593467180886), (1305, 0.002627485661620848), (1306, 0.017199141654922683), (1307, 0.022641000879237205), (1308, 0.0029159068772965217), (1309, 0.03554155309983456), (1310, 0.04434487202131029), (1311, 0.0), (1312, 0.019910302050240695), (1313, 0.05852705535905418), (1314, 0.06115969178036729), (1315, 0.0), (1316, 0.009723295236499794), (1317, 0.00975868947535906), (1318, 0.0028344810576544552), (1319, 0.003118166256900801), (1320, 0.006959955600451944), (1321, 0.0), (1322, 0.0), (1323, 0.0), (1324, 0.0033902421392190897), (1325, 0.10888192879808192), (1326, 0.008501976123473495), (1327, 0.0), (1328, 0.0), (1329, 0.0), (1330, 0.008703481580257647), (1331, 0.0), (1332, 0.034785308089273256), (1333, 0.0), (1334, 0.11009192688725009), (1335, 0.05340093906211428), (1336, 0.0), (1337, 0.01229138671984012), (1338, 0.05200445397659088), (1339, 0.02428789650144813), (1340, 0.0026990963823743355), (1341, 0.01675552641163502), (1342, 0.017749740312695463), (1343, 0.010539783153551526), (1344, 0.12019319059100211), (1345, 0.0), (1346, 0.0), (1347, 0.020531046968589654), (1348, 0.01960760086699628), (1349, 0.0035810603980357815), (1350, 0.003095879881266278), (1351, 0.07503404950026885), (1352, 0.0026997147704329867), (1353, 0.0), (1354, 0.0), (1355, 0.0867718027268046), (1356, 0.10306435596840954), (1357, 0.0029288949790570126), (1358, 0.0), (1359, 0.003415177869516839), (1360, 0.02337968114630337), (1361, 0.0), (1362, 0.0121611554128076), (1363, 0.0), (1364, 0.06237830677971966), (1365, 0.05015465734830886), (1366, 0.0028669089407455943), (1367, 0.002654117879696781), (1368, 0.010048649694395971), (1369, 0.009857986245116006), (1370, 0.002740423537567656), (1371, 0.0325263599610771), (1372, 0.042832562087507284), (1373, 0.010089881127925162), (1374, 0.03680654580949158), (1375, 0.04529088479865013), (1376, 0.0), (1377, 0.009715851586796826), (1378, 0.016808124244167437), (1379, 0.0), (1380, 0.0215303625725754), (1381, 0.027609122945925723), (1382, 0.020172152802861883), (1383, 0.026632750206364367), (1384, 0.0188865960224534), (1385, 0.05609134631885665), (1386, 0.0), (1387, 0.03259208814111858), (1388, 0.056316142235904795), (1389, 0.0), (1390, 0.0), (1391, 0.015222014719924992), (1392, 0.012085595939125575), (1393, 0.00930956259704059), (1394, 0.0028158494114416902), (1395, 0.0), (1396, 0.0), (1397, 0.0027484271187732247), (1398, 0.003679180904220837), (1399, 0.0), (1400, 0.04596153012244006), (1401, 0.053291161987559274), (1402, 0.0033327328287446854), (1403, 0.002441884603329626), (1404, 0.003004279717878503), (1405, 0.0), (1406, 0.041466327363659905), (1407, 0.0), (1408, 0.03312149465386723), (1409, 0.025240609205533816), (1410, 0.04329774144546529), (1411, 0.0031406313202681784), (1412, 0.00843896457650138), (1413, 0.014192100103243269), (1414, 0.03322038694041862), (1415, 0.0026039559928421694), (1416, 0.003037164767728578), (1417, 0.009401799342636904), (1418, 0.0), (1419, 0.01930398158487609), (1420, 0.023961082297575598), (1421, 0.06277880920304646), (1422, 0.0030945031609123114), (1423, 0.01241069995497928), (1424, 0.0), (1425, 0.021587554311776183), (1426, 0.011034160309196581), (1427, 0.0026053238605416407), (1428, 0.0), (1429, 0.04675250225321618), (1430, 0.018982718672694576), (1431, 0.038086690332988164), (1432, 0.05545083697738121), (1433, 0.012646190729148242), (1434, 0.0029017223500324447), (1435, 0.06332806148725417), (1436, 0.03187121792465483), (1437, 0.0), (1438, 0.028134920911068305), (1439, 0.054207742418605376), (1440, 0.012230341013971312), (1441, 0.0), (1442, 0.016603828583293744), (1443, 0.021930224529739275), (1444, 0.0), (1445, 0.02798038921886943), (1446, 0.003045700404212282), (1447, 0.0), (1448, 0.00293671326359562), (1449, 0.0), (1450, 0.02102595910086516), (1451, 0.015371798396553433), (1452, 0.028719119474612864), (1453, 0.0), (1454, 0.00349087839749494), (1455, 0.008855393070284738), (1456, 0.0029500025260068936), (1457, 0.015240259101160964), (1458, 0.01796057988243096), (1459, 0.016108367201267414), (1460, 0.0), (1461, 0.045194207512319784), (1462, 0.002915144662556994), (1463, 0.022747646854189826), (1464, 0.0026034284102070524), (1465, 0.02045488405919418), (1466, 0.023799141909486274), (1467, 0.008193275481478161), (1468, 0.01884095820856516), (1469, 0.0), (1470, 0.0), (1471, 0.024070644312835884), (1472, 0.00321518739140128), (1473, 0.0), (1474, 0.026311485572247915), (1475, 0.003313254311342814), (1476, 0.014167698552574376), (1477, 0.002931475385542689), (1478, 0.011533677601762216), (1479, 0.0034858501357951), (1480, 0.010043761939368347), (1481, 0.011657331650123785), (1482, 0.0), (1483, 0.032207665677996725), (1484, 0.01437875098986483), (1485, 0.0), (1486, 0.0), (1487, 0.019355798543814366), (1488, 0.003186227533927494), (1489, 0.0035712715340442043), (1490, 0.0), (1491, 0.0), (1492, 0.0), (1493, 0.0), (1494, 0.0032741902005521215), (1495, 0.031365707609420104), (1496, 0.0), (1497, 0.02230401672709243), (1498, 0.05297742448482517), (1499, 0.01565407424709012), (1500, 0.0031402606630688773), (1501, 0.08038983903070959), (1502, 0.021558552136024905), (1503, 0.021391249309783894), (1504, 0.008781251000036504), (1505, 0.0), (1506, 0.014319830990917099), (1507, 0.055999423696110134), (1508, 0.0), (1509, 0.039184946830668706), (1510, 0.046764693575521626), (1511, 0.056549097119103144), (1512, 0.0), (1513, 0.012546688221513405), (1514, 0.0029413555787592537), (1515, 0.0), (1516, 0.0032731453695267893), (1517, 0.0), (1518, 0.060393490201607794), (1519, 0.03443458367228845), (1520, 0.011180132004715442), (1521, 0.0), (1522, 0.0), (1523, 0.0), (1524, 0.0), (1525, 0.010678344710410294), (1526, 0.03423744986319435), (1527, 0.0999872310835529), (1528, 0.0028867354175192254), (1529, 0.0), (1530, 0.03170784502582814), (1531, 0.0), (1532, 0.0), (1533, 0.0032239471922974284), (1534, 0.021246418172068578), (1535, 0.025924259976874968), (1536, 0.032167245284104695), (1537, 0.0034027183623639287), (1538, 0.0028848539318563106), (1539, 0.03478135144220374), (1540, 0.010357194920971676), (1541, 0.03870042891402668), (1542, 0.009179584254737066), (1543, 0.02325925227538014), (1544, 0.018883968084855707), (1545, 0.030370174854760342), (1546, 0.0), (1547, 0.01583173877470282), (1548, 0.0), (1549, 0.0), (1550, 0.00313395236131384), (1551, 0.0), (1552, 0.0), (1553, 0.0028049827130817075), (1554, 0.03394376434278882), (1555, 0.002958705771185147), (1556, 0.010120921744770304), (1557, 0.0), (1558, 0.0029544215272316924), (1559, 0.01839611257117846), (1560, 0.011736255092366688), (1561, 0.0), (1562, 0.009646784462156922), (1563, 0.0), (1564, 0.0), (1565, 0.0027166371679226125), (1566, 0.0), (1567, 0.02802125334218407), (1568, 0.0), (1569, 0.04531310170614654), (1570, 0.0033424638574095634), (1571, 0.019506042752626823), (1572, 0.02224977577776751), (1573, 0.0), (1574, 0.09243808333924261), (1575, 0.014609018427234315), (1576, 0.013107882314361632), (1577, 0.03149336464305947), (1578, 0.011380921794970604), (1579, 0.0), (1580, 0.003507063285055741), (1581, 0.008171437668439589), (1582, 0.02156180913682368), (1583, 0.0), (1584, 0.0), (1585, 0.049658737383425876), (1586, 0.0), (1587, 0.021636673458491115), (1588, 0.011290595650580774), (1589, 0.0), (1590, 0.0), (1591, 0.02278304514478033), (1592, 0.020580857989147577), (1593, 0.01647311800982488), (1594, 0.003558428326501922), (1595, 0.02324739651998336), (1596, 0.0), (1597, 0.03313625559667061), (1598, 0.003137379579276588), (1599, 0.0), (1600, 0.0), (1601, 0.0), (1602, 0.011211372909713063), (1603, 0.01717373931941156), (1604, 0.0), (1605, 0.002871300527940941), (1606, 0.0100522462079646), (1607, 0.0), (1608, 0.030018382595347008), (1609, 0.0), (1610, 0.0), (1611, 0.04008182479722641), (1612, 0.013535866513000087), (1613, 0.0), (1614, 0.0), (1615, 0.0), (1616, 0.02109793335119688), (1617, 0.023033192165032194), (1618, 0.0), (1619, 0.0033870032528529885), (1620, 0.03073914673228352), (1621, 0.011873638570975108), (1622, 0.013412234100440502), (1623, 0.012634529247995754), (1624, 0.0025862824807386144), (1625, 0.00285790985556136), (1626, 0.019995418829898463), (1627, 0.0027167817185587144), (1628, 0.002908071227474487), (1629, 0.04425684230047726), (1630, 0.02854784580531103), (1631, 0.029249979321335544), (1632, 0.03802709821110302), (1633, 0.009951568780626396), (1634, 0.0031500169607175817), (1635, 0.0), (1636, 0.0), (1637, 0.03689853651017508), (1638, 0.016301459521494997), (1639, 0.0), (1640, 0.0), (1641, 0.002947244330817411), (1642, 0.0029415022026920822), (1643, 0.003336693418667359), (1644, 0.0), (1645, 0.01625144788702119), (1646, 0.03221261704115357), (1647, 0.0), (1648, 0.0023734699109947736), (1649, 0.01977683441031408), (1650, 0.012604607722426192), (1651, 0.0), (1652, 0.0), (1653, 0.023007426211202713), (1654, 0.0), (1655, 0.003866068250271116), (1656, 0.0036438184268443325), (1657, 0.009759313154137379), (1658, 0.0035187365935935256), (1659, 0.021760049940356248), (1660, 0.0033207218878002075), (1661, 0.011215349416215896), (1662, 0.0), (1663, 0.0029941302557798697), (1664, 0.0), (1665, 0.02405244073423919), (1666, 0.013404688984492513), (1667, 0.011100211398518061), (1668, 0.0), (1669, 0.02511905408029192), (1670, 0.01471832716656916), (1671, 0.04929889968700015), (1672, 0.01244364944963892), (1673, 0.019788339277515235), (1674, 0.021032846674249428), (1675, 0.02149339409224065), (1676, 0.0), (1677, 0.0411551397543061), (1678, 0.03307497926758769), (1679, 0.011284549915875755), (1680, 0.029479540838094894), (1681, 0.04358122937561675), (1682, 0.040201638457665986), (1683, 0.014964178226840695), (1684, 0.0), (1685, 0.01438168481712295), (1686, 0.0), (1687, 0.01277028901893754), (1688, 0.0032408822545691718), (1689, 0.010926959782644277), (1690, 0.03235195021628536), (1691, 0.0027118571411175944), (1692, 0.0), (1693, 0.0029840935677096798), (1694, 0.007871940711178037), (1695, 0.0), (1696, 0.0), (1697, 0.011122754728769535), (1698, 0.10862174717182904), (1699, 0.0), (1700, 0.01029825792529927), (1701, 0.012922496044405797), (1702, 0.0), (1703, 0.04103350602082061), (1704, 0.0), (1705, 0.060043836237764346), (1706, 0.013716879555939985), (1707, 0.06533275549669124), (1708, 0.014599639759213115), (1709, 0.0), (1710, 0.04481785988851595), (1711, 0.0039855806624775995), (1712, 0.003397213772612667), (1713, 0.0), (1714, 0.0), (1715, 0.0), (1716, 0.11852236260819327), (1717, 0.04412038588527428), (1718, 0.0), (1719, 0.05814171363088835), (1720, 0.0), (1721, 0.026704474517716445), (1722, 0.042019410126172996), (1723, 0.0), (1724, 0.021981415576475222), (1725, 0.02345999145194884), (1726, 0.0), (1727, 0.012522884659638142), (1728, 0.0), (1729, 0.0), (1730, 0.002897560657846677), (1731, 0.011165914821927846), (1732, 0.04700167002286122), (1733, 0.0034848072765906227), (1734, 0.0), (1735, 0.00914337885369485), (1736, 0.056082430422519196), (1737, 0.0), (1738, 0.018675107390167457), (1739, 0.010829716873817351), (1740, 0.044593864737586024), (1741, 0.010499105761893113), (1742, 0.022308151097956985), (1743, 0.016634943306560956), (1744, 0.003031974722595133), (1745, 0.0), (1746, 0.0), (1747, 0.002473387242435225), (1748, 0.0037210614190634666), (1749, 0.0), (1750, 0.0), (1751, 0.05066504394124405), (1752, 0.0), (1753, 0.0), (1754, 0.036644444738563625), (1755, 0.0), (1756, 0.023056458549479332), (1757, 0.0), (1758, 0.012043261470992588), (1759, 0.003002986857722055), (1760, 0.025544055456387157), (1761, 0.013943221646575453), (1762, 0.012126415792976927), (1763, 0.002721669882084665), (1764, 0.0027549330505388867), (1765, 0.025271322896322834), (1766, 0.0), (1767, 0.0), (1768, 0.003267673885423142), (1769, 0.0), (1770, 0.0), (1771, 0.0), (1772, 0.0), (1773, 0.0), (1774, 0.03210964871044344), (1775, 0.01086737008794223), (1776, 0.010607285331609146), (1777, 0.0), (1778, 0.0), (1779, 0.017910239097934714), (1780, 0.0020732813260462644), (1781, 0.02632033917969985), (1782, 0.04101953299208103), (1783, 0.015398002740115126), (1784, 0.012389551409933088), (1785, 0.0), (1786, 0.02245309170099645), (1787, 0.0), (1788, 0.0), (1789, 0.008187138575007568), (1790, 0.0), (1791, 0.0), (1792, 0.003734981003514541), (1793, 0.04358434703952931), (1794, 0.033381056056547835), (1795, 0.0), (1796, 0.15522383361160902), (1797, 0.02637695398183583), (1798, 0.02532822152339125), (1799, 0.0), (1800, 0.0), (1801, 0.002669117206983529), (1802, 0.05563807114907575), (1803, 0.0), (1804, 0.020476991610945867), (1805, 0.049748229371369634), (1806, 0.055016529668865485), (1807, 0.019169457405447527), (1808, 0.0028503440019905686), (1809, 0.0), (1810, 0.03980591335180195), (1811, 0.02701821673002075), (1812, 0.014575266709658863), (1813, 0.013196795087465778), (1814, 0.012875829466249943), (1815, 0.03389556901993013), (1816, 0.007992232221629515), (1817, 0.012244598948720247), (1818, 0.03793828182946411), (1819, 0.0029609709630215924), (1820, 0.0), (1821, 0.04540110984966164), (1822, 0.003355014171214933), (1823, 0.0), (1824, 0.009789779088563549), (1825, 0.0), (1826, 0.0028739590089842913), (1827, 0.021334959861977112), (1828, 0.021052863566875857), (1829, 0.09826442735410622), (1830, 0.002816120212198575), (1831, 0.03950867074262025), (1832, 0.019691896769382947), (1833, 0.014404827240948008), (1834, 0.03968956499130655), (1835, 0.03573634625364155), (1836, 0.0), (1837, 0.0), (1838, 0.0), (1839, 0.0), (1840, 0.04698108666128417), (1841, 0.011238844057557252), (1842, 0.0), (1843, 0.003604790113208526), (1844, 0.011863551125981473), (1845, 0.04267534956306369), (1846, 0.0), (1847, 0.00915402229324172), (1848, 0.015053671668701174), (1849, 0.01611049209207741), (1850, 0.018303395891237084), (1851, 0.0033088133247225135), (1852, 0.013454938413096557), (1853, 0.012748838303364889), (1854, 0.011499591936935722), (1855, 0.04415354575370615), (1856, 0.0), (1857, 0.0134321600177458), (1858, 0.061914436322085736), (1859, 0.02578138649895673), (1860, 0.024263656089508333), (1861, 0.038260978382260044), (1862, 0.003559495325933845), (1863, 0.0), (1864, 0.022692455241776304), (1865, 0.20270287921408287), (1866, 0.027566385266169086), (1867, 0.0), (1868, 0.0), (1869, 0.002877574953003912), (1870, 0.009308568546184585), (1871, 0.03502689280112699), (1872, 0.0032145333751634297), (1873, 0.024082827284189902), (1874, 0.013016530549817922), (1875, 0.0029185707984365475), (1876, 0.013671164713609641), (1877, 0.03402880468224579), (1878, 0.012906508282499937), (1879, 0.0), (1880, 0.0), (1881, 0.01130219198517795), (1882, 0.0031139930560257186), (1883, 0.04191553739527686), (1884, 0.0029705986702174155), (1885, 0.11194373310380708), (1886, 0.002526131304610591), (1887, 0.0036016974039951768), (1888, 0.0), (1889, 0.0), (1890, 0.052499229752908314), (1891, 0.01347513395441839), (1892, 0.01527551956352249), (1893, 0.02577134039221435), (1894, 0.0), (1895, 0.07561103528452667), (1896, 0.014835024491188592), (1897, 0.01823959839972625), (1898, 0.0), (1899, 0.0), (1900, 0.023163180676728817), (1901, 0.016771784070552187), (1902, 0.02479896919441025), (1903, 0.0), (1904, 0.0), (1905, 0.0034650112072066495), (1906, 0.010842447770534783), (1907, 0.0034210537478151543), (1908, 0.030993714079579834), (1909, 0.003607413745368014), (1910, 0.0), (1911, 0.058182004673358004), (1912, 0.00997127477415043), (1913, 0.0), (1914, 0.0), (1915, 0.0), (1916, 0.0033492098857981277), (1917, 0.0), (1918, 0.07822882807218784), (1919, 0.029083330488333455), (1920, 0.015554227896886806), (1921, 0.012497532709223191), (1922, 0.023066700362311787), (1923, 0.013376447644175822), (1924, 0.042541634191740604), (1925, 0.0), (1926, 0.0), (1927, 0.0), (1928, 0.023079967167506696), (1929, 0.024067316553258025), (1930, 0.010923565688382953), (1931, 0.0032472593489263624), (1932, 0.0), (1933, 0.010533047840382842), (1934, 0.002837847553449398), (1935, 0.019262022879792663), (1936, 0.0032482942820720962), (1937, 0.017417726208365705), (1938, 0.0), (1939, 0.0), (1940, 0.0407897498225647), (1941, 0.012465303637834175), (1942, 0.012253911554210708), (1943, 0.011831487525089448), (1944, 0.0), (1945, 0.04039128575116081), (1946, 0.0200823648771717), (1947, 0.0036895090129916556), (1948, 0.08441060222315522), (1949, 0.04450161083355976), (1950, 0.0025960362642269918), (1951, 0.003372033970114273), (1952, 0.014692440403090087), (1953, 0.010499286435675624), (1954, 0.0028153675785159552), (1955, 0.011350402546458437), (1956, 0.07147322294967037), (1957, 0.0), (1958, 0.16646142649882523), (1959, 0.003437959624073594), (1960, 0.09381660985945682), (1961, 0.011131943747668745), (1962, 0.0), (1963, 0.00842639353130844), (1964, 0.015206736490479126), (1965, 0.0), (1966, 0.0), (1967, 0.05136601629281267), (1968, 0.0037324185918010443), (1969, 0.013495299381981766), (1970, 0.02293503599491843), (1971, 0.010208814026609055), (1972, 0.0), (1973, 0.08296117853616691), (1974, 0.05490281162176044), (1975, 0.014371373669092021), (1976, 0.011634452550491064), (1977, 0.012102618605330826), (1978, 0.0), (1979, 0.0), (1980, 0.0028506527426553335), (1981, 0.016428259286170685), (1982, 0.0), (1983, 0.02675421063950928), (1984, 0.02985479300712957), (1985, 0.07763135376016524), (1986, 0.03925835128041649), (1987, 0.008138535586042843), (1988, 0.0), (1989, 0.01835297302934006), (1990, 0.009488512812965824), (1991, 0.013841289497787884), (1992, 0.018012973482942396), (1993, 0.0130271295303842), (1994, 0.02743115397463293), (1995, 0.0034175013584148654), (1996, 0.032725909316582646), (1997, 0.0670790771552976), (1998, 0.013808807457137919), (1999, 0.0), (2000, 0.018801196811873803), (2001, 0.0), (2002, 0.010900545866456049), (2003, 0.0), (2004, 0.0029871340533660783), (2005, 0.05264592355174601), (2006, 0.0), (2007, 0.0), (2008, 0.03661644644042328), (2009, 0.012335204492653717), (2010, 0.002509899397815193), (2011, 0.0028899773661465234), (2012, 0.0), (2013, 0.01626558918409499), (2014, 0.030663293500886736), (2015, 0.0), (2016, 0.026667968787366776), (2017, 0.010628866636090738), (2018, 0.0), (2019, 0.04879583138317074), (2020, 0.0), (2021, 0.0), (2022, 0.03303877501371915), (2023, 0.038916106857630924), (2024, 0.07278261130935185), (2025, 0.0), (2026, 0.008859118714781282), (2027, 0.03358159323777303), (2028, 0.017236247147844427), (2029, 0.011758885228359363), (2030, 0.0), (2031, 0.012618929323580311), (2032, 0.0), (2033, 0.019334547986105014), (2034, 0.0026184636217971586), (2035, 0.0026924561189692648), (2036, 0.014897117988395462), (2037, 0.037175022088358683), (2038, 0.046964086009409045), (2039, 0.04849533953913751), (2040, 0.06758642103730583), (2041, 0.0), (2042, 0.0), (2043, 0.0), (2044, 0.048548999478111365), (2045, 0.013814358148319222), (2046, 0.020389579165250228), (2047, 0.030051765539002663), (2048, 0.020114905303066703), (2049, 0.0035038315074154367), (2050, 0.0), (2051, 0.02220418220479243), (2052, 0.0), (2053, 0.05824071062840647), (2054, 0.0), (2055, 0.010916156122346879), (2056, 0.015769871212224517), (2057, 0.00859832170299357), (2058, 0.0), (2059, 0.0), (2060, 0.05271399357015305), (2061, 0.0032190773592037903), (2062, 0.0), (2063, 0.0), (2064, 0.03617796844863057), (2065, 0.010820939061286549), (2066, 0.021690188159842087), (2067, 0.02373511441670791), (2068, 0.028838609927538075), (2069, 0.01335542651146118), (2070, 0.010302133461879675), (2071, 0.047297730867462986), (2072, 0.024447569061243263), (2073, 0.014252050551452651), (2074, 0.018022676575646497), (2075, 0.025607412705388154), (2076, 0.01894210669301174), (2077, 0.010812821231350987), (2078, 0.0), (2079, 0.0), (2080, 0.03295821520473305), (2081, 0.0), (2082, 0.024420470449184294), (2083, 0.01422535660088357), (2084, 0.011661748892448061), (2085, 0.0), (2086, 0.011092385051242054), (2087, 0.013677361715553869), (2088, 0.003329859392916696), (2089, 0.01976707845039762), (2090, 0.0), (2091, 0.0032224731253164846), (2092, 0.010698841687110699), (2093, 0.03528073089953581), (2094, 0.03175932504107272), (2095, 0.0355210777660687), (2096, 0.03459753814243213), (2097, 1.0), (2098, 0.0), (2099, 0.0029706303885394052), (2100, 0.0), (2101, 0.011397106222755624), (2102, 0.043022951744261295), (2103, 0.0030947344937535164), (2104, 0.0033942568909444528), (2105, 0.003384352279644938), (2106, 0.02110433160259368), (2107, 0.01029284747436147), (2108, 0.003527600731101106), (2109, 0.003203750797627585), (2110, 0.03678032470794026), (2111, 0.003113213913994917), (2112, 0.0653957131415922), (2113, 0.0), (2114, 0.0), (2115, 0.01163659065607653), (2116, 0.0034302158761903238), (2117, 0.003048606988616748), (2118, 0.02642131139853996), (2119, 0.04948181932659186), (2120, 0.0), (2121, 0.013313008588329534), (2122, 0.003208509980351895), (2123, 0.10426754603229313), (2124, 0.0), (2125, 0.0), (2126, 0.04937014331644943), (2127, 0.011411304315028774), (2128, 0.010241531049196577), (2129, 0.0029449738559851196), (2130, 0.013792164374902726), (2131, 0.0411537248143109), (2132, 0.0026552009877051), (2133, 0.003006150658893101), (2134, 0.02729113350370669), (2135, 0.01861689242045783), (2136, 0.011711172250067308), (2137, 0.004504593521012238), (2138, 0.0), (2139, 0.0), (2140, 0.0), (2141, 0.012992474498916624), (2142, 0.01585341030250237), (2143, 0.003038691856111332), (2144, 0.0032058570887449505), (2145, 0.0), (2146, 0.0027161025539333217), (2147, 0.0), (2148, 0.01449435930859319), (2149, 0.0029695757948266024), (2150, 0.010085549078559613), (2151, 0.01449276616160211), (2152, 0.011602630165460252), (2153, 0.0), (2154, 0.028767946860641994), (2155, 0.0032337948277143883), (2156, 0.0), (2157, 0.019838679791325482), (2158, 0.01033753107534057), (2159, 0.047239494468852894), (2160, 0.0), (2161, 0.08417332482304608), (2162, 0.012934226626306299), (2163, 0.022526380695184138), (2164, 0.0), (2165, 0.01148787982601158), (2166, 0.012801724112822448), (2167, 0.019617329726195305), (2168, 0.026716543999235197), (2169, 0.0031987809139413406), (2170, 0.0), (2171, 0.0), (2172, 0.0), (2173, 0.0031296535014142825), (2174, 0.011938602164486462), (2175, 0.0), (2176, 0.01500565545703365), (2177, 0.00928977398551403), (2178, 0.051779184403608125), (2179, 0.0), (2180, 0.0), (2181, 0.027752513290083356), (2182, 0.011700028973169671), (2183, 0.009657855738241931), (2184, 0.008328577508410496), (2185, 0.0), (2186, 0.0), (2187, 0.0036476320977925207), (2188, 0.01706637508298211), (2189, 0.004461403193976933), (2190, 0.026337709939219182), (2191, 0.01508670548730939), (2192, 0.019681025187866522), (2193, 0.003207147919533688), (2194, 0.01080176027733459), (2195, 0.02353105562194473), (2196, 0.012736914330461415), (2197, 0.0), (2198, 0.016396110218630036), (2199, 0.01820327665129568), (2200, 0.0), (2201, 0.0029565423529807748), (2202, 0.0), (2203, 0.0), (2204, 0.0), (2205, 0.03188089495715979), (2206, 0.008474648100727601), (2207, 0.01869015114117892), (2208, 0.011038463965102207), (2209, 0.0035383100479032645), (2210, 0.03513280655305427), (2211, 0.03687518724825249), (2212, 0.05159398864435008), (2213, 0.0028342281315892593), (2214, 0.01309560730724982), (2215, 0.0), (2216, 0.011804161942460527), (2217, 0.0), (2218, 0.01157848943814077), (2219, 0.01628567033134466), (2220, 0.0), (2221, 0.041628362111700776), (2222, 0.02191891091771383), (2223, 0.0036136796441682637), (2224, 0.08881775778271997), (2225, 0.03929083066007659), (2226, 0.0031077556285993586), (2227, 0.0183369450905602), (2228, 0.024954641622580945), (2229, 0.03547273002478009), (2230, 0.024229937041928946), (2231, 0.015077708241480765), (2232, 0.0), (2233, 0.0), (2234, 0.0), (2235, 0.06426951363550207), (2236, 0.0028840254991447803), (2237, 0.012270761628107175), (2238, 0.0), (2239, 0.0199138478199874), (2240, 0.020704267574595554), (2241, 0.042458095132257366), (2242, 0.022425327813647884), (2243, 0.0), (2244, 0.0), (2245, 0.010436961051428384), (2246, 0.03399520467153201), (2247, 0.025487816993306753), (2248, 0.0028573022438597787), (2249, 0.02307775942126966), (2250, 0.09027575573459684), (2251, 0.004422101822809948), (2252, 0.03332930923935292), (2253, 0.07622351186754675), (2254, 0.08321183957792921), (2255, 0.004100459549775875), (2256, 0.00970903444747004), (2257, 0.004091923954536463), (2258, 0.02392919642682006), (2259, 0.021222910889478086), (2260, 0.0033998963934521714), (2261, 0.0), (2262, 0.0), (2263, 0.02874177300257778), (2264, 0.01070037407911408), (2265, 0.0028852679644345894), (2266, 0.003913424468466412), (2267, 0.0), (2268, 0.003069475330232562), (2269, 0.028358585579062744), (2270, 0.0027460532159015146), (2271, 0.0), (2272, 0.010036951609958983), (2273, 0.016104168063587186), (2274, 0.0), (2275, 0.012006690185306554), (2276, 0.040881849839877776), (2277, 0.037747129349217166), (2278, 0.010565847580145947), (2279, 0.011735421668723206), (2280, 0.029005964289969995), (2281, 0.0), (2282, 0.0), (2283, 0.021755786456804118), (2284, 0.012109388602924867), (2285, 0.021954616749376557), (2286, 0.017871004983081733), (2287, 0.020385135900247882), (2288, 0.0033617435934847426), (2289, 0.003156228029706773), (2290, 0.06168705873413734), (2291, 0.049711481169982336), (2292, 0.0032370112954742663), (2293, 0.0034643450548986986), (2294, 0.026633928869546818), (2295, 0.022816322262980172), (2296, 0.009077217019113624), (2297, 0.0), (2298, 0.0), (2299, 0.031251635575575795), (2300, 0.0), (2301, 0.021581845807435315), (2302, 0.0036099180971364965), (2303, 0.043857261505921966), (2304, 0.009906272892723928), (2305, 0.0), (2306, 0.004021083810677151), (2307, 0.0), (2308, 0.06266919288754758), (2309, 0.0030360247958806513), (2310, 0.018697008764983328), (2311, 0.03766040397984854), (2312, 0.0), (2313, 0.0032267716732364525), (2314, 0.015009522935382965), (2315, 0.009599586397196295), (2316, 0.06005985420877336), (2317, 0.0029407247297706524), (2318, 0.014641082291150635), (2319, 0.014527217894328221), (2320, 0.003694772242776781), (2321, 0.05602124881000956), (2322, 0.0), (2323, 0.0028681159855461448), (2324, 0.008201321668712808), (2325, 0.0), (2326, 0.0), (2327, 0.01903383647110496), (2328, 0.0), (2329, 0.0), (2330, 0.0), (2331, 0.032541857045229744), (2332, 0.0), (2333, 0.0), (2334, 0.02924094553278443), (2335, 0.0), (2336, 0.019172785196438863), (2337, 0.0), (2338, 0.030725717435584304), (2339, 0.0), (2340, 0.0031861100186486753), (2341, 0.0), (2342, 0.02533828521983647), (2343, 0.0), (2344, 0.016857378183271356), (2345, 0.011264839821089815), (2346, 0.01369437788534587), (2347, 0.002921653755020613), (2348, 0.013171809165699903), (2349, 0.004400552782663142), (2350, 0.004084018441757488), (2351, 0.0), (2352, 0.0), (2353, 0.0), (2354, 0.0031814053072062778), (2355, 0.002649681544771026), (2356, 0.003552914210901074), (2357, 0.0), (2358, 0.0), (2359, 0.056812732783001224), (2360, 0.03166385443096926), (2361, 0.0033711565430359462), (2362, 0.0029133792921536), (2363, 0.010956752947661623), (2364, 0.0), (2365, 0.0), (2366, 0.0), (2367, 0.03255348378110734), (2368, 0.0), (2369, 0.013102263158269168), (2370, 0.0033111772487186336), (2371, 0.0), (2372, 0.0), (2373, 0.0), (2374, 0.037738762602612684), (2375, 0.05016279147012978), (2376, 0.0), (2377, 0.016205819224929568), (2378, 0.003740304683144378), (2379, 0.004586793227764437), (2380, 0.0), (2381, 0.0), (2382, 0.0027225494410281176), (2383, 0.00985823484014323), (2384, 0.022736974784414984), (2385, 0.037971302253995656), (2386, 0.003249373680564473), (2387, 0.013953616350123358), (2388, 0.02059031861343581), (2389, 0.0), (2390, 0.015330012551320098), (2391, 0.014518134428356377), (2392, 0.004149761313137244), (2393, 0.014506216123406288), (2394, 0.0033489180725986625), (2395, 0.0), (2396, 0.046075746114371846), (2397, 0.0032323648506360244), (2398, 0.0), (2399, 0.002933760557663473), (2400, 0.02668523377137142), (2401, 0.00308882135235386), (2402, 0.021366584790682486), (2403, 0.016117370795366896), (2404, 0.03318590687876822), (2405, 0.003305563433590716), (2406, 0.014147616248049645), (2407, 0.004393304744216319), (2408, 0.0), (2409, 0.0), (2410, 0.0034866208281402813), (2411, 0.044907366001466456), (2412, 0.010458202652806694), (2413, 0.0), (2414, 0.049526594904972514), (2415, 0.0038565673779815215), (2416, 0.0031323930802053057), (2417, 0.0037212437364755667), (2418, 0.025862636894581154), (2419, 0.003339062515380666), (2420, 0.0), (2421, 0.011009815765925642), (2422, 0.037863375799132244), (2423, 0.004005364796551796), (2424, 0.00803631820020206), (2425, 0.00411911015685949), (2426, 0.0), (2427, 0.07798715729812725), (2428, 0.026037187985884908), (2429, 0.008218700139650176), (2430, 0.003224566949385498), (2431, 0.0), (2432, 0.019677979746319487), (2433, 0.0), (2434, 0.003799523195761643), (2435, 0.0), (2436, 0.003552209444831557), (2437, 0.02865512081676672), (2438, 0.003936715295564999), (2439, 0.0), (2440, 0.00645541970072255), (2441, 0.04560907018178643), (2442, 0.010049619121097414), (2443, 0.015767047596469626), (2444, 0.00904382160735829), (2445, 0.019563811121449746), (2446, 0.039789520975124386), (2447, 0.03677214988213495), (2448, 0.004150686661120586), (2449, 0.0), (2450, 0.0), (2451, 0.0), (2452, 0.011854726860312722), (2453, 0.002921078197224648), (2454, 0.0038378136977269923), (2455, 0.013715390614168581), (2456, 0.031819967913220996), (2457, 0.0028589555038503072), (2458, 0.0), (2459, 0.0038684330262745365), (2460, 0.0), (2461, 0.022875676133290862), (2462, 0.011159036755864759), (2463, 0.003124071774595149), (2464, 0.013209495776231745), (2465, 0.010414431853855995), (2466, 0.0032640024300421826), (2467, 0.0030663681407793984), (2468, 0.010359292899570882), (2469, 0.00248836568441136), (2470, 0.0), (2471, 0.0), (2472, 0.02089577686041742), (2473, 0.0030268531168436037), (2474, 0.0024383971342909426), (2475, 0.0034179124244675396), (2476, 0.0), (2477, 0.09314547514560656), (2478, 0.016053248726921668), (2479, 0.0), (2480, 0.0), (2481, 0.0026467270423859066), (2482, 0.002929546589808167), (2483, 0.0), (2484, 0.0042495195765434), (2485, 0.0), (2486, 0.10233789929981138), (2487, 0.0375113114278862), (2488, 0.0038841546928719607), (2489, 0.022888165685874526), (2490, 0.062284081190637205), (2491, 0.0), (2492, 0.003198128220858969), (2493, 0.0), (2494, 0.0034265834329089548), (2495, 0.013982789824651513), (2496, 0.002972207201897035), (2497, 0.0), (2498, 0.01064387017257171), (2499, 0.0), (2500, 0.0), (2501, 0.0), (2502, 0.0028041284712969497), (2503, 0.02024402006919816), (2504, 0.010168570498767546), (2505, 0.0035296512572246578), (2506, 0.0), (2507, 0.015190831673311023), (2508, 0.0), (2509, 0.0026118010650658017), (2510, 0.0), (2511, 0.0), (2512, 0.01195797673844053), (2513, 0.009659305965571359), (2514, 0.009708118339436014), (2515, 0.0), (2516, 0.0), (2517, 0.0), (2518, 0.011757342016804001), (2519, 0.009145410204040978), (2520, 0.0027551558413688084), (2521, 0.0), (2522, 0.023936444640457286), (2523, 0.0), (2524, 0.034589063678266904), (2525, 0.02221645050867255), (2526, 0.0026004077457590967), (2527, 0.002733525727991198), (2528, 0.002951479712095257), (2529, 0.0046135610378575005), (2530, 0.004039512792263454), (2531, 0.014573869400096886), (2532, 0.0), (2533, 0.0031965869212930817), (2534, 0.01572016864099636), (2535, 0.003522592030320633), (2536, 0.0), (2537, 0.0043599204574884375), (2538, 0.0019016364357825224), (2539, 0.03617428651835712), (2540, 0.013327858272286537), (2541, 0.0), (2542, 0.00942665780011456), (2543, 0.0), (2544, 0.0), (2545, 0.003311229914165332), (2546, 0.023787416559868983), (2547, 0.04419543359715052), (2548, 0.0), (2549, 0.010548401762043202), (2550, 0.0023766204308547675), (2551, 0.020743072282860948), (2552, 0.022058203671571734), (2553, 0.02300128111209159), (2554, 0.025468083364410508), (2555, 0.01907172052690099), (2556, 0.002947049256698976), (2557, 0.017343381028430124), (2558, 0.013594866765544687), (2559, 0.004178006785646743), (2560, 0.016049683376320907), (2561, 0.014589214691521534), (2562, 0.0), (2563, 0.016163116790093773), (2564, 0.0), (2565, 0.0698426602440012), (2566, 0.011424036007562841), (2567, 0.0), (2568, 0.003887089783515153), (2569, 0.003140477582142611), (2570, 0.0037406857189136917), (2571, 0.0030706404848218896), (2572, 0.10283430550317768), (2573, 0.0), (2574, 0.01330022014935157), (2575, 0.05556835535223557), (2576, 0.0), (2577, 0.0), (2578, 0.0), (2579, 0.0035624836092946095), (2580, 0.002838274495846108), (2581, 0.011079342224471303), (2582, 0.016695155847169338), (2583, 0.0), (2584, 0.0), (2585, 0.0151320377160148), (2586, 0.01094842733604619), (2587, 0.012062873326042752), (2588, 0.04550392773308761), (2589, 0.016176855213224203), (2590, 0.010059123706315277), (2591, 0.002851366897175547), (2592, 0.00351851256046045), (2593, 0.0029323037096027865), (2594, 0.0), (2595, 0.0034472097081044333), (2596, 0.0), (2597, 0.0), (2598, 0.015915837418945318), (2599, 0.0), (2600, 0.01118582315535688), (2601, 0.0033145755314210514), (2602, 0.009993838022450914), (2603, 0.0026693323299135617), (2604, 0.0), (2605, 0.0), (2606, 0.10897825069507312), (2607, 0.010795945389266447), (2608, 0.0), (2609, 0.0033899761971099554), (2610, 0.003358821961735774), (2611, 0.0027266417410699195), (2612, 0.0030695041269374218), (2613, 0.0037442285085701956), (2614, 0.006901968806965586), (2615, 0.0), (2616, 0.01996084860907556), (2617, 0.020146026704764237), (2618, 0.0), (2619, 0.0038273898781187067), (2620, 0.0), (2621, 0.09761348115510798), (2622, 0.009167772589243667), (2623, 0.0035979994795583767), (2624, 0.0034776775479008312), (2625, 0.013837921575328682), (2626, 0.011430322704197679), (2627, 0.00909366516732031), (2628, 0.004160579588350348), (2629, 0.019096203230399695), (2630, 0.0115088350125783), (2631, 0.0), (2632, 0.036362154080485015), (2633, 0.014680943258417546), (2634, 0.02243259351589442), (2635, 0.17535182728271942), (2636, 0.010498694056487158), (2637, 0.02191848629560273), (2638, 0.05238305805453154), (2639, 0.0), (2640, 0.01422258085887756), (2641, 0.0), (2642, 0.02273109454953652), (2643, 0.004110425541312329), (2644, 0.0), (2645, 0.04285588617049066), (2646, 0.013149259468687526), (2647, 0.034444373709248646), (2648, 0.0), (2649, 0.04424839263765047), (2650, 0.014529020322421343), (2651, 0.0030069873013250396), (2652, 0.0032130850111113363), (2653, 0.0030669555994099085), (2654, 0.014914257682968078), (2655, 0.004211874480577485), (2656, 0.0), (2657, 0.01582823185677524), (2658, 0.0), (2659, 0.0), (2660, 0.006800662505899292), (2661, 0.014592201031428075), (2662, 0.029946254140209447), (2663, 0.0), (2664, 0.003388323187808427), (2665, 0.016810117961913437), (2666, 0.0), (2667, 0.0), (2668, 0.09073772556014294), (2669, 0.01540216243267476), (2670, 0.0520140197242078), (2671, 0.03120268415446889), (2672, 0.0), (2673, 0.004227918980287822), (2674, 0.0029256467351825815), (2675, 0.0), (2676, 0.0), (2677, 0.0198908466206673), (2678, 0.005176101838066507), (2679, 0.003007463340117447), (2680, 0.01307872518237324), (2681, 0.0), (2682, 0.029128690357997554), (2683, 0.015282974181453675), (2684, 0.0), (2685, 0.020718490224864213), (2686, 0.011790379111111665), (2687, 0.02483780087972332), (2688, 0.0), (2689, 0.021641048295651354), (2690, 0.0), (2691, 0.0), (2692, 0.01045894025071592), (2693, 0.0), (2694, 0.033628701804738356), (2695, 0.02572026710430287), (2696, 0.0036945763069415943), (2697, 0.009860266544423285), (2698, 0.09105157946019038), (2699, 0.019045909049868557), (2700, 0.0), (2701, 0.0), (2702, 0.0036324989494143415), (2703, 0.0), (2704, 0.0), (2705, 0.0034413331349214993), (2706, 0.003021539226932253), (2707, 0.003730162891987066), (2708, 0.0), (2709, 0.0), (2710, 0.0), (2711, 0.0), (2712, 0.014941231708787833), (2713, 0.0), (2714, 0.025822189822010018), (2715, 0.0), (2716, 0.013093127772462937), (2717, 0.0), (2718, 0.01854940502401291), (2719, 0.0), (2720, 0.003724967706144706), (2721, 0.012150926595424548), (2722, 0.004461700145484724), (2723, 0.014578271193012637), (2724, 0.01736601231696106), (2725, 0.01453733026881069), (2726, 0.0), (2727, 0.010663934587670816), (2728, 0.0028929163418837758), (2729, 0.011111174676750477), (2730, 0.051156413600442076), (2731, 0.004266175768117327), (2732, 0.020820376426231958), (2733, 0.011569149220614966), (2734, 0.0), (2735, 0.0029344635771162073), (2736, 0.012991735386885726), (2737, 0.01806703876286723), (2738, 0.016502624055886293), (2739, 0.03743479114763609), (2740, 0.0035784893811651817), (2741, 0.0028616482453803905), (2742, 0.027966947287867236), (2743, 0.011654203164067003), (2744, 0.003293903678161512), (2745, 0.003207987014866665), (2746, 0.023988869403780023), (2747, 0.0027539125175933014), (2748, 0.0034560657617509947), (2749, 0.018579694373560652), (2750, 0.0), (2751, 0.04601879482615693), (2752, 0.011519882944254252), (2753, 0.012319404017078607), (2754, 0.0), (2755, 0.003360707538565161), (2756, 0.0371138558850985), (2757, 0.0048645286497993245), (2758, 0.011544483900165183), (2759, 0.0), (2760, 0.0024394237391370975), (2761, 0.0027350028069091153), (2762, 0.0362768470081211), (2763, 0.0), (2764, 0.004528004245694128), (2765, 0.003021040193205787), (2766, 0.0025218639769283725), (2767, 0.010604946349809593), (2768, 0.032481364712439176), (2769, 0.016505733860284044), (2770, 0.0), (2771, 0.019389059905911134), (2772, 0.041744339713944326), (2773, 0.0), (2774, 0.008634694729405229), (2775, 0.03317082630015235), (2776, 0.0034230341189137848), (2777, 0.019348422490678), (2778, 0.016436401561849563), (2779, 0.0030339971820019587), (2780, 0.02330767305337062), (2781, 0.0), (2782, 0.01556652010608993), (2783, 0.03991167838573603), (2784, 0.012310762167672656), (2785, 0.015621830157250997), (2786, 0.00340353620823654), (2787, 0.010275041071267258), (2788, 0.00902630974299574), (2789, 0.028310559956219904), (2790, 0.03282614283896361), (2791, 0.008131203558636559), (2792, 0.014401131166530978), (2793, 0.0), (2794, 0.010782219940248113), (2795, 0.0420094069519885), (2796, 0.0036371942026187636), (2797, 0.0038901271621567847), (2798, 0.0032274008676751154), (2799, 0.08889476528848142), (2800, 0.003002738878067714), (2801, 0.01893004475451192), (2802, 0.003107752247768575), (2803, 0.021470841217731643), (2804, 0.010418025591484081), (2805, 0.0), (2806, 0.0), (2807, 0.0), (2808, 0.011670804376325332), (2809, 0.0484379841764474), (2810, 0.045760012634674274), (2811, 0.0), (2812, 0.01841789337951811), (2813, 0.0), (2814, 0.05154698432207919), (2815, 0.017836972386039884), (2816, 0.0), (2817, 0.033290972901833235), (2818, 0.0), (2819, 0.0), (2820, 0.0), (2821, 0.003374040816659932), (2822, 0.008988278152877897), (2823, 0.0), (2824, 0.010146617784643201), (2825, 0.06893796363898266), (2826, 0.03458273496121722), (2827, 0.012692297169348726), (2828, 0.01318854118723817), (2829, 0.0), (2830, 0.0035371833290891645), (2831, 0.0031818881398160267), (2832, 0.004170959934047416), (2833, 0.026849606047697684), (2834, 0.003943018080828804), (2835, 0.0), (2836, 0.0), (2837, 0.0), (2838, 0.004061713928090048), (2839, 0.020252958368776202), (2840, 0.003544741089455295), (2841, 0.013178178074266477), (2842, 0.0), (2843, 0.011565317009156738), (2844, 0.002624937086791659), (2845, 0.04814771483525561), (2846, 0.0037188658736713506), (2847, 0.01028272712906096), (2848, 0.030815608541940438), (2849, 0.012733240633766296), (2850, 0.03941915147576611), (2851, 0.02615200177944928), (2852, 0.0), (2853, 0.07151932672413716), (2854, 0.003529737638674236), (2855, 0.0), (2856, 0.0), (2857, 0.01726170083335093), (2858, 0.019821013004086712), (2859, 0.0030131953821421384), (2860, 0.017755296546809657), (2861, 0.004212685361010322), (2862, 0.002961948961170353), (2863, 0.0032770061845122616), (2864, 0.0), (2865, 0.013013617139750374), (2866, 0.0), (2867, 0.008427009397902604), (2868, 0.012937813311050442), (2869, 0.013391489101174926), (2870, 0.004308485163302323), (2871, 0.0078835011600567), (2872, 0.0036584517798780958), (2873, 0.024141958493821117), (2874, 0.02089210120449353), (2875, 0.0), (2876, 0.02108482837298044), (2877, 0.02588301849316102), (2878, 0.003350283977256454), (2879, 0.020487084343741493), (2880, 0.0), (2881, 0.019052469596152467), (2882, 0.02693815221721767), (2883, 0.004300918198061219), (2884, 0.0036689015161905027), (2885, 0.0), (2886, 0.024508338550425487), (2887, 0.024758145022327573), (2888, 0.0034427775859421287), (2889, 0.023157787334568088), (2890, 0.00350703952946823), (2891, 0.0), (2892, 0.022395720380830004), (2893, 0.0036041870857061505), (2894, 0.0032615044602985455), (2895, 0.01673846786485469), (2896, 0.0), (2897, 0.008468686953142044), (2898, 0.011775601359763303), (2899, 0.0029876708876364795), (2900, 0.003168129855019717), (2901, 0.004080568550126122), (2902, 0.07741101170687502), (2903, 0.025624937520648705), (2904, 0.08874463195154644), (2905, 0.0), (2906, 0.0120121864886764), (2907, 0.0029476115443290785), (2908, 0.025173260041164845), (2909, 0.0030996794232073252), (2910, 0.0451086005474067), (2911, 0.003307744237704101), (2912, 0.04056780063078308), (2913, 0.04207256383001348), (2914, 0.003594374254744746), (2915, 0.0034562416829964607), (2916, 0.0035599781687319213), (2917, 0.013250295661634954), (2918, 0.01857575048689008), (2919, 0.05462209169610947), (2920, 0.027768156297406005), (2921, 0.01209114234899999), (2922, 0.0), (2923, 0.004282251138373892), (2924, 0.0036859319752746427), (2925, 0.009670404087058576), (2926, 0.040793252034105915), (2927, 0.0), (2928, 0.0), (2929, 0.012168926181501902), (2930, 0.011880745677536728), (2931, 0.04207956025716496), (2932, 0.033964434951812256), (2933, 0.0026990654629122797), (2934, 0.012132155623489436), (2935, 0.0), (2936, 0.015830028441239322), (2937, 0.004563816216931776), (2938, 0.0), (2939, 0.011042578986379047), (2940, 0.003397026874156581), (2941, 0.0133841954687599), (2942, 0.002750199003569589), (2943, 0.003166813982135468), (2944, 0.08219062094765694), (2945, 0.024712357747986417), (2946, 0.003127793662575541), (2947, 0.0), (2948, 0.011546025775412668), (2949, 0.0033958737898356654), (2950, 0.01026878982545559), (2951, 0.0), (2952, 0.0), (2953, 0.08451298108542854), (2954, 0.021542653938045365), (2955, 0.0), (2956, 0.0), (2957, 0.003888246565086382), (2958, 0.0), (2959, 0.03585493980241667), (2960, 0.0), (2961, 0.011855532306521704), (2962, 0.027864088071458838), (2963, 0.00946662725277034), (2964, 0.03634096263527211), (2965, 0.013283804648444721), (2966, 0.003863625159879797), (2967, 0.0), (2968, 0.03663327106549995), (2969, 0.002635993175935711), (2970, 0.00338765651802077), (2971, 0.007714537684313984), (2972, 0.01842135003139319), (2973, 0.01021484968950954), (2974, 0.0035683041443213266), (2975, 0.002792204357275527), (2976, 0.021134970372946246), (2977, 0.003254215574713653), (2978, 0.009640600972188409), (2979, 0.029094612527517487), (2980, 0.003117040518558432), (2981, 0.014370466936995835), (2982, 0.0), (2983, 0.02785083728622093), (2984, 0.0433393321877914), (2985, 0.002651004090882007), (2986, 0.003759359115691315), (2987, 0.0036691503786853348), (2988, 0.0032779872706791093), (2989, 0.004428596537569405), (2990, 0.0), (2991, 0.045506360303479515), (2992, 0.010075400883830125), (2993, 0.0038334567373298728), (2994, 0.008923647752092902), (2995, 0.0030121752387638075), (2996, 0.028270166694727594), (2997, 0.0030040210951714132), (2998, 0.004771361486036764), (2999, 0.0031602145606532766), (3000, 0.025848299605395537), (3001, 0.0), (3002, 0.013788478586500764), (3003, 0.015534469713383169), (3004, 0.01722403177035039), (3005, 0.0), (3006, 0.0), (3007, 0.014939274590918001), (3008, 0.012080279729001856), (3009, 0.015130796646834942), (3010, 0.0030647741868139924), (3011, 0.013175419683460001), (3012, 0.013503595040658588), (3013, 0.003585306678418872), (3014, 0.0030003441856952893), (3015, 0.004027436316871057), (3016, 0.0032627517197357887), (3017, 0.0), (3018, 0.023508151200056192), (3019, 0.014021194189268343), (3020, 0.0038583481160882264), (3021, 0.029890116711602202), (3022, 0.052244825135689864), (3023, 0.020110602996405387), (3024, 0.002629134240273873), (3025, 0.0), (3026, 0.0035114315675576152), (3027, 0.015137812990416982), (3028, 0.0030712808284888296), (3029, 0.0), (3030, 0.05372601273007518), (3031, 0.0038823851078312287), (3032, 0.028258183107448702), (3033, 0.016355656723960124), (3034, 0.0), (3035, 0.0030256562640884384), (3036, 0.003021683331315936), (3037, 0.0033548062410378894), (3038, 0.0), (3039, 0.0), (3040, 0.004438466131453896), (3041, 0.0), (3042, 0.004306310716130787), (3043, 0.04897799705334256), (3044, 0.003464421001208311), (3045, 0.007321749566669552), (3046, 0.0031172048795207255), (3047, 0.0), (3048, 0.011032379680362104), (3049, 0.0), (3050, 0.002911861234261675), (3051, 0.01994732576047805), (3052, 0.01856672961627606), (3053, 0.0), (3054, 0.0), (3055, 0.004324770482039037), (3056, 0.033102360910169826), (3057, 0.0029815118761715473), (3058, 0.0), (3059, 0.0), (3060, 0.0), (3061, 0.0), (3062, 0.003523587492311406), (3063, 0.0187973399259928), (3064, 0.0034583033508889666), (3065, 0.002699578485977409), (3066, 0.0), (3067, 0.024489649956927626), (3068, 0.0), (3069, 0.013274320192789584), (3070, 0.04334875790792127), (3071, 0.002976908701473418), (3072, 0.015798789635315964), (3073, 0.020551275752654363), (3074, 0.0038993523213029613), (3075, 0.0030867182724983754), (3076, 0.029904524444166723), (3077, 0.0), (3078, 0.049230509264801575), (3079, 0.022533188922071262), (3080, 0.023692482939428026), (3081, 0.015997195477443257), (3082, 0.0), (3083, 0.0), (3084, 0.003370870700104639), (3085, 0.008469965192450865), (3086, 0.024261984710247427), (3087, 0.0), (3088, 0.0), (3089, 0.0), (3090, 0.0), (3091, 0.0026602298903168234), (3092, 0.0), (3093, 0.0031278303457314633), (3094, 0.0037187987921242114), (3095, 0.01293082982424371), (3096, 0.002762745642045988), (3097, 0.023057584608920347), (3098, 0.0), (3099, 0.020022391726535967), (3100, 0.019069809723764704), (3101, 0.026065859487863125), (3102, 0.0), (3103, 0.0), (3104, 0.0), (3105, 0.0), (3106, 0.0), (3107, 0.04002580964724599), (3108, 0.0919373492620392), (3109, 0.021742415987551715), (3110, 0.025322815335646454), (3111, 0.017491501659551528), (3112, 0.00341759231836098), (3113, 0.003241638234067515), (3114, 0.0), (3115, 0.0), (3116, 0.0034924998003319804), (3117, 0.0), (3118, 0.020889381312477143), (3119, 0.016512199856714833), (3120, 0.05614065643686478), (3121, 0.0), (3122, 0.0549987120654829), (3123, 0.03322276002175266), (3124, 0.0), (3125, 0.0031939352014028724), (3126, 0.0), (3127, 0.028363015325821358), (3128, 0.004006357064554254), (3129, 0.04088358594973003), (3130, 0.0), (3131, 0.0), (3132, 0.0), (3133, 0.0), (3134, 0.0), (3135, 0.0), (3136, 0.019040566761125897), (3137, 0.01592890984695473), (3138, 0.0), (3139, 0.004499784653826373), (3140, 0.017598846949275798), (3141, 0.02044462569839308), (3142, 0.012258311758837796), (3143, 0.0), (3144, 0.0), (3145, 0.0), (3146, 0.003555013832177576), (3147, 0.002958768889608797), (3148, 0.0035984469496380595), (3149, 0.008552001253084059), (3150, 0.0033252934186441914), (3151, 0.01294836957832406), (3152, 0.0024801387747662175), (3153, 0.017322686293522002), (3154, 0.038819071017685655), (3155, 0.012126794522039002), (3156, 0.01966274922795439), (3157, 0.0035375459424179414), (3158, 0.015292468671521819), (3159, 0.01730733335176509), (3160, 0.017932392561834404), (3161, 0.0), (3162, 0.0), (3163, 0.0), (3164, 0.0), (3165, 0.0036504479056064295), (3166, 0.019397501330457114), (3167, 0.002846277818292519), (3168, 0.0), (3169, 0.0), (3170, 0.0030235820929332166), (3171, 0.03471499088882486), (3172, 0.0), (3173, 0.023234993622137993), (3174, 0.0031697515838374447), (3175, 0.0), (3176, 0.0), (3177, 0.0), (3178, 0.0050249616508485405), (3179, 0.0), (3180, 0.011586908486725953), (3181, 0.02224620074203025), (3182, 0.07854114166877788), (3183, 0.0034803187073656214), (3184, 0.02534083465120472), (3185, 0.0), (3186, 0.0036036905427697763), (3187, 0.0033445511378196735), (3188, 0.02039176009182962), (3189, 0.0), (3190, 0.0), (3191, 0.0), (3192, 0.0213003345366393), (3193, 0.019934130951628756), (3194, 0.0029998429922035753), (3195, 0.003127686727128915), (3196, 0.003563918900138831), (3197, 0.0), (3198, 0.0032832428401377857), (3199, 0.0024612036966243423), (3200, 0.05048832342267125), (3201, 0.009631694437582354), (3202, 0.0), (3203, 0.01301380656357993), (3204, 0.0), (3205, 0.0235579456888952), (3206, 0.05426290788608426), (3207, 0.022434415352654693), (3208, 0.01720296373303443), (3209, 0.0), (3210, 0.04364114350747127), (3211, 0.038103222751162014), (3212, 0.008633855861980925), (3213, 0.0), (3214, 0.003034232782194974), (3215, 0.017776605007349268), (3216, 0.013526771760058209), (3217, 0.0), (3218, 0.02559488471257549), (3219, 0.03193168949760457), (3220, 0.013284991541811472), (3221, 0.02373439150171247), (3222, 0.0330685768741768), (3223, 0.01550465164576246), (3224, 0.0033089362028356196), (3225, 0.0032568899628630204), (3226, 0.005846247075632334), (3227, 0.014099913437580073), (3228, 0.003857024197108763), (3229, 0.0), (3230, 0.015693049655419337), (3231, 0.0), (3232, 0.05316621734459644), (3233, 0.003269640168220164), (3234, 0.003473990825508564), (3235, 0.025151312408450407), (3236, 0.0), (3237, 0.0031391685074313494), (3238, 0.002735135526537878), (3239, 0.01763061544355443), (3240, 0.006142510231972181), (3241, 0.025491104256968725), (3242, 0.0033368147236558553), (3243, 0.0029767230324652927), (3244, 0.0), (3245, 0.05894318683969553), (3246, 0.022618017706658076), (3247, 0.0), (3248, 0.003544552275291933), (3249, 0.053580420549811276), (3250, 0.0), (3251, 0.0), (3252, 0.0026482824555541713), (3253, 0.012288143961848432), (3254, 0.01929090775587603), (3255, 0.0), (3256, 0.01214057145559603), (3257, 0.003829617161163143), (3258, 0.0034559935965432333), (3259, 0.009350420986714923), (3260, 0.0031182797616928775), (3261, 0.0), (3262, 0.017490319840845828), (3263, 0.0), (3264, 0.035909342545270076), (3265, 0.0), (3266, 0.0), (3267, 0.04797694388699898), (3268, 0.0030334134754554823), (3269, 0.003437930994352462), (3270, 0.010735527878353005), (3271, 0.04214615051708812), (3272, 0.0), (3273, 0.0035383341729719074), (3274, 0.003580994225677733), (3275, 0.0379384825002837), (3276, 0.021109448059670077), (3277, 0.04299188694428838), (3278, 0.015296349623051198), (3279, 0.0), (3280, 0.00825453373279807), (3281, 0.05151566333371423), (3282, 0.030597062640217627), (3283, 0.0032372691767115426), (3284, 0.01280749192486994), (3285, 0.0023893182121357526), (3286, 0.0), (3287, 0.0), (3288, 0.0), (3289, 0.003257142003250626), (3290, 0.0032707469419538124), (3291, 0.01826674236953535), (3292, 0.004148927823081284), (3293, 0.07193895841614845), (3294, 0.00960594106874489), (3295, 0.0), (3296, 0.003614821257267889), (3297, 0.01279805342346075), (3298, 0.0030700989237977226), (3299, 0.003158152149452927), (3300, 0.0029867392326535765), (3301, 0.0024888250271333815), (3302, 0.0038723881860367017), (3303, 0.014230673080540126), (3304, 0.03079390228309733), (3305, 0.0), (3306, 0.01917042405082944), (3307, 0.0036918362581328376), (3308, 0.0037626644587412106), (3309, 0.0), (3310, 0.0), (3311, 0.022102700386646773), (3312, 0.0102978676811127), (3313, 0.011097724781955354), (3314, 0.00337075749600031), (3315, 0.0030361119661997797), (3316, 0.002444796460606609), (3317, 0.009865013432307277), (3318, 0.010855218686784499), (3319, 0.0), (3320, 0.0), (3321, 0.0), (3322, 0.004090430496912069), (3323, 0.0), (3324, 0.0), (3325, 0.03005581956655091), (3326, 0.0033661735549549115), (3327, 0.012192518543166558), (3328, 0.00919150755007085), (3329, 0.002905563317169855), (3330, 0.02714449350913889), (3331, 0.002649348548706428), (3332, 0.04777112072142903), (3333, 0.0), (3334, 0.009328439438306056), (3335, 0.013734130072967895), (3336, 0.0028606625421770202), (3337, 0.003667193408051955), (3338, 0.022414641047585407), (3339, 0.0), (3340, 0.010323983169163666), (3341, 0.013631142124926712), (3342, 0.02190830517900307), (3343, 0.03352770134651024), (3344, 0.038777964107990844), (3345, 0.0), (3346, 0.0031697879795988385), (3347, 0.0198021549475812), (3348, 0.003075768877558953), (3349, 0.003297360125495458), (3350, 0.0), (3351, 0.0033170684221633245), (3352, 0.0030563725585125937), (3353, 0.0033042059765422647), (3354, 0.031210689991601703), (3355, 0.0036564555389737895), (3356, 0.016031873757988774), (3357, 0.02091042287617536), (3358, 0.052009276727205817), (3359, 0.003698737112676394), (3360, 0.0028231419294539005), (3361, 0.0), (3362, 0.002516701043667237), (3363, 0.017440309457046735), (3364, 0.03925930140414564), (3365, 0.016638059262326872), (3366, 0.0), (3367, 0.0), (3368, 0.0), (3369, 0.0029316133179213655), (3370, 0.011691123778247657), (3371, 0.0), (3372, 0.0033379009818392453), (3373, 0.05461608379784), (3374, 0.02228903135420094), (3375, 0.021392726923608517), (3376, 0.0027139851867152964), (3377, 0.010374935625904831), (3378, 0.021302973058060545), (3379, 0.003115969656365615), (3380, 0.03462568799099624), (3381, 0.003140286084711628), (3382, 0.03387027335455087), (3383, 0.0), (3384, 0.03432836479743488), (3385, 0.027402971834076542), (3386, 0.01704521164080574), (3387, 0.0), (3388, 0.06260679537578426), (3389, 0.0029230490257341622), (3390, 0.022479392705834267), (3391, 0.007085657474913286), (3392, 0.01567654954912238), (3393, 0.0027334557741144133), (3394, 0.0), (3395, 0.01875416480304091), (3396, 0.003665931905695193), (3397, 0.00969754332880516), (3398, 0.02105491850796218), (3399, 0.01306476915284333), (3400, 0.03992971054425311), (3401, 0.011039190733789325), (3402, 0.00309712543552813), (3403, 0.030273831753085744), (3404, 0.055549503212555154), (3405, 0.017351475755559464), (3406, 0.014345513256905468), (3407, 0.011307227758793326), (3408, 0.003675390698061919), (3409, 0.014352226443121105), (3410, 0.0025575538245646246), (3411, 0.0), (3412, 0.013638413658032976), (3413, 0.0038174421804995436), (3414, 0.0035576985987060238), (3415, 0.010899835890142309), (3416, 0.052140695975655404), (3417, 0.014971192872596125), (3418, 0.010930453981308506), (3419, 0.0036677860045094906), (3420, 0.0), (3421, 0.01632261712539714), (3422, 0.0), (3423, 0.003636615649976689), (3424, 0.0), (3425, 0.0036826063699234024), (3426, 0.041371552862435323), (3427, 0.0), (3428, 0.0), (3429, 0.007081075256593336), (3430, 0.0196382815682992), (3431, 0.0025522181707482534), (3432, 0.01354422681767316), (3433, 0.002992604547082777), (3434, 0.0033812198560665115), (3435, 0.06951728315638349), (3436, 0.013680472790111118), (3437, 0.02974083201102794), (3438, 0.02179428725477296), (3439, 0.0), (3440, 0.08219628646531901), (3441, 0.03933326287321351), (3442, 0.0), (3443, 0.0), (3444, 0.03487173807739984), (3445, 0.0032549219557803863), (3446, 0.0), (3447, 0.0031056439806147356), (3448, 0.0), (3449, 0.09626237878632639), (3450, 0.03683531785379873), (3451, 0.0), (3452, 0.002963640767509893), (3453, 0.03220660304339973), (3454, 0.0), (3455, 0.0029182410204874926), (3456, 0.0418285060009082), (3457, 0.0), (3458, 0.002177425362155761), (3459, 0.0), (3460, 0.04381875753561343), (3461, 0.0), (3462, 0.0), (3463, 0.01114683135723122), (3464, 0.009396566791784015), (3465, 0.056357452969605794), (3466, 0.1054303336423417), (3467, 0.0), (3468, 0.022002225537389265), (3469, 0.012101132279606998), (3470, 0.0), (3471, 0.002527027694957221), (3472, 0.01319454948069262), (3473, 0.0), (3474, 0.002887959721349672), (3475, 0.0), (3476, 0.0), (3477, 0.0031515284829163747), (3478, 0.003178244039661779), (3479, 0.004244456254529224), (3480, 0.00886020679273305), (3481, 0.0), (3482, 0.0), (3483, 0.10084210758565665), (3484, 0.008986395705457124), (3485, 0.0), (3486, 0.0), (3487, 0.05291278843311117), (3488, 0.014224417520084064), (3489, 0.0), (3490, 0.019604672765134504), (3491, 0.023685889491404384), (3492, 0.0031743258576178704), (3493, 0.0246940801635561), (3494, 0.0), (3495, 0.0), (3496, 0.015010514856369816), (3497, 0.0034725577104255325), (3498, 0.012987623058125352), (3499, 0.0031222601723775705), (3500, 0.0029486397963188167), (3501, 0.013817255319680833), (3502, 0.013079186349938056), (3503, 0.0030476160212611035), (3504, 0.04455623137317592), (3505, 0.0), (3506, 0.08816045285733579), (3507, 0.009191072815101087), (3508, 0.008725384110622389), (3509, 0.0), (3510, 0.0), (3511, 0.0033455283647875205), (3512, 0.004873549152484811), (3513, 0.0), (3514, 0.0033179712662857277), (3515, 0.033518883791973146), (3516, 0.07082356501840668), (3517, 0.024428647890110212), (3518, 0.030686813399025334), (3519, 0.0), (3520, 0.016566633221888845), (3521, 0.00391543706614605), (3522, 0.011059270852377933), (3523, 0.004556076518363082), (3524, 0.028748090025477176), (3525, 0.0), (3526, 0.025836229819535504), (3527, 0.003285321478401812), (3528, 0.0356660748031993), (3529, 0.0), (3530, 0.0), (3531, 0.01870118517038047), (3532, 0.0), (3533, 0.0), (3534, 0.03896318749604186), (3535, 0.01049871053567273), (3536, 0.025721713328945506), (3537, 0.00394211820671704), (3538, 0.018812486497744394), (3539, 0.0), (3540, 0.0037069113317961247), (3541, 0.02373281007690359), (3542, 0.024999750717673148), (3543, 0.00968154963923478), (3544, 0.0038687283646710634), (3545, 0.038026849914724825), (3546, 0.002371208194927258), (3547, 0.0), (3548, 0.002613617066313812), (3549, 0.0), (3550, 0.06552423113845643), (3551, 0.023812289845088232), (3552, 0.0051690760843603545), (3553, 0.011937103580616247), (3554, 0.0), (3555, 0.0), (3556, 0.0028417598447076755), (3557, 0.02396074748292939), (3558, 0.0029341894524858325), (3559, 0.0), (3560, 0.015273080112517991), (3561, 0.018426801827561887), (3562, 0.0), (3563, 0.02150312510130492), (3564, 0.023684801482249766), (3565, 0.003145413130672957), (3566, 0.0), (3567, 0.0), (3568, 0.020385147497420344), (3569, 0.002724937632476501), (3570, 0.008810695763865123), (3571, 0.0032499331305818496), (3572, 0.0), (3573, 0.0), (3574, 0.04000316879904236), (3575, 0.0025676279111818455), (3576, 0.0), (3577, 0.003927774604481433), (3578, 0.05241579225381905), (3579, 0.0027128785868298397), (3580, 0.0), (3581, 0.0), (3582, 0.008541221522924464), (3583, 0.0), (3584, 0.0), (3585, 0.0), (3586, 0.08231509698018394), (3587, 0.026577108775420043), (3588, 0.02611590572273024), (3589, 0.04653920883307311), (3590, 0.0033760816840853764), (3591, 0.0), (3592, 0.05516137094976127), (3593, 0.0035478682998534004), (3594, 0.0), (3595, 0.009964577863722002), (3596, 0.013839537679908077), (3597, 0.01814784324952677), (3598, 0.0), (3599, 0.003318470330006867), (3600, 0.0), (3601, 0.0033895387285267442), (3602, 0.020073293953225595), (3603, 0.0), (3604, 0.026425334325470676), (3605, 0.0), (3606, 0.0032405368616738707), (3607, 0.0), (3608, 0.0020701432700087363), (3609, 0.015387785256549177), (3610, 0.0), (3611, 0.0036111903452745557), (3612, 0.012049008650906069), (3613, 0.00392014414838883), (3614, 0.002876745615961562), (3615, 0.0029929139269994384), (3616, 0.12150704853658896), (3617, 0.0), (3618, 0.025008549965731344), (3619, 0.021451334082671927), (3620, 0.05052191454016554), (3621, 0.003739856881758831), (3622, 0.020684443095872508), (3623, 0.014022403635711465), (3624, 0.0031487856795315967), (3625, 0.0), (3626, 0.01810093484350682), (3627, 0.002940677901082753), (3628, 0.0), (3629, 0.0027295129673872765), (3630, 0.0), (3631, 0.05183713849696056), (3632, 0.0), (3633, 0.018283831584419815), (3634, 0.011492875476501078), (3635, 0.004297001848344558), (3636, 0.003275302327127894), (3637, 0.01053304707034988), (3638, 0.0941759670196528), (3639, 0.028371209428686924), (3640, 0.025047258906127894), (3641, 0.003069474317361627), (3642, 0.046916351770454334), (3643, 0.0032287607185728347), (3644, 0.036136267489011026), (3645, 0.009078391048314422), (3646, 0.0030052313680531714), (3647, 0.003126976160308068), (3648, 0.0), (3649, 0.0), (3650, 0.010552956862666328), (3651, 0.0036357765007068543), (3652, 0.009796618283111482), (3653, 0.003239787762762226), (3654, 0.036177428080437016), (3655, 0.020532581489311107), (3656, 0.06702408858996095), (3657, 0.0026820662346455954), (3658, 0.0074503047139728605), (3659, 0.009663105008005641), (3660, 0.01161483651742129), (3661, 0.01594871960497411), (3662, 0.0), (3663, 0.0), (3664, 0.0), (3665, 0.0031706730720250293), (3666, 0.0033000023541106707), (3667, 0.004859786249700195), (3668, 0.0026901258706369664), (3669, 0.0026934078542946156), (3670, 0.02590819283588216), (3671, 0.0), (3672, 0.004516205973697776), (3673, 0.003165364954698651), (3674, 0.00748415941679406), (3675, 0.014357448192011766), (3676, 0.0), (3677, 0.003488694250101484), (3678, 0.00338113899078565), (3679, 0.0), (3680, 0.0035939648342520696), (3681, 0.011995660449163661), (3682, 0.0), (3683, 0.0), (3684, 0.02611109655612443), (3685, 0.0), (3686, 0.0), (3687, 0.003969649670476902), (3688, 0.0), (3689, 0.003287398653862517), (3690, 0.0), (3691, 0.003024239607259659), (3692, 0.0034220255457005208), (3693, 0.0), (3694, 0.027800947541161955), (3695, 0.022329901435328026), (3696, 0.05044757395292816), (3697, 0.0), (3698, 0.0), (3699, 0.04005414939244075), (3700, 0.0), (3701, 0.003258284364956651), (3702, 0.0), (3703, 0.0), (3704, 0.029856503269904813), (3705, 0.015222330148921175), (3706, 0.02302535590685989), (3707, 0.01423256067206663), (3708, 0.010236911902422534), (3709, 0.0), (3710, 0.01148780026102053), (3711, 0.04914508774656923), (3712, 0.07576321547746054), (3713, 0.024413117971451397), (3714, 0.056588933584213186), (3715, 0.0), (3716, 0.0), (3717, 0.0), (3718, 0.022671910578644396), (3719, 0.003102136981089631), (3720, 0.0), (3721, 0.0), (3722, 0.021854560895837618), (3723, 0.0), (3724, 0.0), (3725, 0.002959312543805511), (3726, 0.0), (3727, 0.01347741404247535), (3728, 0.0033986085483504636), (3729, 0.003683292829673269), (3730, 0.11146993404445854), (3731, 0.007561102595203666), (3732, 0.019019885698568034), (3733, 0.028532181052292188), (3734, 0.002997630369059118), (3735, 0.0), (3736, 0.02072391221584681), (3737, 0.0035488935177555043), (3738, 0.0), (3739, 0.0032131778335401174), (3740, 0.0), (3741, 0.046110710435134164), (3742, 0.002903072113045408), (3743, 0.0), (3744, 0.0), (3745, 0.01644999701998963), (3746, 0.0), (3747, 0.0224501603565385), (3748, 0.017663517305938087), (3749, 0.014820972733065735), (3750, 0.013805306822258888), (3751, 0.0026122702243549637), (3752, 0.03369453598854788), (3753, 0.0), (3754, 0.027361368997538424), (3755, 0.0028089055639353953), (3756, 0.02723899251078544), (3757, 0.0034284056103978298), (3758, 0.0), (3759, 0.023373234198347782), (3760, 0.0), (3761, 0.0), (3762, 0.018218282170140758), (3763, 0.00374564256293249), (3764, 0.0), (3765, 0.013204088495667458), (3766, 0.11162098978725463), (3767, 0.04805306395458823), (3768, 0.021138562229677565), (3769, 0.014266034480590854), (3770, 0.003323540043226467), (3771, 0.04224857559991423), (3772, 0.015468879628973446), (3773, 0.03331166338491462), (3774, 0.0), (3775, 0.027172921537063986), (3776, 0.0), (3777, 0.012725721128638331), (3778, 0.014525487800750197), (3779, 0.003837826901599308), (3780, 0.003393476262564441), (3781, 0.08112321238268097), (3782, 0.0), (3783, 0.03916739634050824), (3784, 0.013310464218612518), (3785, 0.0), (3786, 0.0), (3787, 0.0), (3788, 0.03895235707923181), (3789, 0.0), (3790, 0.0), (3791, 0.0), (3792, 0.003232110263454472), (3793, 0.010238702512843747), (3794, 0.00839766223365665), (3795, 0.0028430216750475646), (3796, 0.0144045088060159), (3797, 0.02743228689620699), (3798, 0.0), (3799, 0.003012714917464538), (3800, 0.0), (3801, 0.020472185618219285), (3802, 0.01140404857037041), (3803, 0.0), (3804, 0.0035453568661371368), (3805, 0.0), (3806, 0.0172226124136564), (3807, 0.011981251468288621), (3808, 0.0), (3809, 0.0032563235721170575), (3810, 0.0), (3811, 0.0029961648918807172), (3812, 0.0), (3813, 0.0034677840554614486), (3814, 0.0), (3815, 0.0), (3816, 0.011833588725218695), (3817, 0.011585553760788011), (3818, 0.0), (3819, 0.011372185495447393), (3820, 0.0), (3821, 0.0026654121998015033), (3822, 0.003568600667431424), (3823, 0.019194753873184197), (3824, 0.01948491657785237), (3825, 0.0), (3826, 0.013068041583547107), (3827, 0.0031161868496053257), (3828, 0.04211481444388734), (3829, 0.018166538359791654), (3830, 0.03214000058348566), (3831, 0.0), (3832, 0.003879962175106459), (3833, 0.0), (3834, 0.02184332956170827), (3835, 0.001914161576808772), (3836, 0.010157274863498794), (3837, 0.0), (3838, 0.0), (3839, 0.002931504189164421), (3840, 0.020928072770289022), (3841, 0.02115806443822731), (3842, 0.008069813213278843), (3843, 0.0), (3844, 0.025582470022768214), (3845, 0.003315055701781031), (3846, 0.0), (3847, 0.0), (3848, 0.004032194314987508), (3849, 0.009208794301750485), (3850, 0.0), (3851, 0.041768390993749245), (3852, 0.0), (3853, 0.012883241060012627), (3854, 0.05607534855244228), (3855, 0.020019180235136734), (3856, 0.0), (3857, 0.003530052277931041), (3858, 0.0), (3859, 0.0), (3860, 0.008038704816627235), (3861, 0.0), (3862, 0.012579117819612191), (3863, 0.0028559586531076825), (3864, 0.0), (3865, 0.009288059278685508), (3866, 0.00366352736251569), (3867, 0.0036104918246928973), (3868, 0.0030410329164413793), (3869, 0.044758279396583715), (3870, 0.021342714172922866), (3871, 0.0), (3872, 0.0), (3873, 0.0252278584792087), (3874, 0.003886465372820877), (3875, 0.015884778469103734), (3876, 0.0029174130481165734), (3877, 0.026268575327414202), (3878, 0.04469714649336617), (3879, 0.0), (3880, 0.0027728267452071793), (3881, 0.019468520086275483), (3882, 0.0033449620682390073), (3883, 0.013729222626583854), (3884, 0.04002267849635521), (3885, 0.02007484875628309), (3886, 0.0), (3887, 0.0), (3888, 0.011917315470260727), (3889, 0.003446847779060337), (3890, 0.0030748152022097375), (3891, 0.0), (3892, 0.00413159628285562), (3893, 0.003433446771091165), (3894, 0.002787382273736226), (3895, 0.002782206215389296), (3896, 0.04685771888629407), (3897, 0.0), (3898, 0.023957290178506136), (3899, 0.00965453226029726), (3900, 0.01617629357635734), (3901, 0.020287835336744258), (3902, 0.04457384533689722), (3903, 0.02702413682700375), (3904, 0.03769280064868061), (3905, 0.07061919354427962), (3906, 0.0031269904543516735), (3907, 0.0), (3908, 0.020683648519135258), (3909, 0.02058880542842765), (3910, 0.034818061098966034), (3911, 0.06250734972423334), (3912, 0.0), (3913, 0.054832301205308125), (3914, 0.0), (3915, 0.05681875268750476), (3916, 0.0), (3917, 0.003057304015095744), (3918, 0.0), (3919, 0.0033224062577416258), (3920, 0.0032920280939246816), (3921, 0.0), (3922, 0.00392344991055992), (3923, 0.0), (3924, 0.013239924753185677), (3925, 0.004730720575306162), (3926, 0.0), (3927, 0.002645401334150004), (3928, 0.002654822823154005), (3929, 0.0), (3930, 0.03232225323550278), (3931, 0.0), (3932, 0.005862773918148122), (3933, 0.0096319333985865), (3934, 0.0), (3935, 0.02828973310703431), (3936, 0.0), (3937, 0.030812687209951097), (3938, 0.0), (3939, 0.018625118864909078), (3940, 0.011249227063586505), (3941, 0.011286856427118113), (3942, 0.024902932310717964), (3943, 0.0), (3944, 0.0), (3945, 0.00925470002906515), (3946, 0.020626861903985126), (3947, 0.02601306953655155), (3948, 0.0), (3949, 0.012187658518402825), (3950, 0.0), (3951, 0.003708453594882863), (3952, 0.0036447517048784866), (3953, 0.0028917471153035363), (3954, 0.0029995547067027573), (3955, 0.010783457925796502), (3956, 0.010735149562636987), (3957, 0.011526317354171357), (3958, 0.0), (3959, 0.021657834374524097), (3960, 0.003603132767358542), (3961, 0.013294066446909739), (3962, 0.0035694849772231812), (3963, 0.0), (3964, 0.0), (3965, 0.05996096883517085), (3966, 0.012725068075429927), (3967, 0.0035134105128539705), (3968, 0.017185275993326025), (3969, 0.0), (3970, 0.0), (3971, 0.0), (3972, 0.0), (3973, 0.06910655421870125), (3974, 0.002860599483434702), (3975, 0.017784353017818274), (3976, 0.0), (3977, 0.0), (3978, 0.05777506729746015), (3979, 0.0), (3980, 0.0), (3981, 0.0), (3982, 0.010803080152861834), (3983, 0.0023810273599577797), (3984, 0.012666775780355865), (3985, 0.0), (3986, 0.021228232598265936), (3987, 0.0033850461157608016), (3988, 0.0), (3989, 0.0), (3990, 0.004386881695178891), (3991, 0.0), (3992, 0.03855929931818884), (3993, 0.008191711732421442), (3994, 0.0), (3995, 0.022406180473855078), (3996, 0.04271832973065589), (3997, 0.014525489613636151), (3998, 0.0), (3999, 0.014830462302770027), (4000, 0.04291455450964633), (4001, 0.0), (4002, 0.027399756091336616), (4003, 0.0), (4004, 0.012214680811877758), (4005, 0.025210119973390746), (4006, 0.0), (4007, 0.012606984734996447), (4008, 0.0), (4009, 0.0), (4010, 0.0), (4011, 0.002984845874875947), (4012, 0.010198364730365912), (4013, 0.027485823884562215), (4014, 0.003215738541299125), (4015, 0.011212982512657343), (4016, 0.024331692133822937), (4017, 0.004312907119091718), (4018, 0.0), (4019, 0.018127838634949385), (4020, 0.02393639540644245), (4021, 0.0), (4022, 0.0), (4023, 0.016514384333239922), (4024, 0.0034321722999326922), (4025, 0.03615388383827877), (4026, 0.0), (4027, 0.0), (4028, 0.0), (4029, 0.010206469199737426), (4030, 0.0037200127720286033), (4031, 0.012631787823993419), (4032, 0.0037085541731947413), (4033, 0.012706488182490844), (4034, 0.0), (4035, 0.014239317004624115), (4036, 0.0031054233019164137), (4037, 0.0), (4038, 0.0033978021994761085), (4039, 0.0), (4040, 0.013943688096607875), (4041, 0.0), (4042, 0.039386472318501), (4043, 0.015208007978763873), (4044, 0.0), (4045, 0.020782652415867763), (4046, 0.003484206645835144), (4047, 0.013657880379395733), (4048, 0.01318547160972433), (4049, 0.0032255667833669876), (4050, 0.0), (4051, 0.015601257522714986), (4052, 0.0261998653509678), (4053, 0.030952877561219803), (4054, 0.0033700440714313717), (4055, 0.0), (4056, 0.016731509624746448), (4057, 0.0), (4058, 0.0), (4059, 0.023182607578630533), (4060, 0.028225170135243432), (4061, 0.0), (4062, 0.003849501169546469), (4063, 0.0), (4064, 0.0), (4065, 0.0), (4066, 0.002791099463378101), (4067, 0.015295319468060288), (4068, 0.012236234478182865), (4069, 0.03322580154230044), (4070, 0.010807778308727744), (4071, 0.010224182480038785), (4072, 0.0), (4073, 0.021508616647822484), (4074, 0.0028601897980492647), (4075, 0.003708484842108629), (4076, 0.0), (4077, 0.0), (4078, 0.02265302259373774), (4079, 0.0032946998163721378), (4080, 0.002849695501605295), (4081, 0.014061424948535422), (4082, 0.004489817105417472), (4083, 0.014191330133136832), (4084, 0.0), (4085, 0.0030249646861670258), (4086, 0.0), (4087, 0.06312321460854686), (4088, 0.05016709283662639), (4089, 0.014560481317414902), (4090, 0.0), (4091, 0.022431616881334226), (4092, 0.015382762549254251), (4093, 0.009069416900985722), (4094, 0.021082482702562674), (4095, 0.010221568853165835), (4096, 0.00768115042520684), (4097, 0.011833456115283573), (4098, 0.003257833590220102), (4099, 0.0), (4100, 0.0), (4101, 0.08612440929193746), (4102, 0.004035390814854551), (4103, 0.04936046172920728), (4104, 0.041937899848609725), (4105, 0.009952075904913867), (4106, 0.0), (4107, 0.01726731979843852), (4108, 0.012091193300510904), (4109, 0.0), (4110, 0.0), (4111, 0.003402363707409568), (4112, 0.0), (4113, 0.015097951106584599), (4114, 0.00937820858396688), (4115, 0.02863292718178937), (4116, 0.056778557564232564), (4117, 0.01596306775558567), (4118, 0.009561070947209715), (4119, 0.034265728743031645), (4120, 0.0), (4121, 0.021929587542902813), (4122, 0.011011140897231124), (4123, 0.012717338011556742), (4124, 0.011396685679886298), (4125, 0.0), (4126, 0.003698326915779045), (4127, 0.048596266279523896), (4128, 0.0), (4129, 0.003076310275060511), (4130, 0.014857147159535728), (4131, 0.0), (4132, 0.0034210158373653267), (4133, 0.03309216247823268), (4134, 0.0), (4135, 0.003223316647714362), (4136, 0.02457790136991197), (4137, 0.0032074093233896463), (4138, 0.047484981133268614), (4139, 0.003069083317566936), (4140, 0.01485202352851417), (4141, 0.030809243916479472), (4142, 0.004063387074089331), (4143, 0.047022043760414405), (4144, 0.0), (4145, 0.01642668252771869), (4146, 0.0), (4147, 0.003869915058792875), (4148, 0.008831473496322718), (4149, 0.0), (4150, 0.035440106748435694), (4151, 0.005460646930079348), (4152, 0.013341893545694804), (4153, 0.037843376426760326), (4154, 0.015200947350204394), (4155, 0.013359538929617996), (4156, 0.0027859725726164576), (4157, 0.0), (4158, 0.009278168509069514), (4159, 0.0), (4160, 0.003563403373361104), (4161, 0.0034191541746500633), (4162, 0.0), (4163, 0.003684793831507293), (4164, 0.017965379325098795), (4165, 0.02700262826091611), (4166, 0.0), (4167, 0.0), (4168, 0.034833611877368956), (4169, 0.0033855008170292663), (4170, 0.0), (4171, 0.0022461861808012614), (4172, 0.0042016801054898505), (4173, 0.0), (4174, 0.039430668859442505), (4175, 0.036628616076077244), (4176, 0.0029224313014151733), (4177, 0.0), (4178, 0.012646859739978557), (4179, 0.0), (4180, 0.011419069588866581), (4181, 0.03441389976814255), (4182, 0.017899816506457576), (4183, 0.013183967774357559), (4184, 0.04025056973980057), (4185, 0.0), (4186, 0.009533694158872631), (4187, 0.013666332947249907), (4188, 0.010736600898398925), (4189, 0.06684600453544759), (4190, 0.0), (4191, 0.0), (4192, 0.024875740774557033), (4193, 0.0), (4194, 0.05103906068644543), (4195, 0.0), (4196, 0.0), (4197, 0.003240037028702946), (4198, 0.014268251707362184), (4199, 0.01340530717345095), (4200, 0.07907751576017483), (4201, 0.03656368484963399), (4202, 0.004444082458817051), (4203, 0.013961225418439489), (4204, 0.0), (4205, 0.00283880079475134), (4206, 0.013283209526275304), (4207, 0.0), (4208, 0.0), (4209, 0.02891073601607201), (4210, 0.0), (4211, 0.0), (4212, 0.0), (4213, 0.037090652613412683), (4214, 0.0), (4215, 0.0), (4216, 0.008568283508064517), (4217, 0.03830729925085903), (4218, 0.0), (4219, 0.017540304337408576), (4220, 0.012336371074991527), (4221, 0.004249299905641994), (4222, 0.018754584337392983), (4223, 0.01656320609691322), (4224, 0.010185530987976494), (4225, 0.10256964838245658), (4226, 0.011813313090122471), (4227, 0.009787555567273367), (4228, 0.05114833986320165), (4229, 0.0), (4230, 0.004072295336696891), (4231, 0.012848164115870378), (4232, 0.010470926954333248), (4233, 0.009390668954107579), (4234, 0.0), (4235, 0.0081236624031769), (4236, 0.0), (4237, 0.0), (4238, 0.0), (4239, 0.014928834545136159), (4240, 0.022286215437009236), (4241, 0.0), (4242, 0.025977760818908492), (4243, 0.0036181734763518648), (4244, 0.01379830613059437), (4245, 0.00341473316134458), (4246, 0.0197987619433686), (4247, 0.020736678193641906), (4248, 0.010353164649361238), (4249, 0.003279277222560005), (4250, 0.0), (4251, 0.0), (4252, 0.0), (4253, 0.0), (4254, 0.0029842158848104256), (4255, 0.04531936905575769), (4256, 0.0), (4257, 0.050535787202723045), (4258, 0.03903707131489075), (4259, 0.003530287758813977), (4260, 0.0), (4261, 0.006577992022097289), (4262, 0.0032996255186752647), (4263, 0.014971546064247228), (4264, 0.013445598156274892), (4265, 0.020405329313630163), (4266, 0.048084448679997685), (4267, 0.0036494752322860295), (4268, 0.036346977326575144), (4269, 0.037799531558387556), (4270, 0.0), (4271, 0.016883016388116304), (4272, 0.0), (4273, 0.0032523352136162266), (4274, 0.0), (4275, 0.014146908292058086), (4276, 0.0), (4277, 0.002911122604069913), (4278, 0.010326036274523482), (4279, 0.0), (4280, 0.0037666421649940243), (4281, 0.0), (4282, 0.0029255914209194746), (4283, 0.0032397167117203074), (4284, 0.01650591695110375), (4285, 0.0), (4286, 0.014784905578377847), (4287, 0.003283514670546382), (4288, 0.015487443649893413), (4289, 0.009436663460513021), (4290, 0.009752790608119961), (4291, 0.0), (4292, 0.03208987948099575), (4293, 0.01344008507133961), (4294, 0.0), (4295, 0.003628704869808131), (4296, 0.002768379352290995), (4297, 0.0), (4298, 0.0038991064061788855), (4299, 0.016422226570922058), (4300, 0.0), (4301, 0.0023580028438250256), (4302, 0.0), (4303, 0.010376428323650821), (4304, 0.0028524929234016875), (4305, 0.018965401570884024), (4306, 0.003929322696760906), (4307, 0.0), (4308, 0.003485386777010365), (4309, 0.003102053143220652), (4310, 0.0), (4311, 0.0025821457171481097), (4312, 0.011609583841803627), (4313, 0.0), (4314, 0.0), (4315, 0.0), (4316, 0.0), (4317, 0.0), (4318, 0.0033584051390499175), (4319, 0.011106591112286202), (4320, 0.003170165260224293), (4321, 0.012941205308815044), (4322, 0.019429788968039326), (4323, 0.011381965243037463), (4324, 0.0), (4325, 0.01824640160030396), (4326, 0.035761698327221356), (4327, 0.010530869546789048), (4328, 0.012746239857750455), (4329, 0.022658631243917055), (4330, 0.013600657224552693), (4331, 0.0), (4332, 0.0), (4333, 0.003576307798955057), (4334, 0.003284874985502943), (4335, 0.05387450220269433), (4336, 0.0030699032212523113), (4337, 0.0), (4338, 0.02967712117576063), (4339, 0.018648422787129176), (4340, 0.0032871074003750188), (4341, 0.0), (4342, 0.0), (4343, 0.002811202579989601), (4344, 0.002716804336234636), (4345, 0.013264469935094586), (4346, 0.0), (4347, 0.0), (4348, 0.0029227787572071056), (4349, 0.0031251963899392127), (4350, 0.002864682357244195), (4351, 0.0), (4352, 0.0), (4353, 0.0), (4354, 0.003324774490491652), (4355, 0.02513477606922632), (4356, 0.021941944925359877), (4357, 0.0033878732882337954), (4358, 0.0), (4359, 0.012766997807068354), (4360, 0.03374069383177171), (4361, 0.003306625460553008), (4362, 0.0031119831476533705), (4363, 0.01761902587155383), (4364, 0.0), (4365, 0.012017854461477614), (4366, 0.026328124752839587), (4367, 0.0), (4368, 0.003576944996172912), (4369, 0.01608832924122604), (4370, 0.0), (4371, 0.0034081925752093827), (4372, 0.0), (4373, 0.0), (4374, 0.03081174382429589), (4375, 0.03298127967060441), (4376, 0.03160829665032561), (4377, 0.014002350978011141), (4378, 0.0), (4379, 0.02661581086739849), (4380, 0.05270709608376421), (4381, 0.003081176192419993), (4382, 0.003073242731495147), (4383, 0.021330124150172533), (4384, 0.0), (4385, 0.0), (4386, 0.00274109190971235), (4387, 0.01174418730214976), (4388, 0.0), (4389, 0.0), (4390, 0.009213308799908698), (4391, 0.01413222686443746), (4392, 0.0), (4393, 0.0), (4394, 0.024246291620455072), (4395, 0.022952577913486854), (4396, 0.07077012619370146), (4397, 0.00353714489495762), (4398, 0.0036725253601143665), (4399, 0.04048680749358752), (4400, 0.004051537216384767), (4401, 0.015623915490303047), (4402, 0.002938816416038464), (4403, 0.06028766962828906), (4404, 0.06682081416889007), (4405, 0.0), (4406, 0.011429730223836714), (4407, 0.004157215070893773), (4408, 0.0), (4409, 0.0031594352208930863), (4410, 0.0), (4411, 0.0027228005115997236), (4412, 0.003723038788595611), (4413, 0.0), (4414, 0.007893172812152535), (4415, 0.0), (4416, 0.04802447667652207), (4417, 0.0), (4418, 0.004174160806098), (4419, 0.0033133154557573367), (4420, 0.017738421139403656), (4421, 0.0), (4422, 0.014451057809045867), (4423, 0.031131663324401673), (4424, 0.0), (4425, 0.0), (4426, 0.0), (4427, 0.0031746695123795864), (4428, 0.012907329114440605), (4429, 0.002759532972098069), (4430, 0.0033275884973452), (4431, 0.01495507023198886), (4432, 0.020650555102469943), (4433, 0.0), (4434, 0.0), (4435, 0.01210186347706914), (4436, 0.031574367639383136), (4437, 0.039700004966952106), (4438, 0.0), (4439, 0.0), (4440, 0.02465771467652933), (4441, 0.0292862956627766), (4442, 0.06464057233470631), (4443, 0.0038934100425965577), (4444, 0.004163315069835961), (4445, 0.002385932709464885), (4446, 0.104376594112112), (4447, 0.014847085023394343), (4448, 0.014604014272934979), (4449, 0.0), (4450, 0.025956438680171764), (4451, 0.0), (4452, 0.0), (4453, 0.0), (4454, 0.0), (4455, 0.0), (4456, 0.0), (4457, 0.04841503662334471), (4458, 0.0037905406945506386), (4459, 0.0), (4460, 0.044957662966539275), (4461, 0.003059651103533126), (4462, 0.0), (4463, 0.022660527666033426), (4464, 0.030590993796872707), (4465, 0.02396507824341368), (4466, 0.0), (4467, 0.0), (4468, 0.035649466207744736), (4469, 0.015048708899487239), (4470, 0.025191323311261497), (4471, 0.003370308460465762), (4472, 0.022806484470280986), (4473, 0.0027680365730791204), (4474, 0.024059413133240073), (4475, 0.010830911768004488), (4476, 0.002719622728994102), (4477, 0.014071307561036412), (4478, 0.0), (4479, 0.0029271978400747735), (4480, 0.0), (4481, 0.008471146818757677), (4482, 0.020248046985014537), (4483, 0.012890256674787638), (4484, 0.018123419504235495), (4485, 0.0), (4486, 0.0742294953835555), (4487, 0.0031312352549578287), (4488, 0.0), (4489, 0.01784173856339625), (4490, 0.003769146301366653), (4491, 0.011757593810240701), (4492, 0.011187942626304995), (4493, 0.0), (4494, 0.019004411002744033), (4495, 0.003404247074172382), (4496, 0.041008856258760586), (4497, 0.003327462524247721), (4498, 0.0), (4499, 0.0), (4500, 0.0), (4501, 0.003211006974663767), (4502, 0.02346209887206144), (4503, 0.046496822848762116), (4504, 0.0030674757962023333), (4505, 0.003364154487060015), (4506, 0.0), (4507, 0.003650561357026377), (4508, 0.0), (4509, 0.03925954821567319), (4510, 0.00941055110244766), (4511, 0.0031611095963280287), (4512, 0.022042020094859453), (4513, 0.017583157818380487), (4514, 0.0), (4515, 0.012024325288951605), (4516, 0.003644484164259281), (4517, 0.023735976696195656), (4518, 0.0), (4519, 0.0), (4520, 0.0031462498702610857), (4521, 0.01745465947226289), (4522, 0.003463562473846182), (4523, 0.0030403250958951984), (4524, 0.043533677773110735), (4525, 0.0), (4526, 0.0), (4527, 0.0), (4528, 0.003451567355078169), (4529, 0.004261366133669034), (4530, 0.0031082933487149235), (4531, 0.10239887611650599), (4532, 0.0), (4533, 0.0032527511359068495), (4534, 0.0), (4535, 0.015651897522322294), (4536, 0.016072013566242126), (4537, 0.0), (4538, 0.0), (4539, 0.0), (4540, 0.0034150137594732947), (4541, 0.0), (4542, 0.010683448363677397), (4543, 0.008539912376950058), (4544, 0.0039647970600701805), (4545, 0.037712020230229557), (4546, 0.004108201617599745), (4547, 0.0), (4548, 0.0), (4549, 0.011553539423495775), (4550, 0.003081108806892004), (4551, 0.028429373733314056), (4552, 0.0), (4553, 0.0256034572404479), (4554, 0.04291609209671768), (4555, 0.03804896668278476), (4556, 0.0), (4557, 0.023877983095373482), (4558, 0.01788747118636563), (4559, 0.04116947721270059), (4560, 0.02346787977759718), (4561, 0.0), (4562, 0.0), (4563, 0.003259051203218437), (4564, 0.0), (4565, 0.03013168967906648), (4566, 0.06332796184268366), (4567, 0.003037569074413855), (4568, 0.0), (4569, 0.0), (4570, 0.0), (4571, 0.022220936648672612), (4572, 0.0039006276609200473), (4573, 0.003081033481855573), (4574, 0.014554397891739188), (4575, 0.003362794853200694), (4576, 0.0030869604020165075), (4577, 0.009562696997273488), (4578, 0.0), (4579, 0.0034257422370158044), (4580, 0.0), (4581, 0.008948749249317258), (4582, 0.0), (4583, 0.0), (4584, 0.0037364797434150145), (4585, 0.0), (4586, 0.011251953900022591), (4587, 0.010298747722790866), (4588, 0.0), (4589, 0.015910132893533102), (4590, 0.021847776448589457), (4591, 0.002955932612675791), (4592, 0.0), (4593, 0.041406864787515735), (4594, 0.0277897371995171), (4595, 0.02209027957689309), (4596, 0.0), (4597, 0.0), (4598, 0.0024934194618256226), (4599, 0.023893128192837468), (4600, 0.0), (4601, 0.025823878833188044), (4602, 0.02588567015087203), (4603, 0.0029646570420196337), (4604, 0.0031954038724613287), (4605, 0.0742332746280402), (4606, 0.004023639499541031), (4607, 0.03426006810405086), (4608, 0.012062554481277686), (4609, 0.0), (4610, 0.010108475630765754), (4611, 0.004236318927285899), (4612, 0.016922096675853104), (4613, 0.02161157802098171), (4614, 0.016068393274612885), (4615, 0.029232595932867776), (4616, 0.002935910629368148), (4617, 0.01647295654857822), (4618, 0.0), (4619, 0.013289006752238444), (4620, 0.031429915873272846), (4621, 0.02305982771971105), (4622, 0.0), (4623, 0.008834151409516947), (4624, 0.025585026317733475), (4625, 0.003300005053565876), (4626, 0.002569578205118335), (4627, 0.0027271343672351156), (4628, 0.0), (4629, 0.0033155067761580677), (4630, 0.0), (4631, 0.0), (4632, 0.0037469624702402243), (4633, 0.027727279239979648), (4634, 0.0029656457282568483), (4635, 0.0), (4636, 0.002680204573152547), (4637, 0.030482075900631282), (4638, 0.002899192320303721), (4639, 0.03651898318024364), (4640, 0.014009887979243784), (4641, 0.003104755162327675), (4642, 0.01610185761640865), (4643, 0.02513371054235823), (4644, 0.0), (4645, 0.0), (4646, 0.026029163225682515), (4647, 0.0), (4648, 0.0), (4649, 0.0029187666782727537), (4650, 0.028158815374880988), (4651, 0.0), (4652, 0.01803358192623601), (4653, 0.0), (4654, 0.0), (4655, 0.05524508007854026), (4656, 0.03157468061669027), (4657, 0.014619388676443058), (4658, 0.021591922579722207), (4659, 0.033269060905909205), (4660, 0.029093371140648177), (4661, 0.012395648798027115), (4662, 0.021600615751436552), (4663, 0.023033878418371324), (4664, 0.06241243878727744), (4665, 0.0), (4666, 0.028776872446833586), (4667, 0.0), (4668, 0.016575723951915616), (4669, 0.02488691957060319), (4670, 0.0030444416766149023), (4671, 0.0), (4672, 0.0), (4673, 0.02175282667760319), (4674, 0.01894937641753007), (4675, 0.04894810338781806), (4676, 0.0), (4677, 0.06339899994133265), (4678, 0.03759144725076092), (4679, 0.0370400019100866), (4680, 0.014951644270580863), (4681, 0.0), (4682, 0.0), (4683, 0.0), (4684, 0.009047804685799144), (4685, 0.003120318093595902), (4686, 0.0031976130416654825), (4687, 0.003107670370722272), (4688, 0.0), (4689, 0.0), (4690, 0.010133690655450386), (4691, 0.018481183158839613), (4692, 0.01745587068359939), (4693, 0.003087248626604944), (4694, 0.003734336121713308), (4695, 0.0), (4696, 0.056613101177363706), (4697, 0.0), (4698, 0.0), (4699, 0.01898042407471745), (4700, 0.0), (4701, 0.05725962652538623), (4702, 0.0333810907416457), (4703, 0.011581525296409587), (4704, 0.004341860834049313), (4705, 0.034934458090665844), (4706, 0.0035309877935981995), (4707, 0.009930413879180245), (4708, 0.0), (4709, 0.026739152094654894), (4710, 0.01718196614024711), (4711, 0.0), (4712, 0.0028630778707655455), (4713, 0.003679173339823751), (4714, 0.0), (4715, 0.0031864360467133224), (4716, 0.011199293379964087), (4717, 0.0037528087452513583), (4718, 0.003564494488525012), (4719, 0.006155539228449344), (4720, 0.0), (4721, 0.016981456905777115), (4722, 0.08909596662013106), (4723, 0.0038859262997003007), (4724, 0.014847210041418339), (4725, 0.0), (4726, 0.0), (4727, 0.009524596993906247), (4728, 0.010923328457345597), (4729, 0.0030528643466070098), (4730, 0.0), (4731, 0.058617253147089696), (4732, 0.0034665242405280193), (4733, 0.0026518805391626253), (4734, 0.0034346935286686774), (4735, 0.014252524887787056), (4736, 0.020402588037488213), (4737, 0.04062376081211952), (4738, 0.0), (4739, 0.024561058635103404), (4740, 0.0), (4741, 0.0), (4742, 0.02359781878106368), (4743, 0.019068661886841875), (4744, 0.020465552306022386), (4745, 0.0), (4746, 0.0), (4747, 0.04613491499906011), (4748, 0.0027525666039857895), (4749, 0.004265306795945141), (4750, 0.0), (4751, 0.0), (4752, 0.009736812106315669), (4753, 0.027861661956987322), (4754, 0.0), (4755, 0.010871346314939398), (4756, 0.0032988904269191776), (4757, 0.026511699642868942), (4758, 0.0), (4759, 0.0)]\n"
          ]
        }
      ]
    },
    {
      "cell_type": "code",
      "source": [
        "len(Recommendation_Score)"
      ],
      "metadata": {
        "colab": {
          "base_uri": "https://localhost:8080/"
        },
        "id": "2BN3ZVHGVcUO",
        "outputId": "fbcff7b1-91ad-4846-9ec8-364edce75b2c"
      },
      "execution_count": 29,
      "outputs": [
        {
          "output_type": "execute_result",
          "data": {
            "text/plain": [
              "4760"
            ]
          },
          "metadata": {},
          "execution_count": 29
        }
      ]
    },
    {
      "cell_type": "markdown",
      "source": [
        "**Get ALL Movies sort based on Recommendation Score wrt Favourite Movie**"
      ],
      "metadata": {
        "id": "QmlextV-V37-"
      }
    },
    {
      "cell_type": "code",
      "source": [
        "sorted_Similar_Score = sorted(Recommendation_Score, key = lambda x:x[1], reverse = True)\n",
        "print(sorted_Similar_Score)"
      ],
      "metadata": {
        "colab": {
          "base_uri": "https://localhost:8080/"
        },
        "id": "W1FR47i9Wc2D",
        "outputId": "ff3be275-171e-4879-f291-3bfb7ac5e9e7"
      },
      "execution_count": 31,
      "outputs": [
        {
          "output_type": "stream",
          "name": "stdout",
          "text": [
            "[(2097, 1.0), (1865, 0.20270287921408287), (2635, 0.17535182728271942), (1958, 0.16646142649882523), (1796, 0.15522383361160902), (145, 0.14934000368453973), (1191, 0.14797610492953372), (112, 0.12829561060079597), (48, 0.12562751557836116), (3616, 0.12150704853658896), (1275, 0.12046897077771979), (1344, 0.12019319059100211), (523, 0.11969350039134714), (1716, 0.11852236260819327), (676, 0.11681739309779389), (1121, 0.11522741033561375), (801, 0.11479747119699674), (1885, 0.11194373310380708), (3766, 0.11162098978725463), (3730, 0.11146993404445854), (1334, 0.11009192688725009), (360, 0.1091972920142074), (2606, 0.10897825069507312), (1325, 0.10888192879808192), (1698, 0.10862174717182904), (1141, 0.10758719460961029), (228, 0.10705121690923244), (3466, 0.1054303336423417), (4446, 0.104376594112112), (2123, 0.10426754603229313), (1356, 0.10306435596840954), (2572, 0.10283430550317768), (580, 0.10280108030463891), (4225, 0.10256964838245658), (4531, 0.10239887611650599), (2486, 0.10233789929981138), (109, 0.10215574445006907), (3483, 0.10084210758565665), (1527, 0.0999872310835529), (115, 0.09963256048578492), (1829, 0.09826442735410622), (2621, 0.09761348115510798), (111, 0.09662404578525327), (3449, 0.09626237878632639), (345, 0.09556636023343222), (1069, 0.09440354260655007), (3638, 0.0941759670196528), (1960, 0.09381660985945682), (908, 0.09376526125929403), (2477, 0.09314547514560656), (137, 0.09309413890399382), (1574, 0.09243808333924261), (3108, 0.0919373492620392), (371, 0.09188736286373618), (2698, 0.09105157946019038), (596, 0.0909263562944533), (2668, 0.09073772556014294), (2250, 0.09027575573459684), (440, 0.09018806993929578), (1184, 0.09009917393691885), (4722, 0.08909596662013106), (2799, 0.08889476528848142), (2224, 0.08881775778271997), (2904, 0.08874463195154644), (3506, 0.08816045285733579), (594, 0.08733540053642383), (1355, 0.0867718027268046), (4101, 0.08612440929193746), (589, 0.0858212728790857), (1236, 0.08570490022023083), (236, 0.08514677179302858), (2953, 0.08451298108542854), (1948, 0.08441060222315522), (2161, 0.08417332482304608), (780, 0.08375950746340599), (815, 0.08349855159946723), (2254, 0.08321183957792921), (1973, 0.08296117853616691), (622, 0.08239680154094386), (3586, 0.08231509698018394), (3440, 0.08219628646531901), (2944, 0.08219062094765694), (3781, 0.08112321238268097), (1501, 0.08038983903070959), (274, 0.08030505166850022), (1115, 0.07977985220504), (988, 0.0791281086252726), (4200, 0.07907751576017483), (3182, 0.07854114166877788), (560, 0.07852676789912012), (1224, 0.07822955865504685), (1918, 0.07822882807218784), (2427, 0.07798715729812725), (701, 0.07776548591112925), (1985, 0.07763135376016524), (2902, 0.07741101170687502), (2253, 0.07622351186754675), (1101, 0.07599594157515556), (1266, 0.07587977913932045), (3712, 0.07576321547746054), (1895, 0.07561103528452667), (1351, 0.07503404950026885), (4605, 0.0742332746280402), (4486, 0.0742294953835555), (752, 0.0736219476003075), (1288, 0.07361367754149675), (660, 0.0732362481756716), (2024, 0.07278261130935185), (3293, 0.07193895841614845), (2853, 0.07151932672413716), (1956, 0.07147322294967037), (322, 0.0712514003045028), (89, 0.07085648863054778), (3516, 0.07082356501840668), (4396, 0.07077012619370146), (3905, 0.07061919354427962), (984, 0.0704470008226494), (971, 0.07021949155292803), (369, 0.07007532601462049), (2565, 0.0698426602440012), (3435, 0.06951728315638349), (253, 0.06915799678170709), (3973, 0.06910655421870125), (2825, 0.06893796363898266), (2040, 0.06758642103730583), (683, 0.06731806188308513), (1997, 0.0670790771552976), (3656, 0.06702408858996095), (4189, 0.06684600453544759), (4404, 0.06682081416889007), (531, 0.0667905853461651), (3550, 0.06552423113845643), (2112, 0.0653957131415922), (1707, 0.06533275549669124), (981, 0.06498866948858419), (431, 0.0649022226900785), (4442, 0.06464057233470631), (653, 0.06437273511190186), (994, 0.06431720630256024), (2235, 0.06426951363550207), (1084, 0.06391584057785299), (448, 0.06352210792492972), (4677, 0.06339899994133265), (1435, 0.06332806148725417), (4566, 0.06332796184268366), (226, 0.06324626957311841), (4087, 0.06312321460854686), (1421, 0.06277880920304646), (2308, 0.06266919288754758), (3388, 0.06260679537578426), (3911, 0.06250734972423334), (4664, 0.06241243878727744), (1364, 0.06237830677971966), (2490, 0.062284081190637205), (283, 0.06208489500964197), (1858, 0.061914436322085736), (472, 0.06184639032426047), (2290, 0.06168705873413734), (118, 0.061642586219690765), (389, 0.06138577827948574), (455, 0.061374051596292986), (59, 0.06135150714549766), (1314, 0.06115969178036729), (980, 0.06045436567701591), (1518, 0.060393490201607794), (4403, 0.06028766962828906), (2316, 0.06005985420877336), (1705, 0.060043836237764346), (1197, 0.0600211599703807), (3965, 0.05996096883517085), (139, 0.05928825699880865), (40, 0.05927638497480942), (214, 0.05906298976412028), (802, 0.059060540286501866), (3245, 0.05894318683969553), (680, 0.05877230731644603), (4731, 0.058617253147089696), (1313, 0.05852705535905418), (2053, 0.05824071062840647), (1911, 0.058182004673358004), (1719, 0.05814171363088835), (955, 0.057931194472094834), (3978, 0.05777506729746015), (461, 0.057467428677215736), (1007, 0.0573151751127883), (50, 0.05727707244228991), (4701, 0.05725962652538623), (1138, 0.05713760121077131), (565, 0.05689742585429278), (3915, 0.05681875268750476), (2359, 0.056812732783001224), (4116, 0.056778557564232564), (654, 0.0566309116725313), (4696, 0.056613101177363706), (3714, 0.056588933584213186), (1511, 0.056549097119103144), (249, 0.05649892757998259), (673, 0.05642486218517916), (3465, 0.056357452969605794), (1388, 0.056316142235904795), (753, 0.056253601796999224), (3120, 0.05614065643686478), (1385, 0.05609134631885665), (1736, 0.056082430422519196), (3854, 0.05607534855244228), (2321, 0.05602124881000956), (1507, 0.055999423696110134), (1267, 0.05596749219953864), (588, 0.05569965791020473), (1802, 0.05563807114907575), (1301, 0.055588921683162255), (2575, 0.05556835535223557), (3404, 0.055549503212555154), (1432, 0.05545083697738121), (24, 0.0554102103604163), (1017, 0.05531480666404445), (4655, 0.05524508007854026), (3592, 0.05516137094976127), (889, 0.055133562909852135), (1806, 0.055016529668865485), (3122, 0.0549987120654829), (327, 0.054940353863777144), (1974, 0.05490281162176044), (65, 0.05485369091715061), (3913, 0.054832301205308125), (281, 0.05477997403208574), (2919, 0.05462209169610947), (3373, 0.05461608379784), (121, 0.05458792119027425), (3206, 0.05426290788608426), (1439, 0.054207742418605376), (1150, 0.05401192460328044), (915, 0.05395558020179665), (4335, 0.05387450220269433), (3030, 0.05372601273007518), (447, 0.05369008095710205), (790, 0.05367958256575308), (3249, 0.053580420549811276), (257, 0.05347251983542861), (1335, 0.05340093906211428), (1401, 0.053291161987559274), (816, 0.05318926273626551), (3232, 0.05316621734459644), (1061, 0.05306419961651042), (190, 0.053011599728815265), (1498, 0.05297742448482517), (3487, 0.05291278843311117), (415, 0.05289244911241745), (2060, 0.05271399357015305), (4380, 0.05270709608376421), (2005, 0.05264592355174601), (685, 0.052641707914658366), (278, 0.05260052373204614), (167, 0.052575947166192245), (1890, 0.052499229752908314), (867, 0.052484965521483504), (553, 0.05242681420603024), (3578, 0.05241579225381905), (2638, 0.05238305805453154), (3022, 0.052244825135689864), (896, 0.052170012685024206), (3416, 0.052140695975655404), (380, 0.05205796142192816), (2670, 0.0520140197242078), (3358, 0.052009276727205817), (1338, 0.05200445397659088), (3631, 0.05183713849696056), (885, 0.05182274780285307), (2178, 0.051779184403608125), (273, 0.05172847580552954), (479, 0.05164502497202422), (2212, 0.05159398864435008), (368, 0.0515770251630549), (2814, 0.05154698432207919), (3281, 0.05151566333371423), (1194, 0.05149834188462675), (818, 0.05141388775059992), (1967, 0.05136601629281267), (2730, 0.051156413600442076), (4228, 0.05114833986320165), (4194, 0.05103906068644543), (1751, 0.05066504394124405), (516, 0.050652745999443624), (4257, 0.050535787202723045), (3620, 0.05052191454016554), (3200, 0.05048832342267125), (3696, 0.05044757395292816), (245, 0.05039748921187198), (1106, 0.05036409000598491), (4088, 0.05016709283662639), (2375, 0.05016279147012978), (1365, 0.05015465734830886), (643, 0.0501045765912488), (429, 0.05004964172924764), (1805, 0.049748229371369634), (471, 0.0497322511310564), (2291, 0.049711481169982336), (1585, 0.049658737383425876), (962, 0.049602198177192545), (2414, 0.049526594904972514), (2119, 0.04948181932659186), (736, 0.049462272287818264), (2126, 0.04937014331644943), (4103, 0.04936046172920728), (1671, 0.04929889968700015), (3078, 0.049230509264801575), (83, 0.04917587130922847), (3711, 0.04914508774656923), (3043, 0.04897799705334256), (4675, 0.04894810338781806), (2019, 0.04879583138317074), (168, 0.048682530983191585), (870, 0.048644117114206874), (4127, 0.048596266279523896), (2044, 0.048548999478111365), (2039, 0.04849533953913751), (251, 0.048442069410729836), (2809, 0.0484379841764474), (4457, 0.04841503662334471), (1023, 0.04815500414147401), (2845, 0.04814771483525561), (52, 0.048147663659724824), (4266, 0.048084448679997685), (1002, 0.0480826305785914), (3767, 0.04805306395458823), (4416, 0.04802447667652207), (3267, 0.04797694388699898), (513, 0.04780504438120286), (3332, 0.04777112072142903), (791, 0.04772233594580625), (404, 0.047680986886511297), (748, 0.04760729354779901), (4138, 0.047484981133268614), (2071, 0.047297730867462986), (2159, 0.047239494468852894), (1271, 0.04707239861212241), (4143, 0.047022043760414405), (1732, 0.04700167002286122), (1840, 0.04698108666128417), (2038, 0.046964086009409045), (3642, 0.046916351770454334), (3896, 0.04685771888629407), (1510, 0.046764693575521626), (675, 0.046755938962822055), (1429, 0.04675250225321618), (3589, 0.04653920883307311), (4503, 0.046496822848762116), (4747, 0.04613491499906011), (3741, 0.046110710435134164), (795, 0.04608167302120822), (2396, 0.046075746114371846), (2751, 0.04601879482615693), (1400, 0.04596153012244006), (456, 0.04578399893767297), (227, 0.04578364316417277), (2810, 0.045760012634674274), (42, 0.04571602854718109), (2441, 0.04560907018178643), (2991, 0.045506360303479515), (2588, 0.04550392773308761), (1821, 0.04540110984966164), (719, 0.04537811092405314), (38, 0.045364925698499314), (4255, 0.04531936905575769), (1569, 0.04531310170614654), (851, 0.045296400304805265), (1375, 0.04529088479865013), (1461, 0.045194207512319784), (1040, 0.04518708660198967), (2910, 0.0451086005474067), (4460, 0.044957662966539275), (2411, 0.044907366001466456), (1086, 0.04486585341392977), (1710, 0.04481785988851595), (3869, 0.044758279396583715), (1200, 0.044754449201368965), (3878, 0.04469714649336617), (1230, 0.04461989244201666), (1740, 0.044593864737586024), (3902, 0.04457384533689722), (3504, 0.04455623137317592), (1048, 0.044517711347966324), (1949, 0.04450161083355976), (1179, 0.04441678485009315), (85, 0.04435221497005319), (1310, 0.04434487202131029), (72, 0.04426901623139351), (1629, 0.04425684230047726), (2649, 0.04424839263765047), (439, 0.04421230845639321), (2547, 0.04419543359715052), (1855, 0.04415354575370615), (1717, 0.04412038588527428), (1249, 0.04407719503836048), (2303, 0.043857261505921966), (3460, 0.04381875753561343), (1064, 0.0437405197132648), (758, 0.04365943592861386), (3210, 0.04364114350747127), (1793, 0.04358434703952931), (1681, 0.04358122937561675), (501, 0.043576755899383084), (356, 0.04355378563513333), (4524, 0.043533677773110735), (3070, 0.04334875790792127), (2984, 0.0433393321877914), (1410, 0.04329774144546529), (923, 0.04315677942758821), (1238, 0.043028040630269895), (194, 0.04302723672191369), (2102, 0.043022951744261295), (3277, 0.04299188694428838), (4554, 0.04291609209671768), (4000, 0.04291455450964633), (2645, 0.04285588617049066), (1372, 0.042832562087507284), (1300, 0.042732819868341265), (3996, 0.04271832973065589), (1845, 0.04267534956306369), (1924, 0.042541634191740604), (1178, 0.04253981086187831), (2241, 0.042458095132257366), (740, 0.04243399461723887), (3771, 0.04224857559991423), (192, 0.04218789704919068), (3271, 0.04214615051708812), (3828, 0.04211481444388734), (2931, 0.04207956025716496), (2913, 0.04207256383001348), (156, 0.04205765905080988), (1722, 0.042019410126172996), (2795, 0.0420094069519885), (692, 0.04194236701934225), (4104, 0.041937899848609725), (789, 0.04191815013884455), (1883, 0.04191553739527686), (3456, 0.0418285060009082), (1185, 0.04182166491095331), (3851, 0.041768390993749245), (2772, 0.041744339713944326), (436, 0.04166230449972288), (2221, 0.041628362111700776), (1406, 0.041466327363659905), (1124, 0.04142655039603335), (4593, 0.041406864787515735), (774, 0.041402546898839654), (1237, 0.04139928649751193), (3426, 0.041371552862435323), (1047, 0.04135870288733428), (129, 0.04134272363028223), (272, 0.04123237920694653), (4559, 0.04116947721270059), (367, 0.04116301985267045), (1677, 0.0411551397543061), (2131, 0.0411537248143109), (494, 0.041115716246509615), (1703, 0.04103350602082061), (1782, 0.04101953299208103), (4496, 0.041008856258760586), (307, 0.04089862274596202), (3129, 0.04088358594973003), (2276, 0.040881849839877776), (878, 0.04086455884220264), (1168, 0.04083792077226732), (2926, 0.040793252034105915), (1940, 0.0407897498225647), (743, 0.04075324742745341), (890, 0.040680899070807276), (1045, 0.04066916611681445), (572, 0.040659219756788205), (4737, 0.04062376081211952), (2912, 0.04056780063078308), (4399, 0.04048680749358752), (1945, 0.04039128575116081), (421, 0.04028249811164491), (374, 0.040253415499345635), (4184, 0.04025056973980057), (1682, 0.040201638457665986), (1053, 0.04012221400301902), (1125, 0.040109448241818405), (279, 0.04010495908788497), (1611, 0.04008182479722641), (1132, 0.040073516042776425), (3699, 0.04005414939244075), (3107, 0.04002580964724599), (3884, 0.04002267849635521), (3574, 0.04000316879904236), (853, 0.03997795241377139), (3400, 0.03992971054425311), (2783, 0.03991167838573603), (1231, 0.03985948124274225), (969, 0.039812932871472154), (1810, 0.03980591335180195), (2446, 0.039789520975124386), (4437, 0.039700004966952106), (1834, 0.03968956499130655), (1831, 0.03950867074262025), (4174, 0.039430668859442505), (2850, 0.03941915147576611), (4042, 0.039386472318501), (3441, 0.03933326287321351), (2225, 0.03929083066007659), (1050, 0.03927680600481011), (4509, 0.03925954821567319), (3364, 0.03925930140414564), (1986, 0.03925835128041649), (1509, 0.039184946830668706), (3783, 0.03916739634050824), (4258, 0.03903707131489075), (3534, 0.03896318749604186), (975, 0.03895395149912062), (3788, 0.03895235707923181), (2023, 0.038916106857630924), (747, 0.03891007287387807), (3154, 0.038819071017685655), (3344, 0.038777964107990844), (1541, 0.03870042891402668), (3992, 0.03855929931818884), (55, 0.038431150676036814), (4217, 0.03830729925085903), (1861, 0.038260978382260044), (3211, 0.038103222751162014), (1431, 0.038086690332988164), (4555, 0.03804896668278476), (577, 0.03804814424980192), (1632, 0.03802709821110302), (3545, 0.038026849914724825), (2385, 0.037971302253995656), (3275, 0.0379384825002837), (1818, 0.03793828182946411), (2422, 0.037863375799132244), (4153, 0.037843376426760326), (4269, 0.037799531558387556), (270, 0.037758355943856146), (2277, 0.037747129349217166), (2374, 0.037738762602612684), (4545, 0.037712020230229557), (3904, 0.03769280064868061), (2311, 0.03766040397984854), (741, 0.03766020056599215), (4678, 0.03759144725076092), (2487, 0.0375113114278862), (2739, 0.03743479114763609), (733, 0.03743424333906773), (724, 0.03736139376995437), (1216, 0.03731908482581274), (806, 0.0372578659019796), (659, 0.037220723463913016), (2037, 0.037175022088358683), (2756, 0.0371138558850985), (4213, 0.037090652613412683), (4679, 0.0370400019100866), (60, 0.036965917074344906), (1180, 0.03694298205406222), (1637, 0.03689853651017508), (864, 0.03687636021948175), (2211, 0.03687518724825249), (3450, 0.03683531785379873), (1374, 0.03680654580949158), (2110, 0.03678032470794026), (2447, 0.03677214988213495), (19, 0.03673888722351705), (1754, 0.036644444738563625), (2968, 0.03663327106549995), (4175, 0.036628616076077244), (2008, 0.03661644644042328), (570, 0.03657738416000438), (4201, 0.03656368484963399), (1149, 0.036563121562861296), (4639, 0.03651898318024364), (511, 0.03646154205830272), (765, 0.03643409124410342), (25, 0.03640361612348495), (2632, 0.036362154080485015), (4268, 0.036346977326575144), (2964, 0.03634096263527211), (170, 0.03632116039445739), (2762, 0.0362768470081211), (2064, 0.03617796844863057), (3654, 0.036177428080437016), (2539, 0.03617428651835712), (4025, 0.03615388383827877), (3644, 0.036136267489011026), (329, 0.036123208968892914), (1039, 0.03605712874161504), (1015, 0.03599668330541369), (20, 0.035980210288131635), (888, 0.035974843052005476), (3264, 0.035909342545270076), (1172, 0.03587149256286119), (2959, 0.03585493980241667), (1294, 0.035774904401847246), (4326, 0.035761698327221356), (1835, 0.03573634625364155), (78, 0.0357347593134356), (3528, 0.0356660748031993), (4468, 0.035649466207744736), (1309, 0.03554155309983456), (2095, 0.0355210777660687), (2229, 0.03547273002478009), (4150, 0.035440106748435694), (884, 0.035382253785878996), (1295, 0.035361595755893434), (2093, 0.03528073089953581), (1199, 0.0352489192724728), (754, 0.03521873977300102), (2210, 0.03513280655305427), (1871, 0.03502689280112699), (4705, 0.034934458090665844), (173, 0.03490041868815071), (3444, 0.03487173807739984), (4168, 0.034833611877368956), (3910, 0.034818061098966034), (1332, 0.034785308089273256), (1539, 0.03478135144220374), (3171, 0.03471499088882486), (123, 0.0347001327520608), (3380, 0.03462568799099624), (2096, 0.03459753814243213), (2524, 0.034589063678266904), (2826, 0.03458273496121722), (862, 0.0345823836170739), (353, 0.034539522660361886), (811, 0.034530108298829756), (904, 0.03446838303788369), (2647, 0.034444373709248646), (1519, 0.03443458367228845), (4181, 0.03441389976814255), (1234, 0.03437233754046541), (1163, 0.03433842614488597), (3384, 0.03432836479743488), (4119, 0.034265728743031645), (4607, 0.03426006810405086), (1526, 0.03423744986319435), (633, 0.03419030514039042), (1091, 0.034179796275231156), (347, 0.03417452928884848), (102, 0.03410915264723567), (1027, 0.03409978358449988), (1877, 0.03402880468224579), (562, 0.03402480568810322), (2246, 0.03399520467153201), (2932, 0.033964434951812256), (1554, 0.03394376434278882), (1265, 0.033932356190365984), (607, 0.03391120892163787), (1815, 0.03389556901993013), (3382, 0.03387027335455087), (105, 0.033831009745222726), (4360, 0.03374069383177171), (3752, 0.03369453598854788), (1046, 0.0336871389214814), (68, 0.03363682778231522), (2694, 0.033628701804738356), (2027, 0.03358159323777303), (3343, 0.03352770134651024), (3515, 0.033518883791973146), (162, 0.03347484656113313), (4702, 0.0333810907416457), (1794, 0.033381056056547835), (84, 0.03334808274056023), (2252, 0.03332930923935292), (3773, 0.03331166338491462), (2817, 0.033290972901833235), (4659, 0.033269060905909205), (4069, 0.03322580154230044), (895, 0.03322348488440049), (3123, 0.03322276002175266), (1414, 0.03322038694041862), (2404, 0.03318590687876822), (432, 0.0331832392971868), (2775, 0.03317082630015235), (1597, 0.03313625559667061), (1408, 0.03312149465386723), (337, 0.03311063317066304), (3056, 0.033102360910169826), (4133, 0.03309216247823268), (1678, 0.03307497926758769), (3222, 0.0330685768741768), (715, 0.03305841856354523), (2022, 0.03303877501371915), (538, 0.033024770499336734), (81, 0.03300951340677452), (4375, 0.03298127967060441), (2080, 0.03295821520473305), (1044, 0.03294437350991368), (332, 0.032928129538268715), (2790, 0.03282614283896361), (1996, 0.032725909316582646), (154, 0.03271129917939656), (1387, 0.03259208814111858), (2367, 0.03255348378110734), (2331, 0.032541857045229744), (1371, 0.0325263599610771), (883, 0.03248626842391793), (2768, 0.032481364712439176), (143, 0.03245000432014292), (1690, 0.03235195021628536), (1219, 0.03234196681561727), (3930, 0.03232225323550278), (434, 0.03227156623392606), (473, 0.032262402582053276), (1128, 0.0322622498493682), (1646, 0.03221261704115357), (1483, 0.032207665677996725), (3453, 0.03220660304339973), (1244, 0.03220369421947307), (1536, 0.032167245284104695), (3830, 0.03214000058348566), (575, 0.03213997598382272), (1774, 0.03210964871044344), (4292, 0.03208987948099575), (1104, 0.032079251663514614), (497, 0.0320688422998104), (1227, 0.03202914032143685), (282, 0.03197762161236336), (846, 0.03196875283715415), (443, 0.031955742381020016), (3219, 0.03193168949760457), (18, 0.03193124318874002), (678, 0.03192141120163069), (2205, 0.03188089495715979), (1436, 0.03187121792465483), (2456, 0.031819967913220996), (2094, 0.03175932504107272), (1530, 0.03170784502582814), (2360, 0.03166385443096926), (4376, 0.03160829665032561), (4656, 0.03157468061669027), (4436, 0.031574367639383136), (1577, 0.03149336464305947), (4620, 0.031429915873272846), (637, 0.03142767611803676), (669, 0.03138677925243704), (1495, 0.031365707609420104), (597, 0.03132649442348941), (2, 0.031302204708425416), (2299, 0.031251635575575795), (3354, 0.031210689991601703), (2671, 0.03120268415446889), (510, 0.03117914925864171), (354, 0.031168588302977845), (4423, 0.031131663324401673), (1908, 0.030993714079579834), (4053, 0.030952877561219803), (938, 0.030902954708855193), (2848, 0.030815608541940438), (3937, 0.030812687209951097), (4374, 0.03081174382429589), (4141, 0.030809243916479472), (3304, 0.03079390228309733), (1620, 0.03073914673228352), (918, 0.030731406248505906), (2338, 0.030725717435584304), (558, 0.030706792461225534), (3518, 0.030686813399025334), (2014, 0.030663293500886736), (3282, 0.030597062640217627), (4464, 0.030590993796872707), (4637, 0.030482075900631282), (1545, 0.030370174854760342), (732, 0.030359030823033987), (3403, 0.030273831753085744), (4565, 0.03013168967906648), (931, 0.0301012549042089), (618, 0.03009763585664372), (463, 0.03008246152451835), (3325, 0.03005581956655091), (2047, 0.030051765539002663), (1608, 0.030018382595347008), (937, 0.03001262529134234), (2662, 0.029946254140209447), (3076, 0.029904524444166723), (93, 0.029902971867636158), (0, 0.029892727213866675), (3021, 0.029890116711602202), (3704, 0.029856503269904813), (1984, 0.02985479300712957), (1218, 0.02978403351563029), (3437, 0.02974083201102794), (4338, 0.02967712117576063), (542, 0.029489863470027508), (1680, 0.029479540838094894), (4441, 0.0292862956627766), (1631, 0.029249979321335544), (2334, 0.02924094553278443), (4615, 0.029232595932867776), (366, 0.02921790712853162), (825, 0.02918017905596333), (2682, 0.029128690357997554), (2979, 0.029094612527517487), (4660, 0.029093371140648177), (1919, 0.029083330488333455), (508, 0.029028270718396657), (949, 0.02902149089689214), (2280, 0.029005964289969995), (568, 0.028956383984855543), (217, 0.02894410580532973), (4209, 0.02891073601607201), (2068, 0.028838609927538075), (482, 0.02883750954658016), (530, 0.028823763106250226), (4666, 0.028776872446833586), (2154, 0.028767946860641994), (3524, 0.028748090025477176), (2263, 0.02874177300257778), (1452, 0.028719119474612864), (2437, 0.02865512081676672), (4115, 0.02863292718178937), (478, 0.02857170687190908), (1630, 0.02854784580531103), (1192, 0.028537181822706703), (3733, 0.028532181052292188), (4551, 0.028429373733314056), (3639, 0.028371209428686924), (3127, 0.028363015325821358), (2269, 0.028358585579062744), (2789, 0.028310559956219904), (3935, 0.02828973310703431), (2996, 0.028270166694727594), (3032, 0.028258183107448702), (569, 0.02824842803857784), (4060, 0.028225170135243432), (4650, 0.028158815374880988), (37, 0.02814409962630985), (1134, 0.028142220197975982), (1438, 0.028134920911068305), (138, 0.02811503593009583), (832, 0.02809189964053488), (122, 0.028075499302522747), (1567, 0.02802125334218407), (1445, 0.02798038921886943), (2742, 0.027966947287867236), (2962, 0.027864088071458838), (4753, 0.027861661956987322), (2983, 0.02785083728622093), (3694, 0.027800947541161955), (893, 0.027800079136657538), (4594, 0.0277897371995171), (2920, 0.027768156297406005), (587, 0.027764789019998626), (2181, 0.027752513290083356), (4633, 0.027727279239979648), (1381, 0.027609122945925723), (1866, 0.027566385266169086), (191, 0.027507151048590785), (4013, 0.027485823884562215), (3797, 0.02743228689620699), (1994, 0.02743115397463293), (3385, 0.027402971834076542), (4002, 0.027399756091336616), (3754, 0.027361368997538424), (2134, 0.02729113350370669), (3756, 0.02723899251078544), (417, 0.02719843597415806), (3775, 0.027172921537063986), (3330, 0.02714449350913889), (3903, 0.02702413682700375), (1811, 0.02701821673002075), (4165, 0.02700262826091611), (2882, 0.02693815221721767), (2833, 0.026849606047697684), (1259, 0.026763060973311603), (107, 0.02675862922711397), (1983, 0.02675421063950928), (4709, 0.026739152094654894), (2168, 0.026716543999235197), (1721, 0.026704474517716445), (291, 0.026690045222699882), (2400, 0.02668523377137142), (2016, 0.026667968787366776), (2294, 0.026633928869546818), (1383, 0.026632750206364367), (4379, 0.02661581086739849), (3587, 0.026577108775420043), (4757, 0.026511699642868942), (990, 0.026429276136939787), (3604, 0.026425334325470676), (2118, 0.02642131139853996), (333, 0.026413879416882044), (1797, 0.02637695398183583), (334, 0.026347905576747103), (2190, 0.026337709939219182), (4366, 0.026328124752839587), (1781, 0.02632033917969985), (1474, 0.026311485572247915), (652, 0.02627547231961263), (3877, 0.026268575327414202), (757, 0.02625932864004737), (1255, 0.026251014346725852), (4052, 0.0261998653509678), (872, 0.02615813167917278), (2851, 0.02615200177944928), (3588, 0.02611590572273024), (3684, 0.02611109655612443), (3101, 0.026065859487863125), (62, 0.026048265296042983), (2428, 0.026037187985884908), (4646, 0.026029163225682515), (3947, 0.02601306953655155), (4242, 0.025977760818908492), (742, 0.025970441131148457), (4450, 0.025956438680171764), (1535, 0.025924259976874968), (3670, 0.02590819283588216), (4602, 0.02588567015087203), (2877, 0.02588301849316102), (301, 0.02586343645072204), (2418, 0.025862636894581154), (3000, 0.025848299605395537), (3526, 0.025836229819535504), (4601, 0.025823878833188044), (760, 0.025823418706879726), (2714, 0.025822189822010018), (1274, 0.025803596883550307), (1859, 0.02578138649895673), (1893, 0.02577134039221435), (3536, 0.025721713328945506), (2695, 0.02572026710430287), (772, 0.02569090903154833), (2903, 0.025624937520648705), (2075, 0.025607412705388154), (751, 0.025607187353728134), (4553, 0.0256034572404479), (3218, 0.02559488471257549), (4624, 0.025585026317733475), (3844, 0.025582470022768214), (1760, 0.025544055456387157), (3241, 0.025491104256968725), (2247, 0.025487816993306753), (2554, 0.025468083364410508), (1252, 0.02545129479720651), (649, 0.02538001718321526), (3184, 0.02534083465120472), (2342, 0.02533828521983647), (1798, 0.02532822152339125), (1225, 0.025326978556538957), (3110, 0.025322815335646454), (1765, 0.025271322896322834), (1409, 0.025240609205533816), (3873, 0.0252278584792087), (454, 0.025216911019816445), (4005, 0.025210119973390746), (12, 0.025194804654685748), (4470, 0.025191323311261497), (2908, 0.025173260041164845), (564, 0.02515187079902944), (3235, 0.025151312408450407), (4355, 0.02513477606922632), (4643, 0.02513371054235823), (574, 0.025129649100174945), (1669, 0.02511905408029192), (204, 0.025081707351684), (509, 0.025057673924072536), (493, 0.025049934588455218), (3640, 0.025047258906127894), (3618, 0.025008549965731344), (3542, 0.024999750717673148), (359, 0.024995782258629105), (2228, 0.024954641622580945), (193, 0.02494494096627626), (3942, 0.024902932310717964), (4669, 0.02488691957060319), (4192, 0.024875740774557033), (2687, 0.02483780087972332), (1902, 0.02479896919441025), (87, 0.02479840701511995), (198, 0.024791309603379743), (2887, 0.024758145022327573), (2945, 0.024712357747986417), (35, 0.024710407742360926), (3493, 0.0246940801635561), (4440, 0.02465771467652933), (409, 0.02465512299350163), (23, 0.024586194619973804), (4136, 0.02457790136991197), (4739, 0.024561058635103404), (959, 0.02452127072138701), (2886, 0.024508338550425487), (3067, 0.024489649956927626), (2072, 0.024447569061243263), (3517, 0.024428647890110212), (435, 0.02442513090553549), (2082, 0.024420470449184294), (3713, 0.024413117971451397), (4016, 0.024331692133822937), (1339, 0.02428789650144813), (512, 0.024264395071193608), (1860, 0.024263656089508333), (3086, 0.024261984710247427), (4394, 0.024246291620455072), (871, 0.024241641187456895), (206, 0.024239091688616154), (2230, 0.024229937041928946), (2873, 0.024141958493821117), (1873, 0.024082827284189902), (1471, 0.024070644312835884), (1929, 0.024067316553258025), (4474, 0.024059413133240073), (1665, 0.02405244073423919), (1137, 0.024040791661286996), (2746, 0.023988869403780023), (4465, 0.02396507824341368), (1420, 0.023961082297575598), (3557, 0.02396074748292939), (3898, 0.023957290178506136), (2522, 0.023936444640457286), (4020, 0.02393639540644245), (2258, 0.02392919642682006), (502, 0.023921608713906764), (4599, 0.023893128192837468), (4557, 0.023877983095373482), (3551, 0.023812289845088232), (146, 0.02380352327834265), (1466, 0.023799141909486274), (848, 0.02379385999676517), (2546, 0.023787416559868983), (897, 0.023772695995910156), (4517, 0.023735976696195656), (2067, 0.02373511441670791), (3221, 0.02373439150171247), (3541, 0.02373281007690359), (976, 0.02372588619183087), (3080, 0.023692482939428026), (3491, 0.023685889491404384), (3564, 0.023684801482249766), (4742, 0.02359781878106368), (842, 0.023575850593045296), (3205, 0.0235579456888952), (2195, 0.02353105562194473), (3018, 0.023508151200056192), (686, 0.023492210187608664), (225, 0.023478735184389393), (4560, 0.02346787977759718), (689, 0.02346386174961919), (4502, 0.02346209887206144), (1725, 0.02345999145194884), (1360, 0.02337968114630337), (3759, 0.023373234198347782), (69, 0.02333901836628138), (2780, 0.02330767305337062), (1543, 0.02325925227538014), (1595, 0.02324739651998336), (3173, 0.023234993622137993), (4059, 0.023182607578630533), (169, 0.023180249380151948), (1900, 0.023163180676728817), (2889, 0.023157787334568088), (1928, 0.023079967167506696), (2249, 0.02307775942126966), (1922, 0.023066700362311787), (4621, 0.02305982771971105), (3097, 0.023057584608920347), (1756, 0.023056458549479332), (514, 0.02305109775374586), (4663, 0.023033878418371324), (1617, 0.023033192165032194), (3706, 0.02302535590685989), (1653, 0.023007426211202713), (2553, 0.02300128111209159), (127, 0.022972567098018263), (1284, 0.022966897096742954), (4395, 0.022952577913486854), (1970, 0.02293503599491843), (2489, 0.022888165685874526), (2461, 0.022875676133290862), (1030, 0.02283806791243642), (2295, 0.022816322262980172), (4472, 0.022806484470280986), (1247, 0.022787870634712985), (1591, 0.02278304514478033), (627, 0.022778941594444168), (1463, 0.022747646854189826), (213, 0.022741377607600387), (921, 0.022740438365000053), (2384, 0.022736974784414984), (2642, 0.02273109454953652), (935, 0.02272681952706199), (1864, 0.022692455241776304), (3718, 0.022671910578644396), (4463, 0.022660527666033426), (4329, 0.022658631243917055), (4078, 0.02265302259373774), (687, 0.02264973553018769), (1307, 0.022641000879237205), (3246, 0.022618017706658076), (3079, 0.022533188922071262), (2163, 0.022526380695184138), (3390, 0.022479392705834267), (1786, 0.02245309170099645), (3747, 0.0224501603565385), (3207, 0.022434415352654693), (2634, 0.02243259351589442), (4091, 0.022431616881334226), (2242, 0.022425327813647884), (841, 0.022416368573513486), (3338, 0.022414641047585407), (3995, 0.022406180473855078), (2892, 0.022395720380830004), (3695, 0.022329901435328026), (1742, 0.022308151097956985), (1497, 0.02230401672709243), (863, 0.02230259287928904), (3374, 0.02228903135420094), (4240, 0.022286215437009236), (1299, 0.022276249088237162), (977, 0.02226835726522979), (387, 0.022251229848068037), (1572, 0.02224977577776751), (3181, 0.02224620074203025), (147, 0.02222478154680519), (4571, 0.022220936648672612), (207, 0.02221978815941499), (2525, 0.02221645050867255), (1056, 0.022211801938829982), (2051, 0.02220418220479243), (1041, 0.02214640330393673), (386, 0.022133352017186313), (665, 0.022116745754561087), (336, 0.0221107840938869), (3311, 0.022102700386646773), (4595, 0.02209027957689309), (2552, 0.022058203671571734), (1246, 0.02205439110607261), (963, 0.02205395143564509), (4512, 0.022042020094859453), (1220, 0.022021583772174034), (3468, 0.022002225537389265), (1724, 0.021981415576475222), (6, 0.021965056287314814), (2285, 0.021954616749376557), (658, 0.021945614985775682), (4356, 0.021941944925359877), (1443, 0.021930224529739275), (4121, 0.021929587542902813), (922, 0.021926174298298223), (2222, 0.02191891091771383), (2637, 0.02191848629560273), (3342, 0.02190830517900307), (868, 0.021905428622841384), (3722, 0.021854560895837618), (4590, 0.021847776448589457), (3834, 0.02184332956170827), (805, 0.021817306199267972), (3438, 0.02179428725477296), (15, 0.02176163083591936), (1659, 0.021760049940356248), (2283, 0.021755786456804118), (4673, 0.02175282667760319), (3109, 0.021742415987551715), (1114, 0.021730882211555107), (603, 0.021713874941112522), (1031, 0.021705716905184674), (657, 0.021698002103941474), (2066, 0.021690188159842087), (17, 0.02168613448669678), (3959, 0.021657834374524097), (2689, 0.021641048295651354), (1587, 0.021636673458491115), (4613, 0.02161157802098171), (4662, 0.021600615751436552), (4658, 0.021591922579722207), (875, 0.021590895838495713), (1425, 0.021587554311776183), (2301, 0.021581845807435315), (1248, 0.021578569808916127), (1582, 0.02156180913682368), (1502, 0.021558552136024905), (957, 0.021543450222385296), (2954, 0.021542653938045365), (1380, 0.0215303625725754), (4073, 0.021508616647822484), (891, 0.02150456690806166), (3563, 0.02150312510130492), (1675, 0.02149339409224065), (759, 0.021480968771643467), (2803, 0.021470841217731643), (3619, 0.021451334082671927), (3375, 0.021392726923608517), (1503, 0.021391249309783894), (2402, 0.021366584790682486), (718, 0.021350516794938403), (3870, 0.021342714172922866), (1827, 0.021334959861977112), (556, 0.021331584705239603), (4383, 0.021330124150172533), (298, 0.02132573223380861), (3378, 0.021302973058060545), (3192, 0.0213003345366393), (1297, 0.021273684893656795), (1534, 0.021246418172068578), (408, 0.021234168785001686), (3986, 0.021228232598265936), (2259, 0.021222910889478086), (965, 0.021209401823877594), (3841, 0.02115806443822731), (3768, 0.021138562229677565), (2976, 0.021134970372946246), (3276, 0.021109448059670077), (642, 0.021105309305098467), (2106, 0.02110433160259368), (1616, 0.02109793335119688), (2876, 0.02108482837298044), (4094, 0.021082482702562674), (833, 0.021066878931745928), (3398, 0.02105491850796218), (1828, 0.021052863566875857), (1674, 0.021032846674249428), (1450, 0.02102595910086516), (604, 0.021015116769724736), (829, 0.020990843977234823), (269, 0.02096612790029935), (809, 0.020958719597561827), (3840, 0.020928072770289022), (3357, 0.02091042287617536), (2472, 0.02089577686041742), (2874, 0.02089210120449353), (3118, 0.020889381312477143), (2732, 0.020820376426231958), (1068, 0.020817555384872573), (56, 0.02078538352878116), (4045, 0.020782652415867763), (219, 0.020771378038338173), (486, 0.020754062528364994), (208, 0.02074825745771219), (2551, 0.020743072282860948), (4247, 0.020736678193641906), (695, 0.020733473851820776), (3736, 0.02072391221584681), (2685, 0.020718490224864213), (1105, 0.02071815482695382), (1186, 0.020716320759969126), (1303, 0.02071162636771488), (403, 0.020710131102930057), (2240, 0.020704267574595554), (3622, 0.020684443095872508), (3908, 0.020683648519135258), (4432, 0.020650555102469943), (152, 0.02064204532734388), (3946, 0.020626861903985126), (2388, 0.02059031861343581), (3909, 0.02058880542842765), (1098, 0.020586404806187626), (1592, 0.020580857989147577), (3073, 0.020551275752654363), (3655, 0.020532581489311107), (1347, 0.020531046968589654), (928, 0.02052871184410302), (546, 0.020508573777201042), (451, 0.02050321164751737), (2879, 0.020487084343741493), (1804, 0.020476991610945867), (3801, 0.020472185618219285), (4744, 0.020465552306022386), (1465, 0.02045488405919418), (3141, 0.02044462569839308), (179, 0.02043119076776239), (242, 0.020427139607903065), (4265, 0.020405329313630163), (4736, 0.020402588037488213), (3188, 0.02039176009182962), (2046, 0.020389579165250228), (3568, 0.020385147497420344), (2287, 0.020385135900247882), (626, 0.02034562270500865), (285, 0.020340822749818244), (1022, 0.02032165623872591), (3901, 0.020287835336744258), (2839, 0.020252958368776202), (4482, 0.020248046985014537), (2503, 0.02024402006919816), (321, 0.020217445581258403), (1073, 0.02020832596886649), (1382, 0.020172152802861883), (2617, 0.020146026704764237), (1211, 0.02014110522776033), (201, 0.02011647697521912), (2048, 0.020114905303066703), (3023, 0.020110602996405387), (1946, 0.0200823648771717), (3885, 0.02007484875628309), (3602, 0.020073293953225595), (573, 0.020039519715493302), (609, 0.020030837526919077), (3099, 0.020022391726535967), (3855, 0.020019180235136734), (1626, 0.019995418829898463), (2616, 0.01996084860907556), (3051, 0.01994732576047805), (3193, 0.019934130951628756), (238, 0.01993265082430009), (2239, 0.0199138478199874), (1312, 0.019910302050240695), (2677, 0.0198908466206673), (2157, 0.019838679791325482), (2858, 0.019821013004086712), (3347, 0.0198021549475812), (4246, 0.0197987619433686), (1673, 0.019788339277515235), (1649, 0.01977683441031408), (2089, 0.01976707845039762), (1152, 0.019706340282506632), (1042, 0.019704715720765743), (1832, 0.019691896769382947), (2192, 0.019681025187866522), (2432, 0.019677979746319487), (3156, 0.01966274922795439), (223, 0.019658646609349975), (381, 0.019650318147292754), (3430, 0.0196382815682992), (697, 0.019624864181845322), (2167, 0.019617329726195305), (1348, 0.01960760086699628), (3490, 0.019604672765134504), (2445, 0.019563811121449746), (1571, 0.019506042752626823), (3824, 0.01948491657785237), (80, 0.019476122676668994), (1067, 0.019471088694646244), (3881, 0.019468520086275483), (629, 0.019438001245539304), (713, 0.019436232918999003), (4322, 0.019429788968039326), (3166, 0.019397501330457114), (1241, 0.019395492503635942), (2771, 0.019389059905911134), (1487, 0.019355798543814366), (2777, 0.019348422490678), (53, 0.019345081235731053), (2033, 0.019334547986105014), (1419, 0.01930398158487609), (174, 0.01930375718557436), (859, 0.01929753068779225), (3254, 0.01929090775587603), (1256, 0.01927554013929587), (67, 0.019274672131359524), (1935, 0.019262022879792663), (739, 0.01919589321389784), (3823, 0.019194753873184197), (2336, 0.019172785196438863), (3306, 0.01917042405082944), (1807, 0.019169457405447527), (548, 0.019144077616083752), (2629, 0.019096203230399695), (648, 0.019079005129840915), (2555, 0.01907172052690099), (3100, 0.019069809723764704), (4743, 0.019068661886841875), (2881, 0.019052469596152467), (2699, 0.019045909049868557), (3136, 0.019040566761125897), (2327, 0.01903383647110496), (3732, 0.019019885698568034), (4494, 0.019004411002744033), (1430, 0.018982718672694576), (4699, 0.01898042407471745), (710, 0.018965604762027743), (4305, 0.018965401570884024), (4674, 0.01894937641753007), (2076, 0.01894210669301174), (1025, 0.018941790688026056), (352, 0.018931689892023196), (2801, 0.01893004475451192), (813, 0.01889396104126057), (1384, 0.0188865960224534), (1544, 0.018883968084855707), (244, 0.018861999208610484), (770, 0.0188560865849558), (1468, 0.01884095820856516), (3538, 0.018812486497744394), (306, 0.01880952127458028), (2000, 0.018801196811873803), (3063, 0.0187973399259928), (729, 0.01875888508814317), (4222, 0.018754584337392983), (3395, 0.01875416480304091), (3531, 0.01870118517038047), (2310, 0.018697008764983328), (144, 0.018694556436042384), (2207, 0.01869015114117892), (1738, 0.018675107390167457), (4339, 0.018648422787129176), (1063, 0.01862932037290098), (3939, 0.018625118864909078), (2135, 0.01861689242045783), (1076, 0.018585769433076167), (2749, 0.018579694373560652), (2918, 0.01857575048689008), (3052, 0.01856672961627606), (2718, 0.01854940502401291), (1290, 0.018525307682903325), (698, 0.018490281401619325), (4691, 0.018481183158839613), (709, 0.01847867638200794), (166, 0.018467276663376633), (3561, 0.018426801827561887), (2972, 0.01842135003139319), (2812, 0.01841789337951811), (1559, 0.01839611257117846), (898, 0.01839067209537265), (997, 0.018360585706374666), (1989, 0.01835297302934006), (2227, 0.0183369450905602), (1850, 0.018303395891237084), (625, 0.01829193032322581), (212, 0.018289401935465334), (3633, 0.018283831584419815), (3291, 0.01826674236953535), (4325, 0.01824640160030396), (1897, 0.01823959839972625), (3762, 0.018218282170140758), (944, 0.018207978908482216), (2199, 0.01820327665129568), (952, 0.018184830552040745), (926, 0.01817038695549387), (3829, 0.018166538359791654), (266, 0.01815342035155751), (3597, 0.01814784324952677), (4019, 0.018127838634949385), (4484, 0.018123419504235495), (3626, 0.01810093484350682), (311, 0.01809734756214239), (2737, 0.01806703876286723), (4652, 0.01803358192623601), (820, 0.01803338325189238), (2074, 0.018022676575646497), (1992, 0.018012973482942396), (1140, 0.018012167608836595), (4164, 0.017965379325098795), (1458, 0.01796057988243096), (700, 0.017954652653469155), (1071, 0.01795210364336266), (545, 0.017933869495095504), (3160, 0.017932392561834404), (1779, 0.017910239097934714), (4182, 0.017899816506457576), (4558, 0.01788747118636563), (2286, 0.017871004983081733), (75, 0.017853093291118415), (4489, 0.01784173856339625), (2815, 0.017836972386039884), (831, 0.0178224069760487), (1173, 0.01780241220749753), (3975, 0.017784353017818274), (3215, 0.017776605007349268), (304, 0.017776056877522574), (2860, 0.017755296546809657), (1342, 0.017749740312695463), (4420, 0.017738421139403656), (3748, 0.017663517305938087), (664, 0.017633759719890025), (3239, 0.01763061544355443), (4363, 0.01761902587155383), (181, 0.017614297211157766), (3140, 0.017598846949275798), (4513, 0.017583157818380487), (234, 0.01757017323714287), (1229, 0.01756251100551668), (4219, 0.017540304337408576), (1083, 0.01750301921167605), (3111, 0.017491501659551528), (3262, 0.017490319840845828), (4692, 0.01745587068359939), (4521, 0.01745465947226289), (779, 0.017450940168042953), (3363, 0.017440309457046735), (1937, 0.017417726208365705), (1205, 0.01741256703825189), (606, 0.017371217202776356), (2724, 0.01736601231696106), (3405, 0.017351475755559464), (2557, 0.017343381028430124), (3153, 0.017322686293522002), (3159, 0.01730733335176509), (142, 0.01730055000759414), (4107, 0.01726731979843852), (2857, 0.01726170083335093), (237, 0.017244441643693785), (2028, 0.017236247147844427), (3004, 0.01722403177035039), (3806, 0.0172226124136564), (3208, 0.01720296373303443), (1306, 0.017199141654922683), (3968, 0.017185275993326025), (4710, 0.01718196614024711), (1603, 0.01717373931941156), (750, 0.01713825874967175), (64, 0.01709840393757739), (2188, 0.01706637508298211), (3386, 0.01704521164080574), (27, 0.016999466627475694), (636, 0.016989297091640123), (4721, 0.016981456905777115), (1155, 0.016973032094571735), (837, 0.01696342154384005), (1213, 0.016937177843401978), (104, 0.016928612563502702), (4612, 0.016922096675853104), (86, 0.016918034893348716), (4271, 0.016883016388116304), (2344, 0.016857378183271356), (1018, 0.016813552083176433), (814, 0.016810728645462514), (2665, 0.016810117961913437), (1378, 0.016808124244167437), (1901, 0.016771784070552187), (1341, 0.01675552641163502), (2895, 0.01673846786485469), (4056, 0.016731509624746448), (1108, 0.01669776418814557), (2582, 0.016695155847169338), (1051, 0.016686720774501985), (295, 0.016648727317499595), (3365, 0.016638059262326872), (1743, 0.016634943306560956), (61, 0.01660845876635727), (1442, 0.016603828583293744), (880, 0.016580845468897563), (4668, 0.016575723951915616), (3520, 0.016566633221888845), (4223, 0.01656320609691322), (475, 0.016540207860282135), (727, 0.016527699090647698), (4023, 0.016514384333239922), (3119, 0.016512199856714833), (4284, 0.01650591695110375), (2769, 0.016505733860284044), (2738, 0.016502624055886293), (1593, 0.01647311800982488), (4617, 0.01647295654857822), (3745, 0.01644999701998963), (2778, 0.016436401561849563), (824, 0.016429578060409834), (1981, 0.016428259286170685), (4145, 0.01642668252771869), (4299, 0.016422226570922058), (2198, 0.016396110218630036), (264, 0.01638745484373004), (3033, 0.016355656723960124), (3421, 0.01632261712539714), (1638, 0.016301459521494997), (2219, 0.01628567033134466), (477, 0.016284541624372324), (2013, 0.01626558918409499), (294, 0.016254895238104142), (1645, 0.01625144788702119), (947, 0.016247063091497982), (674, 0.016222179246272804), (1012, 0.016211657736600216), (2377, 0.016205819224929568), (2589, 0.016176855213224203), (3900, 0.01617629357635734), (2563, 0.016163116790093773), (1033, 0.016124713578064262), (2403, 0.016117370795366896), (1849, 0.01611049209207741), (1459, 0.016108367201267414), (2273, 0.016104168063587186), (4642, 0.01610185761640865), (4369, 0.01608832924122604), (4536, 0.016072013566242126), (843, 0.016071697918331105), (4614, 0.016068393274612885), (2478, 0.016053248726921668), (2560, 0.016049683376320907), (3356, 0.016031873757988774), (721, 0.01602272535783012), (3081, 0.015997195477443257), (4117, 0.01596306775558567), (3661, 0.01594871960497411), (3137, 0.01592890984695473), (2598, 0.015915837418945318), (4589, 0.015910132893533102), (1037, 0.015897654338181914), (3875, 0.015884778469103734), (116, 0.015877058257208632), (2142, 0.01585341030250237), (1177, 0.015846760329645455), (1547, 0.01583173877470282), (2936, 0.015830028441239322), (2657, 0.01582823185677524), (3072, 0.015798789635315964), (764, 0.015770429512574673), (2056, 0.015769871212224517), (2443, 0.015767047596469626), (2534, 0.01572016864099636), (655, 0.015709243914490186), (3230, 0.015693049655419337), (3392, 0.01567654954912238), (1499, 0.01565407424709012), (4535, 0.015651897522322294), (4401, 0.015623915490303047), (2785, 0.015621830157250997), (4051, 0.015601257522714986), (1052, 0.01557382300668673), (2782, 0.01556652010608993), (744, 0.015557125486122023), (1920, 0.015554227896886806), (136, 0.015534769053583995), (3003, 0.015534469713383169), (3223, 0.01550465164576246), (4288, 0.015487443649893413), (3772, 0.015468879628973446), (2669, 0.01540216243267476), (910, 0.015399191864433618), (1783, 0.015398002740115126), (3609, 0.015387785256549177), (4092, 0.015382762549254251), (1451, 0.015371798396553433), (2390, 0.015330012551320098), (576, 0.015323271579197073), (3278, 0.015296349623051198), (4067, 0.015295319468060288), (3158, 0.015292468671521819), (2683, 0.015282974181453675), (1892, 0.01527551956352249), (3560, 0.015273080112517991), (250, 0.015267719261890151), (1243, 0.015252711561446997), (1457, 0.015240259101160964), (3705, 0.015222330148921175), (1391, 0.015222014719924992), (4043, 0.015208007978763873), (1964, 0.015206736490479126), (4154, 0.015200947350204394), (2507, 0.015190831673311023), (3027, 0.015137812990416982), (2585, 0.0151320377160148), (3009, 0.015130796646834942), (4113, 0.015097951106584599), (158, 0.01508978985078744), (2191, 0.01508670548730939), (2231, 0.015077708241480765), (1848, 0.015053671668701174), (4469, 0.015048708899487239), (1157, 0.015015349966558029), (3496, 0.015010514856369816), (2314, 0.015009522935382965), (2176, 0.01500565545703365), (4263, 0.014971546064247228), (3417, 0.014971192872596125), (1683, 0.014964178226840695), (4431, 0.01495507023198886), (4680, 0.014951644270580863), (1038, 0.014946052919912911), (2712, 0.014941231708787833), (3007, 0.014939274590918001), (4239, 0.014928834545136159), (2654, 0.014914257682968078), (252, 0.014901019912248351), (2036, 0.014897117988395462), (200, 0.014864387712311772), (4130, 0.014857147159535728), (4140, 0.01485202352851417), (4724, 0.014847210041418339), (4447, 0.014847085023394343), (1896, 0.014835024491188592), (3999, 0.014830462302770027), (808, 0.014830337617145667), (3749, 0.014820972733065735), (4286, 0.014784905578377847), (1670, 0.01471832716656916), (830, 0.014699920891194831), (1952, 0.014692440403090087), (341, 0.014691149234675382), (262, 0.014690646785971356), (2633, 0.014680943258417546), (2318, 0.014641082291150635), (4657, 0.014619388676443058), (1575, 0.014609018427234315), (4448, 0.014604014272934979), (1708, 0.014599639759213115), (2661, 0.014592201031428075), (2561, 0.014589214691521534), (2723, 0.014578271193012637), (1812, 0.014575266709658863), (2531, 0.014573869400096886), (4089, 0.014560481317414902), (4574, 0.014554397891739188), (34, 0.014551343437118171), (2725, 0.01453733026881069), (2650, 0.014529020322421343), (2319, 0.014527217894328221), (3997, 0.014525489613636151), (3778, 0.014525487800750197), (2391, 0.014518134428356377), (1264, 0.014508386802207203), (2393, 0.014506216123406288), (2148, 0.01449435930859319), (2151, 0.01449276616160211), (4422, 0.014451057809045867), (1833, 0.014404827240948008), (3796, 0.0144045088060159), (2792, 0.014401131166530978), (1685, 0.01438168481712295), (1484, 0.01437875098986483), (1975, 0.014371373669092021), (2981, 0.014370466936995835), (3675, 0.014357448192011766), (3409, 0.014352226443121105), (3406, 0.014345513256905468), (71, 0.014326167712171347), (1506, 0.014319830990917099), (1075, 0.014319350674421766), (783, 0.014319185090167243), (1233, 0.014295942261985129), (4198, 0.014268251707362184), (3769, 0.014266034480590854), (716, 0.014254201377080685), (4735, 0.014252524887787056), (2073, 0.014252050551452651), (4035, 0.014239317004624115), (3707, 0.01423256067206663), (3303, 0.014230673080540126), (2083, 0.01422535660088357), (3488, 0.014224417520084064), (2640, 0.01422258085887756), (617, 0.01420299856503294), (1413, 0.014192100103243269), (4083, 0.014191330133136832), (1476, 0.014167698552574376), (2406, 0.014147616248049645), (4275, 0.014146908292058086), (4391, 0.01413222686443746), (3227, 0.014099913437580073), (628, 0.014099008942422147), (4477, 0.014071307561036412), (4081, 0.014061424948535422), (3623, 0.014022403635711465), (3019, 0.014021194189268343), (4640, 0.014009887979243784), (4377, 0.014002350978011141), (902, 0.013996236007767608), (2495, 0.013982789824651513), (4203, 0.013961225418439489), (860, 0.013955117505072844), (2387, 0.013953616350123358), (4040, 0.013943688096607875), (1761, 0.013943221646575453), (1254, 0.013931335778580927), (1112, 0.013928111771467605), (490, 0.013847412100288347), (1991, 0.013841289497787884), (3596, 0.013839537679908077), (2625, 0.013837921575328682), (3501, 0.013817255319680833), (2045, 0.013814358148319222), (1998, 0.013808807457137919), (3750, 0.013805306822258888), (4244, 0.01379830613059437), (2130, 0.013792164374902726), (3002, 0.013788478586500764), (433, 0.0137606301996053), (1100, 0.013752590182377605), (30, 0.013749006430693567), (876, 0.013747645107633943), (1110, 0.013745400815155762), (3335, 0.013734130072967895), (3883, 0.013729222626583854), (1706, 0.013716879555939985), (2455, 0.013715390614168581), (2346, 0.01369437788534587), (3436, 0.013680472790111118), (2087, 0.013677361715553869), (1876, 0.013671164713609641), (4187, 0.013666332947249907), (4047, 0.013657880379395733), (446, 0.013641524479154734), (3412, 0.013638413658032976), (3341, 0.013631142124926712), (4330, 0.013600657224552693), (1148, 0.01359892827484751), (1304, 0.013597593467180886), (2558, 0.013594866765544687), (533, 0.013546925981887947), (3432, 0.01354422681767316), (1612, 0.013535866513000087), (834, 0.013533087840456016), (3216, 0.013526771760058209), (541, 0.013526076267431787), (1239, 0.013520229996279358), (3012, 0.013503595040658588), (1969, 0.013495299381981766), (3727, 0.01347741404247535), (1891, 0.01347513395441839), (555, 0.013460336207267743), (348, 0.013455996169556457), (1852, 0.013454938413096557), (4264, 0.013445598156274892), (4293, 0.01344008507133961), (458, 0.01343921462101634), (466, 0.013438738376577964), (1857, 0.0134321600177458), (1622, 0.013412234100440502), (4199, 0.01340530717345095), (1666, 0.013404688984492513), (2869, 0.013391489101174926), (2941, 0.0133841954687599), (927, 0.013383491885070143), (1097, 0.013380954603592274), (914, 0.013379320008682433), (1923, 0.013376447644175822), (4155, 0.013359538929617996), (2069, 0.01335542651146118), (4152, 0.013341893545694804), (391, 0.01333869179604317), (2540, 0.013327858272286537), (2121, 0.013313008588329534), (3784, 0.013310464218612518), (1273, 0.013308850776364857), (2574, 0.01330022014935157), (221, 0.013295793217738137), (3961, 0.013294066446909739), (4619, 0.013289006752238444), (3220, 0.013284991541811472), (2965, 0.013283804648444721), (4206, 0.013283209526275304), (254, 0.013275402981414374), (3069, 0.013274320192789584), (4345, 0.013264469935094586), (2917, 0.013250295661634954), (3924, 0.013239924753185677), (450, 0.01321618364935042), (2464, 0.013209495776231745), (3765, 0.013204088495667458), (197, 0.013203859302840496), (1813, 0.013196795087465778), (3472, 0.01319454948069262), (2828, 0.01318854118723817), (4048, 0.01318547160972433), (4183, 0.013183967774357559), (2841, 0.013178178074266477), (1245, 0.01317625263520063), (3011, 0.013175419683460001), (2348, 0.013171809165699903), (2646, 0.013149259468687526), (342, 0.013120696601884118), (903, 0.01310817899581916), (1576, 0.013107882314361632), (2369, 0.013102263158269168), (481, 0.013098378835527866), (2214, 0.01309560730724982), (2716, 0.013093127772462937), (3502, 0.013079186349938056), (2680, 0.01307872518237324), (1258, 0.013072130536113873), (3826, 0.013068041583547107), (3399, 0.01306476915284333), (1020, 0.013041047517263824), (1993, 0.0130271295303842), (1874, 0.013016530549817922), (3203, 0.01301380656357993), (2865, 0.013013617139750374), (731, 0.01300276675057096), (2141, 0.012992474498916624), (2736, 0.012991735386885726), (3498, 0.012987623058125352), (210, 0.012980841872604482), (1001, 0.012955246877852874), (3151, 0.01294836957832406), (4321, 0.012941205308815044), (2868, 0.012937813311050442), (2162, 0.012934226626306299), (3095, 0.01293082982424371), (1701, 0.012922496044405797), (1123, 0.012918731446654952), (485, 0.012907393271721173), (4428, 0.012907329114440605), (1878, 0.012906508282499937), (835, 0.012900551773543446), (4483, 0.012890256674787638), (590, 0.01288856811944107), (3853, 0.012883241060012627), (373, 0.012882452480103175), (21, 0.012880112209127357), (1814, 0.012875829466249943), (1119, 0.012859405563600587), (4231, 0.012848164115870378), (325, 0.012845006419422062), (388, 0.012832128732240957), (1036, 0.012820288606485987), (792, 0.01281196464717921), (3284, 0.01280749192486994), (2166, 0.012801724112822448), (661, 0.01279946808959184), (3297, 0.01279805342346075), (1065, 0.012781336317490458), (1687, 0.01277028901893754), (4359, 0.012766997807068354), (1853, 0.012748838303364889), (810, 0.012747616965237097), (4328, 0.012746239857750455), (934, 0.01274475069155472), (2196, 0.012736914330461415), (2849, 0.012733240633766296), (582, 0.012730098730805115), (3777, 0.012725721128638331), (3966, 0.012725068075429927), (4123, 0.012717338011556742), (483, 0.012716888804056846), (4033, 0.012706488182490844), (2827, 0.012692297169348726), (51, 0.012672126297080904), (3984, 0.012666775780355865), (4178, 0.012646859739978557), (1433, 0.012646190729148242), (1623, 0.012634529247995754), (4031, 0.012631787823993419), (248, 0.012622382598675368), (2031, 0.012618929323580311), (296, 0.012608038326197873), (4007, 0.012606984734996447), (1650, 0.012604607722426192), (3862, 0.012579117819612191), (879, 0.012565734575108282), (1081, 0.012552985650893295), (1513, 0.012546688221513405), (543, 0.012544406405867532), (1727, 0.012522884659638142), (1921, 0.012497532709223191), (216, 0.012486869794227275), (856, 0.012482358755346387), (1941, 0.012465303637834175), (584, 0.012462609576266758), (1672, 0.01244364944963892), (120, 0.012421720870084004), (1423, 0.01241069995497928), (218, 0.01240985070709643), (132, 0.012397825425628705), (4661, 0.012395648798027115), (1784, 0.012389551409933088), (125, 0.012370590631166791), (712, 0.012354794570390116), (4220, 0.012336371074991527), (2009, 0.012335204492653717), (2753, 0.012319404017078607), (2784, 0.012310762167672656), (537, 0.012300091534679279), (1337, 0.01229138671984012), (3253, 0.012288143961848432), (2237, 0.012270761628107175), (3142, 0.012258311758837796), (1942, 0.012253911554210708), (1817, 0.012244598948720247), (4068, 0.012236234478182865), (936, 0.012230626887202304), (1440, 0.012230341013971312), (544, 0.012222551528302135), (800, 0.012217901663252841), (4004, 0.012214680811877758), (932, 0.012196889524228817), (3327, 0.012192518543166558), (3949, 0.012187658518402825), (2929, 0.012168926181501902), (1362, 0.0121611554128076), (209, 0.012153509960200606), (2721, 0.012150926595424548), (3256, 0.01214057145559603), (1232, 0.012137314271430956), (2934, 0.012132155623489436), (3155, 0.012126794522039002), (1762, 0.012126415792976927), (2284, 0.012109388602924867), (1977, 0.012102618605330826), (4435, 0.01210186347706914), (3469, 0.012101132279606998), (4108, 0.012091193300510904), (2921, 0.01209114234899999), (1392, 0.012085595939125575), (172, 0.012082594531276537), (3008, 0.012080279729001856), (5, 0.012080240120488465), (703, 0.012074412423586808), (979, 0.012064977889150987), (2587, 0.012062873326042752), (4608, 0.012062554481277686), (3612, 0.012049008650906069), (1758, 0.012043261470992588), (986, 0.012035209418572007), (370, 0.012024893530875073), (4515, 0.012024325288951605), (4365, 0.012017854461477614), (280, 0.01201291191278362), (2906, 0.0120121864886764), (2275, 0.012006690185306554), (3681, 0.011995660449163661), (128, 0.011987619524929846), (3807, 0.011981251468288621), (187, 0.011967956672230527), (222, 0.011964086558130199), (2512, 0.01195797673844053), (2174, 0.011938602164486462), (3553, 0.011937103580616247), (894, 0.011931259384946899), (3888, 0.011917315470260727), (534, 0.011895815454421216), (2930, 0.011880745677536728), (1089, 0.011880221975159859), (1621, 0.011873638570975108), (591, 0.011866848822823885), (1844, 0.011863551125981473), (2961, 0.011855532306521704), (2452, 0.011854726860312722), (376, 0.011852238575918887), (989, 0.011846576686919779), (924, 0.011840206101443176), (3816, 0.011833588725218695), (4097, 0.011833456115283573), (1943, 0.011831487525089448), (425, 0.011815100397819116), (4226, 0.011813313090122471), (2216, 0.011804161942460527), (635, 0.011797521535889092), (2686, 0.011790379111111665), (2898, 0.011775601359763303), (1011, 0.01176196118829761), (2029, 0.011758885228359363), (4491, 0.011757593810240701), (2518, 0.011757342016804001), (4387, 0.01174418730214976), (799, 0.011741456721727153), (1560, 0.011736255092366688), (2279, 0.011735421668723206), (303, 0.011725779227148824), (2136, 0.011711172250067308), (1035, 0.011700839518879184), (2182, 0.011700028973169671), (3370, 0.011691123778247657), (2808, 0.011670804376325332), (2084, 0.011661748892448061), (1481, 0.011657331650123785), (2743, 0.011654203164067003), (2115, 0.01163659065607653), (1976, 0.011634452550491064), (3660, 0.01161483651742129), (340, 0.011610134588575686), (4312, 0.011609583841803627), (2152, 0.011602630165460252), (1057, 0.011594680580942224), (3180, 0.011586908486725953), (3817, 0.011585553760788011), (4703, 0.011581525296409587), (2218, 0.01157848943814077), (396, 0.01157426204947839), (2733, 0.011569149220614966), (2843, 0.011565317009156738), (992, 0.01156026140730577), (4549, 0.011553539423495775), (2948, 0.011546025775412668), (2758, 0.011544483900165183), (1478, 0.011533677601762216), (3957, 0.011526317354171357), (2752, 0.011519882944254252), (2630, 0.0115088350125783), (550, 0.011503696319171957), (1854, 0.011499591936935722), (3634, 0.011492875476501078), (2165, 0.01148787982601158), (3710, 0.01148780026102053), (595, 0.011454151495173391), (1160, 0.011432132055657915), (2626, 0.011430322704197679), (4406, 0.011429730223836714), (2566, 0.011424036007562841), (4180, 0.011419069588866581), (2127, 0.011411304315028774), (3802, 0.01140404857037041), (2101, 0.011397106222755624), (4124, 0.011396685679886298), (4323, 0.011381965243037463), (1578, 0.011380921794970604), (828, 0.011377714847417498), (3819, 0.011372185495447393), (126, 0.011363977180405778), (939, 0.011360440668295967), (276, 0.01135653290790881), (1955, 0.011350402546458437), (3407, 0.011307227758793326), (1881, 0.01130219198517795), (287, 0.011301487188699354), (1588, 0.011290595650580774), (3941, 0.011286856427118113), (1679, 0.011284549915875755), (2345, 0.011264839821089815), (901, 0.011258813872839016), (4586, 0.011251953900022591), (3940, 0.011249227063586505), (1841, 0.011238844057557252), (1661, 0.011215349416215896), (4015, 0.011212982512657343), (1602, 0.011211372909713063), (1107, 0.011206206115097334), (1195, 0.011200996543747795), (4716, 0.011199293379964087), (420, 0.011199104664384686), (866, 0.011196989528147683), (4492, 0.011187942626304995), (2600, 0.01118582315535688), (1520, 0.011180132004715442), (1183, 0.01117960647383379), (113, 0.011177977276312149), (1228, 0.011176212727007959), (1731, 0.011165914821927846), (948, 0.0111635855344158), (2462, 0.011159036755864759), (438, 0.011154219814602207), (96, 0.01114739273615696), (3463, 0.01114683135723122), (1961, 0.011131943747668745), (1697, 0.011122754728769535), (95, 0.011115481606384085), (2729, 0.011111174676750477), (4319, 0.011106591112286202), (1667, 0.011100211398518061), (3313, 0.011097724781955354), (2086, 0.011092385051242054), (2581, 0.011079342224471303), (392, 0.011063044523667952), (3522, 0.011059270852377933), (361, 0.011055524291814018), (43, 0.011055264610712507), (913, 0.011047349641683737), (2939, 0.011042578986379047), (3401, 0.011039190733789325), (2208, 0.011038463965102207), (1426, 0.011034160309196581), (3048, 0.011032379680362104), (4122, 0.011011140897231124), (2421, 0.011009815765925642), (1013, 0.01100467910435243), (124, 0.010997900125593813), (199, 0.01098227157548829), (2363, 0.010956752947661623), (344, 0.01095376060761248), (2586, 0.01094842733604619), (953, 0.010944544402244733), (3418, 0.010930453981308506), (1689, 0.010926959782644277), (1930, 0.010923565688382953), (4728, 0.010923328457345597), (909, 0.010921480166912294), (320, 0.01091844422186939), (2055, 0.010916156122346879), (2002, 0.010900545866456049), (3415, 0.010899835890142309), (4755, 0.010871346314939398), (1775, 0.01086737008794223), (1058, 0.010867196455031362), (515, 0.010856673120117509), (3318, 0.010855218686784499), (822, 0.010851510219804699), (39, 0.010850142608833017), (1906, 0.010842447770534783), (1000, 0.010833213630889661), (943, 0.010831693238280487), (4475, 0.010830911768004488), (1739, 0.010829716873817351), (2065, 0.010820939061286549), (2077, 0.010812821231350987), (4070, 0.010807778308727744), (3982, 0.010803080152861834), (2194, 0.01080176027733459), (2607, 0.010795945389266447), (3955, 0.010783457925796502), (1133, 0.010782552902539759), (2794, 0.010782219940248113), (241, 0.010779243616085326), (4188, 0.010736600898398925), (3270, 0.010735527878353005), (1196, 0.01073525463729663), (3956, 0.010735149562636987), (2264, 0.01070037407911408), (2092, 0.010698841687110699), (1159, 0.010693927220657883), (4542, 0.010683448363677397), (1525, 0.010678344710410294), (2727, 0.010663934587670816), (2498, 0.01064387017257171), (2017, 0.010628866636090738), (1085, 0.01061746106339213), (1250, 0.010615100253794375), (82, 0.010611824840380032), (1776, 0.010607285331609146), (2767, 0.010604946349809593), (90, 0.010566663953723044), (2278, 0.010565847580145947), (1302, 0.010563144272446284), (3650, 0.010552956862666328), (2549, 0.010548401762043202), (1343, 0.010539783153551526), (714, 0.010538035620281999), (1933, 0.010533047840382842), (3637, 0.01053304707034988), (4327, 0.010530869546789048), (1953, 0.010499286435675624), (1741, 0.010499105761893113), (3535, 0.01049871053567273), (2636, 0.010498694056487158), (4232, 0.010470926954333248), (2692, 0.01045894025071592), (2412, 0.010458202652806694), (315, 0.010446871843399104), (2245, 0.010436961051428384), (2804, 0.010418025591484081), (2465, 0.010414431853855995), (305, 0.01040473250431517), (390, 0.01040027986035156), (874, 0.010386801319513177), (4303, 0.010376428323650821), (3377, 0.010374935625904831), (2468, 0.010359292899570882), (1540, 0.010357194920971676), (610, 0.010354996577378957), (4248, 0.010353164649361238), (2158, 0.01033753107534057), (4278, 0.010326036274523482), (3340, 0.010323983169163666), (2070, 0.010302133461879675), (4587, 0.010298747722790866), (1700, 0.01029825792529927), (3312, 0.0102978676811127), (300, 0.010294702953694118), (2107, 0.01029284747436147), (2847, 0.01028272712906096), (233, 0.010279083219776117), (535, 0.010276372367933094), (2787, 0.010275041071267258), (2950, 0.01026878982545559), (905, 0.010256247762420284), (45, 0.01025548371392756), (2128, 0.010241531049196577), (3793, 0.010238702512843747), (3708, 0.010236911902422534), (1082, 0.010228668522509605), (4071, 0.010224182480038785), (4095, 0.010221568853165835), (2973, 0.01021484968950954), (1971, 0.010208814026609055), (4029, 0.010206469199737426), (4012, 0.010198364730365912), (4224, 0.010185530987976494), (2504, 0.010168570498767546), (3836, 0.010157274863498794), (547, 0.010154749216573543), (2824, 0.010146617784643201), (4690, 0.010133690655450386), (1556, 0.010120921744770304), (4610, 0.010108475630765754), (566, 0.010104784362198612), (1373, 0.010089881127925162), (2150, 0.010085549078559613), (2992, 0.010075400883830125), (773, 0.010075088165255916), (2590, 0.010059123706315277), (1606, 0.0100522462079646), (2442, 0.010049619121097414), (1368, 0.010048649694395971), (1480, 0.010043761939368347), (2272, 0.010036951609958983), (1078, 0.010030371989079256), (585, 0.010018955956205831), (2602, 0.009993838022450914), (427, 0.009989733544734834), (682, 0.009971527199249524), (1912, 0.00997127477415043), (3595, 0.009964577863722002), (4105, 0.009952075904913867), (1633, 0.009951568780626396), (149, 0.009946102647774593), (4707, 0.009930413879180245), (94, 0.009923213206821586), (1270, 0.00990634367152825), (2304, 0.009906272892723928), (1260, 0.009890144877797458), (397, 0.009879985148245672), (3317, 0.009865013432307277), (776, 0.00986254059978143), (2697, 0.009860266544423285), (2383, 0.00985823484014323), (1369, 0.009857986245116006), (185, 0.009846189295754915), (302, 0.009821247877016994), (385, 0.009814904660349847), (929, 0.009805565632801556), (3652, 0.009796618283111482), (942, 0.009791696716177137), (1824, 0.009789779088563549), (4227, 0.009787555567273367), (1657, 0.009759313154137379), (1317, 0.00975868947535906), (4290, 0.009752790608119961), (4752, 0.009736812106315669), (492, 0.009723705380426384), (1316, 0.009723295236499794), (1377, 0.009715851586796826), (2256, 0.00970903444747004), (2514, 0.009708118339436014), (3397, 0.00969754332880516), (70, 0.009697418722439404), (3543, 0.00968154963923478), (46, 0.009680037818158047), (1162, 0.009672876576460187), (2925, 0.009670404087058576), (3659, 0.009663105008005641), (2513, 0.009659305965571359), (2183, 0.009657855738241931), (3899, 0.00965453226029726), (316, 0.009652425100889012), (1562, 0.009646784462156922), (2978, 0.009640600972188409), (3933, 0.0096319333985865), (3201, 0.009631694437582354), (3294, 0.00960594106874489), (2315, 0.009599586397196295), (91, 0.00956632960570656), (4577, 0.009562696997273488), (4118, 0.009561070947209715), (160, 0.009546192576787146), (4186, 0.009533694158872631), (4727, 0.009524596993906247), (1055, 0.009509837423858396), (912, 0.009501906792933576), (756, 0.009488717296318349), (1990, 0.009488512812965824), (1282, 0.009478634878001454), (180, 0.009474408227425254), (2963, 0.00946662725277034), (10, 0.009448468547008693), (4289, 0.009436663460513021), (2542, 0.00942665780011456), (4510, 0.00941055110244766), (1417, 0.009401799342636904), (3464, 0.009396566791784015), (1116, 0.009392763243927038), (330, 0.00939226597187367), (4233, 0.009390668954107579), (418, 0.009378217893990338), (4114, 0.00937820858396688), (73, 0.00935514914696281), (3259, 0.009350420986714923), (3334, 0.009328439438306056), (667, 0.009321490209172523), (474, 0.009316121104192584), (1393, 0.00930956259704059), (1870, 0.009308568546184585), (2177, 0.00928977398551403), (3865, 0.009288059278685508), (4158, 0.009278168509069514), (106, 0.009271600121262859), (3945, 0.00925470002906515), (394, 0.009234650906411613), (1024, 0.009234397512450875), (393, 0.009223004297946154), (224, 0.00921516001068405), (4390, 0.009213308799908698), (3849, 0.009208794301750485), (1005, 0.009206108168108133), (3328, 0.00919150755007085), (3507, 0.009191072815101087), (1542, 0.009179584254737066), (2622, 0.009167772589243667), (1283, 0.009158958389502262), (1847, 0.00915402229324172), (2519, 0.009145410204040978), (1735, 0.00914337885369485), (2627, 0.00909366516732031), (869, 0.009090431523446749), (3645, 0.009078391048314422), (2296, 0.009077217019113624), (4093, 0.009069416900985722), (314, 0.009058197094839196), (4684, 0.009047804685799144), (2444, 0.00904382160735829), (2788, 0.00902630974299574), (256, 0.00899820634449637), (2822, 0.008988278152877897), (3484, 0.008986395705457124), (4581, 0.008948749249317258), (2994, 0.008923647752092902), (1074, 0.008893400384435552), (1120, 0.008879345597936577), (3480, 0.00886020679273305), (2026, 0.008859118714781282), (1455, 0.008855393070284738), (684, 0.00883801624919269), (4623, 0.008834151409516947), (4148, 0.008831473496322718), (3570, 0.008810695763865123), (1164, 0.00878645550131275), (1504, 0.008781251000036504), (1226, 0.008776901781980245), (613, 0.008739160071469196), (3508, 0.008725384110622389), (1292, 0.008718755503190805), (1330, 0.008703481580257647), (539, 0.008675991450320256), (1221, 0.00865864997971007), (500, 0.00864503799824115), (2774, 0.008634694729405229), (3212, 0.008633855861980925), (503, 0.008624700928559614), (2057, 0.00859832170299357), (108, 0.008569237185670542), (4216, 0.008568283508064517), (3149, 0.008552001253084059), (3582, 0.008541221522924464), (4543, 0.008539912376950058), (319, 0.008533587082083878), (1326, 0.008501976123473495), (2206, 0.008474648100727601), (4481, 0.008471146818757677), (3085, 0.008469965192450865), (2897, 0.008468686953142044), (163, 0.00845375174456314), (1412, 0.00843896457650138), (2867, 0.008427009397902604), (1963, 0.00842639353130844), (827, 0.008411085834432501), (3794, 0.00839766223365665), (422, 0.008377075308995875), (1054, 0.008372016651113588), (2184, 0.008328577508410496), (3280, 0.00825453373279807), (532, 0.008232970519328007), (2429, 0.008218700139650176), (916, 0.008215364740241201), (2324, 0.008201321668712808), (745, 0.008197469755460892), (1467, 0.008193275481478161), (3993, 0.008191711732421442), (1789, 0.008187138575007568), (1581, 0.008171437668439589), (1987, 0.008138535586042843), (2791, 0.008131203558636559), (4235, 0.0081236624031769), (3842, 0.008069813213278843), (148, 0.008045728944291569), (3860, 0.008038704816627235), (2424, 0.00803631820020206), (632, 0.008013144750582846), (1816, 0.007992232221629515), (972, 0.007977391910910429), (4414, 0.007893172812152535), (2871, 0.0078835011600567), (1694, 0.007871940711178037), (47, 0.007869680143228325), (2971, 0.007714537684313984), (4096, 0.00768115042520684), (99, 0.007667882695890591), (3731, 0.007561102595203666), (621, 0.00750154772470369), (3674, 0.00748415941679406), (3658, 0.0074503047139728605), (1214, 0.007434446316325273), (1092, 0.007389979012752694), (3045, 0.007321749566669552), (88, 0.007312744416009722), (3391, 0.007085657474913286), (3429, 0.007081075256593336), (668, 0.007014365220865968), (1320, 0.006959955600451944), (2614, 0.006901968806965586), (844, 0.0068513483868917835), (2660, 0.006800662505899292), (1276, 0.006613095117369647), (4261, 0.006577992022097289), (2440, 0.00645541970072255), (4719, 0.006155539228449344), (3240, 0.006142510231972181), (1019, 0.006031879362541802), (3932, 0.005862773918148122), (3226, 0.005846247075632334), (788, 0.005836283246748678), (4151, 0.005460646930079348), (2678, 0.005176101838066507), (3552, 0.0051690760843603545), (611, 0.005106295798622762), (3178, 0.0050249616508485405), (3512, 0.004873549152484811), (2757, 0.0048645286497993245), (3667, 0.004859786249700195), (2998, 0.004771361486036764), (3925, 0.004730720575306162), (2529, 0.0046135610378575005), (2379, 0.004586793227764437), (2937, 0.004563816216931776), (3523, 0.004556076518363082), (2764, 0.004528004245694128), (3672, 0.004516205973697776), (2137, 0.004504593521012238), (3139, 0.004499784653826373), (4082, 0.004489817105417472), (2722, 0.004461700145484724), (2189, 0.004461403193976933), (4202, 0.004444082458817051), (3040, 0.004438466131453896), (2989, 0.004428596537569405), (2251, 0.004422101822809948), (2349, 0.004400552782663142), (1145, 0.004394894505165292), (2407, 0.004393304744216319), (3990, 0.004386881695178891), (2537, 0.0043599204574884375), (4704, 0.004341860834049313), (735, 0.004339887256190068), (3055, 0.004324770482039037), (4017, 0.004312907119091718), (2870, 0.004308485163302323), (3042, 0.004306310716130787), (2883, 0.004300918198061219), (3635, 0.004297001848344558), (2923, 0.004282251138373892), (2731, 0.004266175768117327), (4749, 0.004265306795945141), (4529, 0.004261366133669034), (2484, 0.0042495195765434), (4221, 0.004249299905641994), (3479, 0.004244456254529224), (4611, 0.004236318927285899), (2673, 0.004227918980287822), (2861, 0.004212685361010322), (2655, 0.004211874480577485), (4172, 0.0042016801054898505), (2559, 0.004178006785646743), (4418, 0.004174160806098), (2832, 0.004170959934047416), (4444, 0.004163315069835961), (2628, 0.004160579588350348), (4407, 0.004157215070893773), (2448, 0.004150686661120586), (2392, 0.004149761313137244), (3292, 0.004148927823081284), (3892, 0.00413159628285562), (2425, 0.00411911015685949), (2643, 0.004110425541312329), (4546, 0.004108201617599745), (2255, 0.004100459549775875), (2257, 0.004091923954536463), (3322, 0.004090430496912069), (2350, 0.004084018441757488), (2901, 0.004080568550126122), (4230, 0.004072295336696891), (4142, 0.004063387074089331), (2838, 0.004061713928090048), (1208, 0.004051965247649756), (4400, 0.004051537216384767), (2530, 0.004039512792263454), (4102, 0.004035390814854551), (3848, 0.004032194314987508), (3015, 0.004027436316871057), (4606, 0.004023639499541031), (2306, 0.004021083810677151), (3128, 0.004006357064554254), (2423, 0.004005364796551796), (526, 0.0039965799356319045), (1711, 0.0039855806624775995), (3687, 0.003969649670476902), (4544, 0.0039647970600701805), (2834, 0.003943018080828804), (3537, 0.00394211820671704), (2438, 0.003936715295564999), (4306, 0.003929322696760906), (3577, 0.003927774604481433), (3922, 0.00392344991055992), (3613, 0.00392014414838883), (670, 0.0039168159415689215), (3521, 0.00391543706614605), (2266, 0.003913424468466412), (4572, 0.0039006276609200473), (3074, 0.0038993523213029613), (4298, 0.0038991064061788855), (4443, 0.0038934100425965577), (326, 0.003892232969346721), (2797, 0.0038901271621567847), (2957, 0.003888246565086382), (2568, 0.003887089783515153), (3874, 0.003886465372820877), (4723, 0.0038859262997003007), (2488, 0.0038841546928719607), (3031, 0.0038823851078312287), (3832, 0.003879962175106459), (402, 0.0038744624857145315), (3302, 0.0038723881860367017), (4147, 0.003869915058792875), (3544, 0.0038687283646710634), (2459, 0.0038684330262745365), (1655, 0.003866068250271116), (2966, 0.003863625159879797), (3020, 0.0038583481160882264), (3228, 0.003857024197108763), (2415, 0.0038565673779815215), (4062, 0.003849501169546469), (3779, 0.003837826901599308), (2454, 0.0038378136977269923), (2993, 0.0038334567373298728), (3257, 0.003829617161163143), (2619, 0.0038273898781187067), (777, 0.003819885337105031), (3413, 0.0038174421804995436), (489, 0.003801966567025238), (2434, 0.003799523195761643), (4458, 0.0037905406945506386), (4490, 0.003769146301366653), (1049, 0.003768658815702836), (4280, 0.0037666421649940243), (3308, 0.0037626644587412106), (2986, 0.003759359115691315), (4717, 0.0037528087452513583), (4632, 0.0037469624702402243), (3763, 0.00374564256293249), (2613, 0.0037442285085701956), (2570, 0.0037406857189136917), (2378, 0.003740304683144378), (3621, 0.003739856881758831), (4584, 0.0037364797434150145), (1792, 0.003734981003514541), (4694, 0.003734336121713308), (1187, 0.003734124388347003), (1968, 0.0037324185918010443), (2707, 0.003730162891987066), (518, 0.0037259407022351312), (2720, 0.003724967706144706), (4412, 0.003723038788595611), (2417, 0.0037212437364755667), (1748, 0.0037210614190634666), (4030, 0.0037200127720286033), (1169, 0.0037196852269386774), (2846, 0.0037188658736713506), (3094, 0.0037187987921242114), (4032, 0.0037085541731947413), (4075, 0.003708484842108629), (3951, 0.003708453594882863), (3540, 0.0037069113317961247), (3359, 0.003698737112676394), (4126, 0.003698326915779045), (2320, 0.003694772242776781), (2696, 0.0036945763069415943), (3307, 0.0036918362581328376), (1947, 0.0036895090129916556), (2924, 0.0036859319752746427), (4163, 0.003684793831507293), (3729, 0.003683292829673269), (3425, 0.0036826063699234024), (1398, 0.003679180904220837), (4713, 0.003679173339823751), (3408, 0.003675390698061919), (4398, 0.0036725253601143665), (2987, 0.0036691503786853348), (2884, 0.0036689015161905027), (3419, 0.0036677860045094906), (3337, 0.003667193408051955), (3396, 0.003665931905695193), (3866, 0.00366352736251569), (823, 0.003663398907709338), (2872, 0.0036584517798780958), (3355, 0.0036564555389737895), (925, 0.003654439429888728), (4507, 0.003650561357026377), (3165, 0.0036504479056064295), (4267, 0.0036494752322860295), (2187, 0.0036476320977925207), (614, 0.0036465627473805124), (3952, 0.0036447517048784866), (847, 0.0036445873191299394), (4516, 0.003644484164259281), (1656, 0.0036438184268443325), (2796, 0.0036371942026187636), (3423, 0.003636615649976689), (3651, 0.0036357765007068543), (985, 0.0036356671841637224), (2702, 0.0036324989494143415), (4295, 0.003628704869808131), (4243, 0.0036181734763518648), (3296, 0.003614821257267889), (2223, 0.0036136796441682637), (3611, 0.0036111903452745557), (3867, 0.0036104918246928973), (2302, 0.0036099180971364965), (1909, 0.003607413745368014), (1843, 0.003604790113208526), (2893, 0.0036041870857061505), (3186, 0.0036036905427697763), (3960, 0.003603132767358542), (998, 0.003602951194128762), (1887, 0.0036016974039951768), (999, 0.0036000024296882023), (3148, 0.0035984469496380595), (2623, 0.0035979994795583767), (2914, 0.003594374254744746), (3680, 0.0035939648342520696), (235, 0.0035872956817332526), (3013, 0.003585306678418872), (737, 0.0035847127724949477), (1349, 0.0035810603980357815), (3274, 0.003580994225677733), (419, 0.003579530997187583), (2740, 0.0035784893811651817), (4368, 0.003576944996172912), (4333, 0.003576307798955057), (1489, 0.0035712715340442043), (3962, 0.0035694849772231812), (3822, 0.003568600667431424), (2974, 0.0035683041443213266), (4718, 0.003564494488525012), (3196, 0.003563918900138831), (4160, 0.003563403373361104), (2579, 0.0035624836092946095), (2916, 0.0035599781687319213), (1862, 0.003559495325933845), (1594, 0.003558428326501922), (3414, 0.0035576985987060238), (3146, 0.003555013832177576), (308, 0.0035540063625288205), (2356, 0.003552914210901074), (2436, 0.003552209444831557), (3737, 0.0035488935177555043), (3593, 0.0035478682998534004), (3804, 0.0035453568661371368), (2840, 0.003544741089455295), (3248, 0.003544552275291933), (444, 0.003541248391333581), (3273, 0.0035383341729719074), (2209, 0.0035383100479032645), (3157, 0.0035375459424179414), (2830, 0.0035371833290891645), (4397, 0.00353714489495762), (41, 0.0035364894934551677), (4706, 0.0035309877935981995), (4259, 0.003530287758813977), (3857, 0.003530052277931041), (2854, 0.003529737638674236), (2505, 0.0035296512572246578), (2108, 0.003527600731101106), (1109, 0.0035241990039151655), (3062, 0.003523587492311406), (2535, 0.003522592030320633), (688, 0.003520755929872311), (1658, 0.0035187365935935256), (2592, 0.00351851256046045), (3967, 0.0035134105128539705), (3026, 0.0035114315675576152), (857, 0.0035096678046199594), (967, 0.0035089509175079115), (1580, 0.003507063285055741), (2890, 0.00350703952946823), (2049, 0.0035038315074154367), (3116, 0.0034924998003319804), (1454, 0.00349087839749494), (476, 0.0034887713605281545), (3677, 0.003488694250101484), (2410, 0.0034866208281402813), (1479, 0.0034858501357951), (4308, 0.003485386777010365), (1733, 0.0034848072765906227), (4046, 0.003484206645835144), (3183, 0.0034803187073656214), (2624, 0.0034776775479008312), (3234, 0.003473990825508564), (318, 0.0034732803738733342), (1043, 0.0034731561199791696), (3497, 0.0034725577104255325), (3813, 0.0034677840554614486), (4732, 0.0034665242405280193), (1905, 0.0034650112072066495), (3044, 0.003464421001208311), (2293, 0.0034643450548986986), (4522, 0.003463562473846182), (350, 0.003460020393894528), (499, 0.0034587707954114436), (3064, 0.0034583033508889666), (2915, 0.0034562416829964607), (2748, 0.0034560657617509947), (3258, 0.0034559935965432333), (887, 0.0034558032306694496), (8, 0.003451615958290116), (4528, 0.003451567355078169), (2595, 0.0034472097081044333), (3889, 0.003446847779060337), (2888, 0.0034427775859421287), (2705, 0.0034413331349214993), (1959, 0.003437959624073594), (3269, 0.003437930994352462), (794, 0.0034347150199601135), (4734, 0.0034346935286686774), (3893, 0.003433446771091165), (4024, 0.0034321722999326922), (2116, 0.0034302158761903238), (3757, 0.0034284056103978298), (728, 0.0034279367631220355), (2494, 0.0034265834329089548), (4579, 0.0034257422370158044), (2776, 0.0034230341189137848), (3692, 0.0034220255457005208), (1907, 0.0034210537478151543), (4132, 0.0034210158373653267), (430, 0.003420823403635961), (4161, 0.0034191541746500633), (2475, 0.0034179124244675396), (3112, 0.00341759231836098), (1995, 0.0034175013584148654), (1359, 0.003415177869516839), (4540, 0.0034150137594732947), (4245, 0.00341473316134458), (991, 0.0034116036117817984), (395, 0.0034099254685735717), (4371, 0.0034081925752093827), (4495, 0.003404247074172382), (2786, 0.00340353620823654), (1537, 0.0034027183623639287), (4111, 0.003402363707409568), (2260, 0.0033998963934521714), (3728, 0.0033986085483504636), (4038, 0.0033978021994761085), (1712, 0.003397213772612667), (2940, 0.003397026874156581), (2949, 0.0033958737898356654), (2104, 0.0033942568909444528), (3780, 0.003393476262564441), (1324, 0.0033902421392190897), (2609, 0.0033899761971099554), (826, 0.003389561565563795), (3601, 0.0033895387285267442), (2664, 0.003388323187808427), (4357, 0.0033878732882337954), (2970, 0.00338765651802077), (1619, 0.0033870032528529885), (4169, 0.0033855008170292663), (3987, 0.0033850461157608016), (2105, 0.003384352279644938), (3434, 0.0033812198560665115), (3678, 0.00338113899078565), (74, 0.003380170490350714), (246, 0.0033799729190562887), (3590, 0.0033760816840853764), (623, 0.0033755394224765246), (612, 0.0033744176136009116), (2821, 0.003374040816659932), (930, 0.003373419075348675), (1951, 0.003372033970114273), (2361, 0.0033711565430359462), (3084, 0.003370870700104639), (3314, 0.00337075749600031), (4471, 0.003370308460465762), (4054, 0.0033700440714313717), (3326, 0.0033661735549549115), (4505, 0.003364154487060015), (4575, 0.003362794853200694), (2288, 0.0033617435934847426), (2755, 0.003360707538565161), (2610, 0.003358821961735774), (4318, 0.0033584051390499175), (1822, 0.003355014171214933), (3037, 0.0033548062410378894), (4, 0.003353409758805672), (470, 0.003352035436058294), (2878, 0.003350283977256454), (1916, 0.0033492098857981277), (2394, 0.0033489180725986625), (3511, 0.0033455283647875205), (3882, 0.0033449620682390073), (3187, 0.0033445511378196735), (178, 0.0033433825583511273), (1570, 0.0033424638574095634), (2419, 0.003339062515380666), (3372, 0.0033379009818392453), (3242, 0.0033368147236558553), (1643, 0.003336693418667359), (1188, 0.003335883239968773), (1402, 0.0033327328287446854), (2088, 0.003329859392916696), (255, 0.003328141062921468), (4430, 0.0033275884973452), (4497, 0.003327462524247721), (845, 0.0033273198829999384), (3150, 0.0033252934186441914), (4354, 0.003324774490491652), (3770, 0.003323540043226467), (3919, 0.0033224062577416258), (211, 0.0033220520207979036), (1660, 0.0033207218878002075), (1006, 0.003320445844411554), (3599, 0.003318470330006867), (3514, 0.0033179712662857277), (3351, 0.0033170684221633245), (4629, 0.0033155067761580677), (3845, 0.003315055701781031), (2601, 0.0033145755314210514), (717, 0.0033143701473857534), (4419, 0.0033133154557573367), (1475, 0.003313254311342814), (2545, 0.003311229914165332), (2370, 0.0033111772487186336), (3224, 0.0033089362028356196), (1851, 0.0033088133247225135), (2911, 0.003307744237704101), (4361, 0.003306625460553008), (2405, 0.003305563433590716), (3353, 0.0033042059765422647), (551, 0.0033007364992323133), (4625, 0.003300005053565876), (3666, 0.0033000023541106707), (4262, 0.0032996255186752647), (4756, 0.0032988904269191776), (3349, 0.003297360125495458), (987, 0.0032965121261283657), (4079, 0.0032946998163721378), (2744, 0.003293903678161512), (3920, 0.0032920280939246816), (11, 0.003291190974087277), (3689, 0.003287398653862517), (4340, 0.0032871074003750188), (3527, 0.003285321478401812), (4334, 0.003284874985502943), (4287, 0.003283514670546382), (3198, 0.0032832428401377857), (4249, 0.003279277222560005), (2988, 0.0032779872706791093), (2863, 0.0032770061845122616), (3636, 0.003275302327127894), (377, 0.003274670869106232), (1494, 0.0032741902005521215), (1516, 0.0032731453695267893), (3290, 0.0032707469419538124), (3233, 0.003269640168220164), (631, 0.0032678274626311175), (1768, 0.003267673885423142), (176, 0.0032657697989354304), (2466, 0.0032640024300421826), (865, 0.0032634088198576247), (3016, 0.0032627517197357887), (2894, 0.0032615044602985455), (4563, 0.003259051203218437), (3701, 0.003258284364956651), (4098, 0.003257833590220102), (3289, 0.003257142003250626), (3225, 0.0032568899628630204), (3809, 0.0032563235721170575), (3445, 0.0032549219557803863), (2977, 0.003254215574713653), (4533, 0.0032527511359068495), (4273, 0.0032523352136162266), (3571, 0.0032499331305818496), (2386, 0.003249373680564473), (1174, 0.003249112620975229), (1936, 0.0032482942820720962), (1931, 0.0032472593489263624), (1077, 0.0032469283880201386), (933, 0.003245858483575464), (1176, 0.0032442433557843785), (1182, 0.003242662853196081), (406, 0.003242647761009432), (593, 0.003241700206203125), (3113, 0.003241638234067515), (1688, 0.0032408822545691718), (3606, 0.0032405368616738707), (4197, 0.003240037028702946), (3653, 0.003239787762762226), (4283, 0.0032397167117203074), (3283, 0.0032372691767115426), (2292, 0.0032370112954742663), (1122, 0.0032357308621628507), (850, 0.0032355591850327598), (2155, 0.0032337948277143883), (2397, 0.0032323648506360244), (3792, 0.003232110263454472), (1087, 0.0032311609094173885), (3643, 0.0032287607185728347), (2798, 0.0032274008676751154), (2313, 0.0032267716732364525), (4049, 0.0032255667833669876), (1204, 0.003224635200623888), (2430, 0.003224566949385498), (1533, 0.0032239471922974284), (4135, 0.003223316647714362), (2091, 0.0032224731253164846), (579, 0.003221779061171327), (2061, 0.0032190773592037903), (4014, 0.003215738541299125), (1472, 0.00321518739140128), (1872, 0.0032145333751634297), (3739, 0.0032131778335401174), (2652, 0.0032130850111113363), (4501, 0.003211006974663767), (2122, 0.003208509980351895), (2745, 0.003207987014866665), (1175, 0.0032074758594294018), (4137, 0.0032074093233896463), (2193, 0.003207147919533688), (2144, 0.0032058570887449505), (2109, 0.003203750797627585), (182, 0.003203579921172499), (343, 0.0032023386713611515), (993, 0.003201611318120373), (696, 0.003199072649833106), (2169, 0.0031987809139413406), (2492, 0.003198128220858969), (4686, 0.0031976130416654825), (504, 0.003197443959993879), (2533, 0.0031965869212930817), (4604, 0.0031954038724613287), (3125, 0.0031939352014028724), (378, 0.003191848392239486), (1223, 0.003190529577585458), (1131, 0.003188843286182083), (4715, 0.0031864360467133224), (1488, 0.003186227533927494), (2340, 0.0031861100186486753), (2831, 0.0031818881398160267), (1170, 0.0031818075298985183), (2354, 0.0031814053072062778), (114, 0.0031812594422237902), (749, 0.0031801472094882643), (761, 0.003178708651093546), (3478, 0.003178244039661779), (4427, 0.0031746695123795864), (3492, 0.0031743258576178704), (66, 0.0031720370790018475), (3665, 0.0031706730720250293), (4320, 0.003170165260224293), (3346, 0.0031697879795988385), (3174, 0.0031697515838374447), (79, 0.00316832638289219), (2900, 0.003168129855019717), (2943, 0.003166813982135468), (1021, 0.0031657884958140683), (3673, 0.003165364954698651), (4511, 0.0031611095963280287), (1298, 0.00316062888557824), (2999, 0.0031602145606532766), (4409, 0.0031594352208930863), (3299, 0.003158152149452927), (346, 0.003158102669663326), (2289, 0.003156228029706773), (1102, 0.0031543364134365296), (3477, 0.0031515284829163747), (1634, 0.0031500169607175817), (400, 0.003149055820251314), (3624, 0.0031487856795315967), (1072, 0.003147894955465486), (4520, 0.0031462498702610857), (1059, 0.0031460566226524907), (3565, 0.003145413130672957), (247, 0.003142481564648858), (464, 0.0031415313094047548), (1411, 0.0031406313202681784), (2569, 0.003140477582142611), (3381, 0.003140286084711628), (1500, 0.0031402606630688773), (3237, 0.0031391685074313494), (1598, 0.003137379579276588), (769, 0.0031366302912668176), (1550, 0.00313395236131384), (2416, 0.0031323930802053057), (1257, 0.0031318621067611178), (973, 0.0031312453207749153), (4487, 0.0031312352549578287), (2173, 0.0031296535014142825), (3093, 0.0031278303457314633), (2946, 0.003127793662575541), (3195, 0.003127686727128915), (3906, 0.0031269904543516735), (3647, 0.003126976160308068), (4349, 0.0031251963899392127), (2463, 0.003124071774595149), (215, 0.0031223823916886463), (3499, 0.0031222601723775705), (4685, 0.003120318093595902), (1026, 0.003118721830620926), (3260, 0.0031182797616928775), (1319, 0.003118166256900801), (119, 0.0031181382384096994), (3046, 0.0031172048795207255), (2980, 0.003117040518558432), (3827, 0.0031161868496053257), (3379, 0.003115969656365615), (1286, 0.0031157831688973093), (1882, 0.0031139930560257186), (2111, 0.003113213913994917), (98, 0.0031121050906640817), (4362, 0.0031119831476533705), (26, 0.003109737332384813), (4530, 0.0031082933487149235), (2226, 0.0031077556285993586), (2802, 0.003107752247768575), (4687, 0.003107670370722272), (3447, 0.0031056439806147356), (4036, 0.0031054233019164137), (4641, 0.003104755162327675), (3719, 0.003102136981089631), (4309, 0.003102053143220652), (2909, 0.0030996794232073252), (3402, 0.00309712543552813), (1350, 0.003095879881266278), (2103, 0.0030947344937535164), (1422, 0.0030945031609123114), (693, 0.0030933542432772234), (1096, 0.003091988185906793), (358, 0.0030910592486077903), (2401, 0.00308882135235386), (755, 0.0030886990493612784), (4693, 0.003087248626604944), (4576, 0.0030869604020165075), (3075, 0.0030867182724983754), (522, 0.003085114340997245), (292, 0.003083574280075777), (349, 0.0030824875963460486), (4381, 0.003081176192419993), (4550, 0.003081108806892004), (4573, 0.003081033481855573), (1261, 0.0030771668644045966), (4129, 0.003076310275060511), (3348, 0.003075768877558953), (817, 0.003075634836088389), (3890, 0.0030748152022097375), (488, 0.003074153924129574), (4382, 0.003073242731495147), (3028, 0.0030712808284888296), (2571, 0.0030706404848218896), (3298, 0.0030700989237977226), (4336, 0.0030699032212523113), (2612, 0.0030695041269374218), (2268, 0.003069475330232562), (3641, 0.003069474317361627), (4139, 0.003069083317566936), (651, 0.0030684327234680635), (4504, 0.0030674757962023333), (2653, 0.0030669555994099085), (1060, 0.0030664596798837197), (2467, 0.0030663681407793984), (3010, 0.0030647741868139924), (4461, 0.003059651103533126), (3917, 0.003057304015095744), (3352, 0.0030563725585125937), (646, 0.0030563592492000085), (1117, 0.003053188467552226), (4729, 0.0030528643466070098), (620, 0.0030525846255253634), (782, 0.003049777851279112), (2117, 0.003048606988616748), (3503, 0.0030476160212611035), (1446, 0.003045700404212282), (4670, 0.0030444416766149023), (1034, 0.0030436565397851567), (487, 0.003042457322156931), (3868, 0.0030410329164413793), (4523, 0.0030403250958951984), (852, 0.0030402236375724045), (2143, 0.003038691856111332), (4567, 0.003037569074413855), (1416, 0.003037164767728578), (3315, 0.0030361119661997797), (2309, 0.0030360247958806513), (3214, 0.003034232782194974), (2779, 0.0030339971820019587), (3268, 0.0030334134754554823), (854, 0.003033160706044992), (798, 0.0030329929227053258), (1744, 0.003031974722595133), (157, 0.003026928051499369), (2473, 0.0030268531168436037), (29, 0.0030265930319477705), (3035, 0.0030256562640884384), (4085, 0.0030249646861670258), (3691, 0.003024239607259659), (164, 0.003024220017239376), (3170, 0.0030235820929332166), (3036, 0.003021683331315936), (2706, 0.003021539226932253), (2765, 0.003021040193205787), (505, 0.003019263380375392), (644, 0.003019188788165287), (437, 0.0030157099197650515), (767, 0.003014886961335188), (2859, 0.0030131953821421384), (3799, 0.003012714917464538), (2995, 0.0030121752387638075), (911, 0.003011009384192532), (2679, 0.003007463340117447), (203, 0.003007233069417163), (2651, 0.0030069873013250396), (2133, 0.003006150658893101), (3646, 0.0030052313680531714), (1404, 0.003004279717878503), (2997, 0.0030040210951714132), (1759, 0.003002986857722055), (2800, 0.003002738878067714), (1032, 0.0030018657169041283), (966, 0.003000817297192832), (3014, 0.0030003441856952893), (3194, 0.0029998429922035753), (578, 0.0029996041376127327), (3954, 0.0029995547067027573), (3734, 0.002997630369059118), (3811, 0.0029961648918807172), (1663, 0.0029941302557798697), (3615, 0.0029929139269994384), (3433, 0.002992604547082777), (31, 0.002989039742391375), (694, 0.0029887252131032345), (2899, 0.0029876708876364795), (2004, 0.0029871340533660783), (3300, 0.0029867392326535765), (4011, 0.002984845874875947), (507, 0.0029842752734590403), (4254, 0.0029842158848104256), (1203, 0.002984096085445301), (1693, 0.0029840935677096798), (3057, 0.0029815118761715473), (886, 0.002979616726308488), (140, 0.0029771462068190198), (3071, 0.002976908701473418), (941, 0.002976734485602579), (3243, 0.0029767230324652927), (734, 0.002976511493588331), (2496, 0.002972207201897035), (900, 0.0029716028118293106), (1206, 0.0029710603958000665), (2099, 0.0029706303885394052), (1884, 0.0029705986702174155), (2149, 0.0029695757948266024), (4634, 0.0029656457282568483), (4603, 0.0029646570420196337), (3452, 0.002963640767509893), (229, 0.0029630488185830237), (2862, 0.002961948961170353), (372, 0.0029613040752147447), (598, 0.0029612344016750262), (1819, 0.0029609709630215924), (3725, 0.002959312543805511), (3147, 0.002958768889608797), (1555, 0.002958705771185147), (410, 0.0029568454165166034), (2201, 0.0029565423529807748), (4591, 0.002955932612675791), (838, 0.0029553144946259783), (1558, 0.0029544215272316924), (2528, 0.002951479712095257), (1456, 0.0029500025260068936), (3500, 0.0029486397963188167), (2907, 0.0029476115443290785), (1641, 0.002947244330817411), (2556, 0.002947049256698976), (2129, 0.0029449738559851196), (399, 0.002944969016842779), (1642, 0.0029415022026920822), (1514, 0.0029413555787592537), (766, 0.002940742236298488), (2317, 0.0029407247297706524), (3627, 0.002940677901082753), (4402, 0.002938816416038464), (1448, 0.00293671326359562), (4616, 0.002935910629368148), (2735, 0.0029344635771162073), (3558, 0.0029341894524858325), (2399, 0.002933760557663473), (2593, 0.0029323037096027865), (3369, 0.0029316133179213655), (3839, 0.002931504189164421), (1477, 0.002931475385542689), (355, 0.0029306365893685244), (899, 0.002929745847123951), (2482, 0.002929546589808167), (324, 0.0029293282797197293), (638, 0.0029292582621582067), (1357, 0.0029288949790570126), (4479, 0.0029271978400747735), (2674, 0.0029256467351825815), (4282, 0.0029255914209194746), (3389, 0.0029230490257341622), (4348, 0.0029227787572071056), (907, 0.0029227418681027147), (1079, 0.0029226859316705167), (4176, 0.0029224313014151733), (2347, 0.002921653755020613), (2453, 0.002921078197224648), (4649, 0.0029187666782727537), (1875, 0.0029185707984365475), (3455, 0.0029182410204874926), (3876, 0.0029174130481165734), (457, 0.0029170177055570833), (1308, 0.0029159068772965217), (524, 0.002915633819640641), (1462, 0.002915144662556994), (183, 0.002914809034664101), (2362, 0.0029133792921536), (416, 0.0029124505887155932), (3050, 0.002911861234261675), (4277, 0.002911122604069913), (1628, 0.002908071227474487), (624, 0.0029070498347165876), (3329, 0.002905563317169855), (3742, 0.002903072113045408), (1434, 0.0029017223500324447), (465, 0.0029015813767070252), (4638, 0.002899192320303721), (1730, 0.002897560657846677), (2728, 0.0028929163418837758), (3953, 0.0028917471153035363), (2011, 0.0028899773661465234), (3474, 0.002887959721349672), (1528, 0.0028867354175192254), (2265, 0.0028852679644345894), (1538, 0.0028848539318563106), (2236, 0.0028840254991447803), (608, 0.0028809823340118896), (968, 0.0028790110111204903), (1869, 0.002877574953003912), (3614, 0.002876745615961562), (449, 0.0028744333001821352), (1826, 0.0028739590089842913), (1605, 0.002871300527940941), (428, 0.0028694219022681123), (1161, 0.002868967898027564), (2323, 0.0028681159855461448), (1366, 0.0028669089407455943), (563, 0.0028658827817376405), (4350, 0.002864682357244195), (581, 0.0028641001168634387), (4712, 0.0028630778707655455), (2741, 0.0028616482453803905), (1080, 0.0028611522411438987), (3336, 0.0028606625421770202), (3974, 0.002860599483434702), (4074, 0.0028601897980492647), (2457, 0.0028589555038503072), (804, 0.002858575858390627), (1625, 0.00285790985556136), (2248, 0.0028573022438597787), (161, 0.0028567669093480627), (3863, 0.0028559586531076825), (722, 0.002855775046640886), (4304, 0.0028524929234016875), (2591, 0.002851366897175547), (1980, 0.0028506527426553335), (1808, 0.0028503440019905686), (4080, 0.002849695501605295), (1004, 0.0028487116740022874), (3167, 0.002846277818292519), (917, 0.00284481595661159), (3795, 0.0028430216750475646), (3556, 0.0028417598447076755), (4205, 0.00283880079475134), (2580, 0.002838274495846108), (1934, 0.002837847553449398), (268, 0.0028346747438999873), (1318, 0.0028344810576544552), (2213, 0.0028342281315892593), (672, 0.002834036949500354), (3360, 0.0028231419294539005), (1009, 0.0028194971643212417), (1830, 0.002816120212198575), (1394, 0.0028158494114416902), (1954, 0.0028153675785159552), (705, 0.0028136949848263423), (1251, 0.0028124065048178142), (4343, 0.002811202579989601), (495, 0.0028110299966306713), (3755, 0.0028089055639353953), (33, 0.0028087506013468296), (519, 0.0028062146904932663), (1553, 0.0028049827130817075), (2502, 0.0028041284712969497), (184, 0.00279870296856997), (92, 0.0027969718937585226), (605, 0.0027965876428444982), (3, 0.0027940145067739475), (2975, 0.002792204357275527), (4066, 0.002791099463378101), (97, 0.0027891193999730365), (480, 0.002788896019672516), (647, 0.0027885881281718696), (3894, 0.002787382273736226), (32, 0.002787123144268193), (1136, 0.0027863116745656283), (4156, 0.0027859725726164576), (317, 0.0027829376371717443), (3895, 0.002782206215389296), (3880, 0.0027728267452071793), (4296, 0.002768379352290995), (4473, 0.0027680365730791204), (3096, 0.002762745642045988), (4429, 0.002759532972098069), (1217, 0.0027592266494718145), (2520, 0.0027551558413688084), (1764, 0.0027549330505388867), (2747, 0.0027539125175933014), (103, 0.0027528089941879523), (4748, 0.0027525666039857895), (2942, 0.002750199003569589), (1397, 0.0027484271187732247), (165, 0.002747462918588997), (2270, 0.0027460532159015146), (357, 0.0027426197901781442), (4386, 0.00274109190971235), (1370, 0.002740423537567656), (861, 0.0027368596263158845), (3238, 0.002735135526537878), (2761, 0.0027350028069091153), (364, 0.002734253528285726), (2527, 0.002733525727991198), (3393, 0.0027334557741144133), (3629, 0.0027295129673872765), (286, 0.002727305011945786), (4627, 0.0027271343672351156), (2611, 0.0027266417410699195), (3569, 0.002724937632476501), (4411, 0.0027228005115997236), (2382, 0.0027225494410281176), (1763, 0.002721669882084665), (445, 0.0027207917128404344), (1215, 0.0027204541991654413), (4476, 0.002719622728994102), (1088, 0.0027168827896347776), (4344, 0.002716804336234636), (1627, 0.0027167817185587144), (1565, 0.0027166371679226125), (2146, 0.0027161025539333217), (3376, 0.0027139851867152964), (496, 0.0027134187056900676), (3579, 0.0027128785868298397), (1691, 0.0027118571411175944), (1352, 0.0026997147704329867), (3065, 0.002699578485977409), (1340, 0.0026990963823743355), (2933, 0.0026990654629122797), (1202, 0.002695852155159585), (3669, 0.0026934078542946156), (267, 0.002693372542288392), (2035, 0.0026924561189692648), (3668, 0.0026901258706369664), (175, 0.002683716909950041), (951, 0.002683029246845221), (3657, 0.0026820662346455954), (4636, 0.002680204573152547), (707, 0.002673219722106101), (195, 0.0026714105430663566), (196, 0.002669530188375936), (2603, 0.0026693323299135617), (1801, 0.002669117206983529), (3821, 0.0026654121998015033), (3091, 0.0026602298903168234), (2132, 0.0026552009877051), (3928, 0.002654822823154005), (1367, 0.002654117879696781), (4733, 0.0026518805391626253), (2985, 0.002651004090882007), (2355, 0.002649681544771026), (3331, 0.002649348548706428), (16, 0.0026490206812606666), (616, 0.0026485643273815216), (1209, 0.002648504490576321), (3252, 0.0026482824555541713), (2481, 0.0026467270423859066), (44, 0.002645653741639705), (3927, 0.002645401334150004), (796, 0.0026386403663082947), (2969, 0.002635993175935711), (442, 0.002635307862039274), (3024, 0.002629134240273873), (1305, 0.002627485661620848), (441, 0.0026263827073852598), (2844, 0.002624937086791659), (2034, 0.0026184636217971586), (3548, 0.002613617066313812), (3751, 0.0026122702243549637), (2509, 0.0026118010650658017), (1427, 0.0026053238605416407), (1415, 0.0026039559928421694), (1464, 0.0026034284102070524), (2526, 0.0026004077457590967), (412, 0.0025965366927318398), (1950, 0.0025960362642269918), (645, 0.002595798436561168), (1624, 0.0025862824807386144), (4311, 0.0025821457171481097), (4626, 0.002569578205118335), (691, 0.002568717726196968), (3575, 0.0025676279111818455), (3410, 0.0025575538245646246), (3431, 0.0025522181707482534), (407, 0.0025501106557555657), (1144, 0.002533902685899356), (63, 0.0025294526287538473), (309, 0.002527881575688075), (3471, 0.002527027694957221), (1886, 0.002526131304610591), (706, 0.0025243643239944366), (2766, 0.0025218639769283725), (3362, 0.002516701043667237), (527, 0.0025160982283134996), (2010, 0.002509899397815193), (4598, 0.0024934194618256226), (3301, 0.0024888250271333815), (2469, 0.00248836568441136), (159, 0.0024874473214037645), (3152, 0.0024801387747662175), (1747, 0.002473387242435225), (3199, 0.0024612036966243423), (571, 0.002450469878270815), (3316, 0.002444796460606609), (1403, 0.002441884603329626), (2760, 0.0024394237391370975), (2474, 0.0024383971342909426), (271, 0.0024357350826407077), (453, 0.0024302934265807105), (351, 0.0024247984241216425), (452, 0.002393747552415391), (3285, 0.0023893182121357526), (4445, 0.002385932709464885), (3983, 0.0023810273599577797), (1277, 0.0023767014340421205), (2550, 0.0023766204308547675), (1648, 0.0023734699109947736), (3546, 0.002371208194927258), (4301, 0.0023580028438250256), (7, 0.002283125213724728), (641, 0.0022759293394330835), (293, 0.002259811889559225), (4171, 0.0022461861808012614), (243, 0.002237575494708301), (940, 0.00222431002154612), (3458, 0.002177425362155761), (858, 0.0021459380091354103), (202, 0.0020854714257959378), (1780, 0.0020732813260462644), (3608, 0.0020701432700087363), (787, 0.0019440348716964482), (3835, 0.001914161576808772), (2538, 0.0019016364357825224), (1, 0.0), (9, 0.0), (13, 0.0), (14, 0.0), (22, 0.0), (28, 0.0), (36, 0.0), (49, 0.0), (54, 0.0), (57, 0.0), (58, 0.0), (76, 0.0), (77, 0.0), (100, 0.0), (101, 0.0), (110, 0.0), (117, 0.0), (130, 0.0), (131, 0.0), (133, 0.0), (134, 0.0), (135, 0.0), (141, 0.0), (150, 0.0), (151, 0.0), (153, 0.0), (155, 0.0), (171, 0.0), (177, 0.0), (186, 0.0), (188, 0.0), (189, 0.0), (205, 0.0), (220, 0.0), (230, 0.0), (231, 0.0), (232, 0.0), (239, 0.0), (240, 0.0), (258, 0.0), (259, 0.0), (260, 0.0), (261, 0.0), (263, 0.0), (265, 0.0), (275, 0.0), (277, 0.0), (284, 0.0), (288, 0.0), (289, 0.0), (290, 0.0), (297, 0.0), (299, 0.0), (310, 0.0), (312, 0.0), (313, 0.0), (323, 0.0), (328, 0.0), (331, 0.0), (335, 0.0), (338, 0.0), (339, 0.0), (362, 0.0), (363, 0.0), (365, 0.0), (375, 0.0), (379, 0.0), (382, 0.0), (383, 0.0), (384, 0.0), (398, 0.0), (401, 0.0), (405, 0.0), (411, 0.0), (413, 0.0), (414, 0.0), (423, 0.0), (424, 0.0), (426, 0.0), (459, 0.0), (460, 0.0), (462, 0.0), (467, 0.0), (468, 0.0), (469, 0.0), (484, 0.0), (491, 0.0), (498, 0.0), (506, 0.0), (517, 0.0), (520, 0.0), (521, 0.0), (525, 0.0), (528, 0.0), (529, 0.0), (536, 0.0), (540, 0.0), (549, 0.0), (552, 0.0), (554, 0.0), (557, 0.0), (559, 0.0), (561, 0.0), (567, 0.0), (583, 0.0), (586, 0.0), (592, 0.0), (599, 0.0), (600, 0.0), (601, 0.0), (602, 0.0), (615, 0.0), (619, 0.0), (630, 0.0), (634, 0.0), (639, 0.0), (640, 0.0), (650, 0.0), (656, 0.0), (662, 0.0), (663, 0.0), (666, 0.0), (671, 0.0), (677, 0.0), (679, 0.0), (681, 0.0), (690, 0.0), (699, 0.0), (702, 0.0), (704, 0.0), (708, 0.0), (711, 0.0), (720, 0.0), (723, 0.0), (725, 0.0), (726, 0.0), (730, 0.0), (738, 0.0), (746, 0.0), (762, 0.0), (763, 0.0), (768, 0.0), (771, 0.0), (775, 0.0), (778, 0.0), (781, 0.0), (784, 0.0), (785, 0.0), (786, 0.0), (793, 0.0), (797, 0.0), (803, 0.0), (807, 0.0), (812, 0.0), (819, 0.0), (821, 0.0), (836, 0.0), (839, 0.0), (840, 0.0), (849, 0.0), (855, 0.0), (873, 0.0), (877, 0.0), (881, 0.0), (882, 0.0), (892, 0.0), (906, 0.0), (919, 0.0), (920, 0.0), (945, 0.0), (946, 0.0), (950, 0.0), (954, 0.0), (956, 0.0), (958, 0.0), (960, 0.0), (961, 0.0), (964, 0.0), (970, 0.0), (974, 0.0), (978, 0.0), (982, 0.0), (983, 0.0), (995, 0.0), (996, 0.0), (1003, 0.0), (1008, 0.0), (1010, 0.0), (1014, 0.0), (1016, 0.0), (1028, 0.0), (1029, 0.0), (1062, 0.0), (1066, 0.0), (1070, 0.0), (1090, 0.0), (1093, 0.0), (1094, 0.0), (1095, 0.0), (1099, 0.0), (1103, 0.0), (1111, 0.0), (1113, 0.0), (1118, 0.0), (1126, 0.0), (1127, 0.0), (1129, 0.0), (1130, 0.0), (1135, 0.0), (1139, 0.0), (1142, 0.0), (1143, 0.0), (1146, 0.0), (1147, 0.0), (1151, 0.0), (1153, 0.0), (1154, 0.0), (1156, 0.0), (1158, 0.0), (1165, 0.0), (1166, 0.0), (1167, 0.0), (1171, 0.0), (1181, 0.0), (1189, 0.0), (1190, 0.0), (1193, 0.0), (1198, 0.0), (1201, 0.0), (1207, 0.0), (1210, 0.0), (1212, 0.0), (1222, 0.0), (1235, 0.0), (1240, 0.0), (1242, 0.0), (1253, 0.0), (1262, 0.0), (1263, 0.0), (1268, 0.0), (1269, 0.0), (1272, 0.0), (1278, 0.0), (1279, 0.0), (1280, 0.0), (1281, 0.0), (1285, 0.0), (1287, 0.0), (1289, 0.0), (1291, 0.0), (1293, 0.0), (1296, 0.0), (1311, 0.0), (1315, 0.0), (1321, 0.0), (1322, 0.0), (1323, 0.0), (1327, 0.0), (1328, 0.0), (1329, 0.0), (1331, 0.0), (1333, 0.0), (1336, 0.0), (1345, 0.0), (1346, 0.0), (1353, 0.0), (1354, 0.0), (1358, 0.0), (1361, 0.0), (1363, 0.0), (1376, 0.0), (1379, 0.0), (1386, 0.0), (1389, 0.0), (1390, 0.0), (1395, 0.0), (1396, 0.0), (1399, 0.0), (1405, 0.0), (1407, 0.0), (1418, 0.0), (1424, 0.0), (1428, 0.0), (1437, 0.0), (1441, 0.0), (1444, 0.0), (1447, 0.0), (1449, 0.0), (1453, 0.0), (1460, 0.0), (1469, 0.0), (1470, 0.0), (1473, 0.0), (1482, 0.0), (1485, 0.0), (1486, 0.0), (1490, 0.0), (1491, 0.0), (1492, 0.0), (1493, 0.0), (1496, 0.0), (1505, 0.0), (1508, 0.0), (1512, 0.0), (1515, 0.0), (1517, 0.0), (1521, 0.0), (1522, 0.0), (1523, 0.0), (1524, 0.0), (1529, 0.0), (1531, 0.0), (1532, 0.0), (1546, 0.0), (1548, 0.0), (1549, 0.0), (1551, 0.0), (1552, 0.0), (1557, 0.0), (1561, 0.0), (1563, 0.0), (1564, 0.0), (1566, 0.0), (1568, 0.0), (1573, 0.0), (1579, 0.0), (1583, 0.0), (1584, 0.0), (1586, 0.0), (1589, 0.0), (1590, 0.0), (1596, 0.0), (1599, 0.0), (1600, 0.0), (1601, 0.0), (1604, 0.0), (1607, 0.0), (1609, 0.0), (1610, 0.0), (1613, 0.0), (1614, 0.0), (1615, 0.0), (1618, 0.0), (1635, 0.0), (1636, 0.0), (1639, 0.0), (1640, 0.0), (1644, 0.0), (1647, 0.0), (1651, 0.0), (1652, 0.0), (1654, 0.0), (1662, 0.0), (1664, 0.0), (1668, 0.0), (1676, 0.0), (1684, 0.0), (1686, 0.0), (1692, 0.0), (1695, 0.0), (1696, 0.0), (1699, 0.0), (1702, 0.0), (1704, 0.0), (1709, 0.0), (1713, 0.0), (1714, 0.0), (1715, 0.0), (1718, 0.0), (1720, 0.0), (1723, 0.0), (1726, 0.0), (1728, 0.0), (1729, 0.0), (1734, 0.0), (1737, 0.0), (1745, 0.0), (1746, 0.0), (1749, 0.0), (1750, 0.0), (1752, 0.0), (1753, 0.0), (1755, 0.0), (1757, 0.0), (1766, 0.0), (1767, 0.0), (1769, 0.0), (1770, 0.0), (1771, 0.0), (1772, 0.0), (1773, 0.0), (1777, 0.0), (1778, 0.0), (1785, 0.0), (1787, 0.0), (1788, 0.0), (1790, 0.0), (1791, 0.0), (1795, 0.0), (1799, 0.0), (1800, 0.0), (1803, 0.0), (1809, 0.0), (1820, 0.0), (1823, 0.0), (1825, 0.0), (1836, 0.0), (1837, 0.0), (1838, 0.0), (1839, 0.0), (1842, 0.0), (1846, 0.0), (1856, 0.0), (1863, 0.0), (1867, 0.0), (1868, 0.0), (1879, 0.0), (1880, 0.0), (1888, 0.0), (1889, 0.0), (1894, 0.0), (1898, 0.0), (1899, 0.0), (1903, 0.0), (1904, 0.0), (1910, 0.0), (1913, 0.0), (1914, 0.0), (1915, 0.0), (1917, 0.0), (1925, 0.0), (1926, 0.0), (1927, 0.0), (1932, 0.0), (1938, 0.0), (1939, 0.0), (1944, 0.0), (1957, 0.0), (1962, 0.0), (1965, 0.0), (1966, 0.0), (1972, 0.0), (1978, 0.0), (1979, 0.0), (1982, 0.0), (1988, 0.0), (1999, 0.0), (2001, 0.0), (2003, 0.0), (2006, 0.0), (2007, 0.0), (2012, 0.0), (2015, 0.0), (2018, 0.0), (2020, 0.0), (2021, 0.0), (2025, 0.0), (2030, 0.0), (2032, 0.0), (2041, 0.0), (2042, 0.0), (2043, 0.0), (2050, 0.0), (2052, 0.0), (2054, 0.0), (2058, 0.0), (2059, 0.0), (2062, 0.0), (2063, 0.0), (2078, 0.0), (2079, 0.0), (2081, 0.0), (2085, 0.0), (2090, 0.0), (2098, 0.0), (2100, 0.0), (2113, 0.0), (2114, 0.0), (2120, 0.0), (2124, 0.0), (2125, 0.0), (2138, 0.0), (2139, 0.0), (2140, 0.0), (2145, 0.0), (2147, 0.0), (2153, 0.0), (2156, 0.0), (2160, 0.0), (2164, 0.0), (2170, 0.0), (2171, 0.0), (2172, 0.0), (2175, 0.0), (2179, 0.0), (2180, 0.0), (2185, 0.0), (2186, 0.0), (2197, 0.0), (2200, 0.0), (2202, 0.0), (2203, 0.0), (2204, 0.0), (2215, 0.0), (2217, 0.0), (2220, 0.0), (2232, 0.0), (2233, 0.0), (2234, 0.0), (2238, 0.0), (2243, 0.0), (2244, 0.0), (2261, 0.0), (2262, 0.0), (2267, 0.0), (2271, 0.0), (2274, 0.0), (2281, 0.0), (2282, 0.0), (2297, 0.0), (2298, 0.0), (2300, 0.0), (2305, 0.0), (2307, 0.0), (2312, 0.0), (2322, 0.0), (2325, 0.0), (2326, 0.0), (2328, 0.0), (2329, 0.0), (2330, 0.0), (2332, 0.0), (2333, 0.0), (2335, 0.0), (2337, 0.0), (2339, 0.0), (2341, 0.0), (2343, 0.0), (2351, 0.0), (2352, 0.0), (2353, 0.0), (2357, 0.0), (2358, 0.0), (2364, 0.0), (2365, 0.0), (2366, 0.0), (2368, 0.0), (2371, 0.0), (2372, 0.0), (2373, 0.0), (2376, 0.0), (2380, 0.0), (2381, 0.0), (2389, 0.0), (2395, 0.0), (2398, 0.0), (2408, 0.0), (2409, 0.0), (2413, 0.0), (2420, 0.0), (2426, 0.0), (2431, 0.0), (2433, 0.0), (2435, 0.0), (2439, 0.0), (2449, 0.0), (2450, 0.0), (2451, 0.0), (2458, 0.0), (2460, 0.0), (2470, 0.0), (2471, 0.0), (2476, 0.0), (2479, 0.0), (2480, 0.0), (2483, 0.0), (2485, 0.0), (2491, 0.0), (2493, 0.0), (2497, 0.0), (2499, 0.0), (2500, 0.0), (2501, 0.0), (2506, 0.0), (2508, 0.0), (2510, 0.0), (2511, 0.0), (2515, 0.0), (2516, 0.0), (2517, 0.0), (2521, 0.0), (2523, 0.0), (2532, 0.0), (2536, 0.0), (2541, 0.0), (2543, 0.0), (2544, 0.0), (2548, 0.0), (2562, 0.0), (2564, 0.0), (2567, 0.0), (2573, 0.0), (2576, 0.0), (2577, 0.0), (2578, 0.0), (2583, 0.0), (2584, 0.0), (2594, 0.0), (2596, 0.0), (2597, 0.0), (2599, 0.0), (2604, 0.0), (2605, 0.0), (2608, 0.0), (2615, 0.0), (2618, 0.0), (2620, 0.0), (2631, 0.0), (2639, 0.0), (2641, 0.0), (2644, 0.0), (2648, 0.0), (2656, 0.0), (2658, 0.0), (2659, 0.0), (2663, 0.0), (2666, 0.0), (2667, 0.0), (2672, 0.0), (2675, 0.0), (2676, 0.0), (2681, 0.0), (2684, 0.0), (2688, 0.0), (2690, 0.0), (2691, 0.0), (2693, 0.0), (2700, 0.0), (2701, 0.0), (2703, 0.0), (2704, 0.0), (2708, 0.0), (2709, 0.0), (2710, 0.0), (2711, 0.0), (2713, 0.0), (2715, 0.0), (2717, 0.0), (2719, 0.0), (2726, 0.0), (2734, 0.0), (2750, 0.0), (2754, 0.0), (2759, 0.0), (2763, 0.0), (2770, 0.0), (2773, 0.0), (2781, 0.0), (2793, 0.0), (2805, 0.0), (2806, 0.0), (2807, 0.0), (2811, 0.0), (2813, 0.0), (2816, 0.0), (2818, 0.0), (2819, 0.0), (2820, 0.0), (2823, 0.0), (2829, 0.0), (2835, 0.0), (2836, 0.0), (2837, 0.0), (2842, 0.0), (2852, 0.0), (2855, 0.0), (2856, 0.0), (2864, 0.0), (2866, 0.0), (2875, 0.0), (2880, 0.0), (2885, 0.0), (2891, 0.0), (2896, 0.0), (2905, 0.0), (2922, 0.0), (2927, 0.0), (2928, 0.0), (2935, 0.0), (2938, 0.0), (2947, 0.0), (2951, 0.0), (2952, 0.0), (2955, 0.0), (2956, 0.0), (2958, 0.0), (2960, 0.0), (2967, 0.0), (2982, 0.0), (2990, 0.0), (3001, 0.0), (3005, 0.0), (3006, 0.0), (3017, 0.0), (3025, 0.0), (3029, 0.0), (3034, 0.0), (3038, 0.0), (3039, 0.0), (3041, 0.0), (3047, 0.0), (3049, 0.0), (3053, 0.0), (3054, 0.0), (3058, 0.0), (3059, 0.0), (3060, 0.0), (3061, 0.0), (3066, 0.0), (3068, 0.0), (3077, 0.0), (3082, 0.0), (3083, 0.0), (3087, 0.0), (3088, 0.0), (3089, 0.0), (3090, 0.0), (3092, 0.0), (3098, 0.0), (3102, 0.0), (3103, 0.0), (3104, 0.0), (3105, 0.0), (3106, 0.0), (3114, 0.0), (3115, 0.0), (3117, 0.0), (3121, 0.0), (3124, 0.0), (3126, 0.0), (3130, 0.0), (3131, 0.0), (3132, 0.0), (3133, 0.0), (3134, 0.0), (3135, 0.0), (3138, 0.0), (3143, 0.0), (3144, 0.0), (3145, 0.0), (3161, 0.0), (3162, 0.0), (3163, 0.0), (3164, 0.0), (3168, 0.0), (3169, 0.0), (3172, 0.0), (3175, 0.0), (3176, 0.0), (3177, 0.0), (3179, 0.0), (3185, 0.0), (3189, 0.0), (3190, 0.0), (3191, 0.0), (3197, 0.0), (3202, 0.0), (3204, 0.0), (3209, 0.0), (3213, 0.0), (3217, 0.0), (3229, 0.0), (3231, 0.0), (3236, 0.0), (3244, 0.0), (3247, 0.0), (3250, 0.0), (3251, 0.0), (3255, 0.0), (3261, 0.0), (3263, 0.0), (3265, 0.0), (3266, 0.0), (3272, 0.0), (3279, 0.0), (3286, 0.0), (3287, 0.0), (3288, 0.0), (3295, 0.0), (3305, 0.0), (3309, 0.0), (3310, 0.0), (3319, 0.0), (3320, 0.0), (3321, 0.0), (3323, 0.0), (3324, 0.0), (3333, 0.0), (3339, 0.0), (3345, 0.0), (3350, 0.0), (3361, 0.0), (3366, 0.0), (3367, 0.0), (3368, 0.0), (3371, 0.0), (3383, 0.0), (3387, 0.0), (3394, 0.0), (3411, 0.0), (3420, 0.0), (3422, 0.0), (3424, 0.0), (3427, 0.0), (3428, 0.0), (3439, 0.0), (3442, 0.0), (3443, 0.0), (3446, 0.0), (3448, 0.0), (3451, 0.0), (3454, 0.0), (3457, 0.0), (3459, 0.0), (3461, 0.0), (3462, 0.0), (3467, 0.0), (3470, 0.0), (3473, 0.0), (3475, 0.0), (3476, 0.0), (3481, 0.0), (3482, 0.0), (3485, 0.0), (3486, 0.0), (3489, 0.0), (3494, 0.0), (3495, 0.0), (3505, 0.0), (3509, 0.0), (3510, 0.0), (3513, 0.0), (3519, 0.0), (3525, 0.0), (3529, 0.0), (3530, 0.0), (3532, 0.0), (3533, 0.0), (3539, 0.0), (3547, 0.0), (3549, 0.0), (3554, 0.0), (3555, 0.0), (3559, 0.0), (3562, 0.0), (3566, 0.0), (3567, 0.0), (3572, 0.0), (3573, 0.0), (3576, 0.0), (3580, 0.0), (3581, 0.0), (3583, 0.0), (3584, 0.0), (3585, 0.0), (3591, 0.0), (3594, 0.0), (3598, 0.0), (3600, 0.0), (3603, 0.0), (3605, 0.0), (3607, 0.0), (3610, 0.0), (3617, 0.0), (3625, 0.0), (3628, 0.0), (3630, 0.0), (3632, 0.0), (3648, 0.0), (3649, 0.0), (3662, 0.0), (3663, 0.0), (3664, 0.0), (3671, 0.0), (3676, 0.0), (3679, 0.0), (3682, 0.0), (3683, 0.0), (3685, 0.0), (3686, 0.0), (3688, 0.0), (3690, 0.0), (3693, 0.0), (3697, 0.0), (3698, 0.0), (3700, 0.0), (3702, 0.0), (3703, 0.0), (3709, 0.0), (3715, 0.0), (3716, 0.0), (3717, 0.0), (3720, 0.0), (3721, 0.0), (3723, 0.0), (3724, 0.0), (3726, 0.0), (3735, 0.0), (3738, 0.0), (3740, 0.0), (3743, 0.0), (3744, 0.0), (3746, 0.0), (3753, 0.0), (3758, 0.0), (3760, 0.0), (3761, 0.0), (3764, 0.0), (3774, 0.0), (3776, 0.0), (3782, 0.0), (3785, 0.0), (3786, 0.0), (3787, 0.0), (3789, 0.0), (3790, 0.0), (3791, 0.0), (3798, 0.0), (3800, 0.0), (3803, 0.0), (3805, 0.0), (3808, 0.0), (3810, 0.0), (3812, 0.0), (3814, 0.0), (3815, 0.0), (3818, 0.0), (3820, 0.0), (3825, 0.0), (3831, 0.0), (3833, 0.0), (3837, 0.0), (3838, 0.0), (3843, 0.0), (3846, 0.0), (3847, 0.0), (3850, 0.0), (3852, 0.0), (3856, 0.0), (3858, 0.0), (3859, 0.0), (3861, 0.0), (3864, 0.0), (3871, 0.0), (3872, 0.0), (3879, 0.0), (3886, 0.0), (3887, 0.0), (3891, 0.0), (3897, 0.0), (3907, 0.0), (3912, 0.0), (3914, 0.0), (3916, 0.0), (3918, 0.0), (3921, 0.0), (3923, 0.0), (3926, 0.0), (3929, 0.0), (3931, 0.0), (3934, 0.0), (3936, 0.0), (3938, 0.0), (3943, 0.0), (3944, 0.0), (3948, 0.0), (3950, 0.0), (3958, 0.0), (3963, 0.0), (3964, 0.0), (3969, 0.0), (3970, 0.0), (3971, 0.0), (3972, 0.0), (3976, 0.0), (3977, 0.0), (3979, 0.0), (3980, 0.0), (3981, 0.0), (3985, 0.0), (3988, 0.0), (3989, 0.0), (3991, 0.0), (3994, 0.0), (3998, 0.0), (4001, 0.0), (4003, 0.0), (4006, 0.0), (4008, 0.0), (4009, 0.0), (4010, 0.0), (4018, 0.0), (4021, 0.0), (4022, 0.0), (4026, 0.0), (4027, 0.0), (4028, 0.0), (4034, 0.0), (4037, 0.0), (4039, 0.0), (4041, 0.0), (4044, 0.0), (4050, 0.0), (4055, 0.0), (4057, 0.0), (4058, 0.0), (4061, 0.0), (4063, 0.0), (4064, 0.0), (4065, 0.0), (4072, 0.0), (4076, 0.0), (4077, 0.0), (4084, 0.0), (4086, 0.0), (4090, 0.0), (4099, 0.0), (4100, 0.0), (4106, 0.0), (4109, 0.0), (4110, 0.0), (4112, 0.0), (4120, 0.0), (4125, 0.0), (4128, 0.0), (4131, 0.0), (4134, 0.0), (4144, 0.0), (4146, 0.0), (4149, 0.0), (4157, 0.0), (4159, 0.0), (4162, 0.0), (4166, 0.0), (4167, 0.0), (4170, 0.0), (4173, 0.0), (4177, 0.0), (4179, 0.0), (4185, 0.0), (4190, 0.0), (4191, 0.0), (4193, 0.0), (4195, 0.0), (4196, 0.0), (4204, 0.0), (4207, 0.0), (4208, 0.0), (4210, 0.0), (4211, 0.0), (4212, 0.0), (4214, 0.0), (4215, 0.0), (4218, 0.0), (4229, 0.0), (4234, 0.0), (4236, 0.0), (4237, 0.0), (4238, 0.0), (4241, 0.0), (4250, 0.0), (4251, 0.0), (4252, 0.0), (4253, 0.0), (4256, 0.0), (4260, 0.0), (4270, 0.0), (4272, 0.0), (4274, 0.0), (4276, 0.0), (4279, 0.0), (4281, 0.0), (4285, 0.0), (4291, 0.0), (4294, 0.0), (4297, 0.0), (4300, 0.0), (4302, 0.0), (4307, 0.0), (4310, 0.0), (4313, 0.0), (4314, 0.0), (4315, 0.0), (4316, 0.0), (4317, 0.0), (4324, 0.0), (4331, 0.0), (4332, 0.0), (4337, 0.0), (4341, 0.0), (4342, 0.0), (4346, 0.0), (4347, 0.0), (4351, 0.0), (4352, 0.0), (4353, 0.0), (4358, 0.0), (4364, 0.0), (4367, 0.0), (4370, 0.0), (4372, 0.0), (4373, 0.0), (4378, 0.0), (4384, 0.0), (4385, 0.0), (4388, 0.0), (4389, 0.0), (4392, 0.0), (4393, 0.0), (4405, 0.0), (4408, 0.0), (4410, 0.0), (4413, 0.0), (4415, 0.0), (4417, 0.0), (4421, 0.0), (4424, 0.0), (4425, 0.0), (4426, 0.0), (4433, 0.0), (4434, 0.0), (4438, 0.0), (4439, 0.0), (4449, 0.0), (4451, 0.0), (4452, 0.0), (4453, 0.0), (4454, 0.0), (4455, 0.0), (4456, 0.0), (4459, 0.0), (4462, 0.0), (4466, 0.0), (4467, 0.0), (4478, 0.0), (4480, 0.0), (4485, 0.0), (4488, 0.0), (4493, 0.0), (4498, 0.0), (4499, 0.0), (4500, 0.0), (4506, 0.0), (4508, 0.0), (4514, 0.0), (4518, 0.0), (4519, 0.0), (4525, 0.0), (4526, 0.0), (4527, 0.0), (4532, 0.0), (4534, 0.0), (4537, 0.0), (4538, 0.0), (4539, 0.0), (4541, 0.0), (4547, 0.0), (4548, 0.0), (4552, 0.0), (4556, 0.0), (4561, 0.0), (4562, 0.0), (4564, 0.0), (4568, 0.0), (4569, 0.0), (4570, 0.0), (4578, 0.0), (4580, 0.0), (4582, 0.0), (4583, 0.0), (4585, 0.0), (4588, 0.0), (4592, 0.0), (4596, 0.0), (4597, 0.0), (4600, 0.0), (4609, 0.0), (4618, 0.0), (4622, 0.0), (4628, 0.0), (4630, 0.0), (4631, 0.0), (4635, 0.0), (4644, 0.0), (4645, 0.0), (4647, 0.0), (4648, 0.0), (4651, 0.0), (4653, 0.0), (4654, 0.0), (4665, 0.0), (4667, 0.0), (4671, 0.0), (4672, 0.0), (4676, 0.0), (4681, 0.0), (4682, 0.0), (4683, 0.0), (4688, 0.0), (4689, 0.0), (4695, 0.0), (4697, 0.0), (4698, 0.0), (4700, 0.0), (4708, 0.0), (4711, 0.0), (4714, 0.0), (4720, 0.0), (4725, 0.0), (4726, 0.0), (4730, 0.0), (4738, 0.0), (4740, 0.0), (4741, 0.0), (4745, 0.0), (4746, 0.0), (4750, 0.0), (4751, 0.0), (4754, 0.0), (4758, 0.0), (4759, 0.0)]\n"
          ]
        }
      ]
    },
    {
      "cell_type": "code",
      "source": [
        "print('top 30 movies suggested for you: \\n')\n",
        "\n",
        "i = 1\n",
        "\n",
        "for movie in sorted_Similar_Score:\n",
        "  index = movie[0]\n",
        "  title_from_index = df[df.index == index]['Movie_Title'].values[0]\n",
        "  if (i<31):\n",
        "    print(i, '.', title_from_index)\n",
        "    i+=1"
      ],
      "metadata": {
        "colab": {
          "base_uri": "https://localhost:8080/"
        },
        "id": "kz5M3BQoWyeX",
        "outputId": "af4bbc1a-3abb-428a-8269-21efd43b7de0"
      },
      "execution_count": 32,
      "outputs": [
        {
          "output_type": "stream",
          "name": "stdout",
          "text": [
            "top 30 movies suggested for you: \n",
            "\n",
            "1 . Sea of Love\n",
            "2 . City Hall\n",
            "3 . The Jerky Boys\n",
            "4 . Domestic Disturbance\n",
            "5 . Basic\n",
            "6 . Insomnia\n",
            "7 . The Insider\n",
            "8 . The Godfather: Part III\n",
            "9 . Scarface\n",
            "10 . Another Happy Day\n",
            "11 . Donnie Brasco\n",
            "12 . Analyze This\n",
            "13 . Secret Window\n",
            "14 . Frequency\n",
            "15 . L.A. Confidential\n",
            "16 . Bringing Out the Dead\n",
            "17 . 88 Minutes\n",
            "18 . The Merchant of Venice\n",
            "19 . The Son of No One\n",
            "20 . Jack and Jill\n",
            "21 . Glengarry Glen Ross\n",
            "22 . Se7en\n",
            "23 . Edmond\n",
            "24 . The Bone Collector\n",
            "25 . Drop Dead Gorgeous\n",
            "26 . Mercury Rising\n",
            "27 . Basquiat\n",
            "28 . Man on a Ledge\n",
            "29 . Danny Collins\n",
            "30 . Factory Girl\n"
          ]
        }
      ]
    },
    {
      "cell_type": "markdown",
      "source": [
        "**Top 10 Movie recommendation system**"
      ],
      "metadata": {
        "id": "RZKsFpGZXeog"
      }
    },
    {
      "cell_type": "code",
      "source": [
        "Movie_name = input('Enter your favourite movie name: ')\n",
        "\n",
        "list_of_all_titles = df['Movie_Title'].tolist()\n",
        "\n",
        "Find_Close_Match = difflib.get_close_matches(Movie_name, list_of_all_titles)\n",
        "\n",
        "Close_Match = Find_Close_Match[0]\n",
        "\n",
        "Index_of_Movie = df[df.Movie_Title == Close_Match]['Movie_ID'].values[0]\n",
        "\n",
        "Recommendation_Score = list(enumerate(similarity_score[Index_of_Movie]))\n",
        "\n",
        "sorted_Similar_Movies = sorted(Recommendation_Score, key = lambda x:x[1], reverse = True)\n",
        "\n",
        "print('Top 10 movies suggested for you: \\n')\n",
        "\n",
        "i = 1\n",
        "\n",
        "for movie in sorted_Similar_Movies:\n",
        "  index = movie[0]\n",
        "  title_from_index = df[df.Movie_ID == index]['Movie_Title'].values\n",
        "  if (i<11):\n",
        "    print(i, '.', title_from_index)\n",
        "    i+=1\n",
        ""
      ],
      "metadata": {
        "colab": {
          "base_uri": "https://localhost:8080/"
        },
        "id": "V53WSaJtXLdr",
        "outputId": "a7a5e8d9-0c2d-41d8-9f31-b98442f64a10"
      },
      "execution_count": 33,
      "outputs": [
        {
          "output_type": "stream",
          "name": "stdout",
          "text": [
            "Enter your favourite movie name: avtaar\n",
            "Top 10 movies suggested for you: \n",
            "\n",
            "1 . ['Avatar']\n",
            "2 . ['The Girl on the Train']\n",
            "3 . ['Act of Valor']\n",
            "4 . ['Donnie Darko']\n",
            "5 . ['Precious']\n",
            "6 . ['Freaky Friday']\n",
            "7 . ['The Opposite Sex']\n",
            "8 . ['Heaven is for Real']\n",
            "9 . ['Run Lola Run']\n",
            "10 . ['Elizabethtown']\n"
          ]
        }
      ]
    },
    {
      "cell_type": "markdown",
      "source": [
        "**Explaination**\n",
        "> The project is a Content-Based Movie Recommendation System that uses metadata like genres, keywords, cast, and directors to suggest movies similar to a user’s favorite. It preprocesses the data by combining relevant features, applies the TF-IDF technique for vectorizing text data, and calculates movie similarities using cosine similarity. Users can input a movie title, and the system finds the closest match, then recommends the most similar movies. The project highlights data preprocessing, natural language processing, and recommendation system techniques. It is an interactive and scalable solution for personalized movie recommendations.\n",
        "\n"
      ],
      "metadata": {
        "id": "QE4mVVz2b6yv"
      }
    }
  ]
}